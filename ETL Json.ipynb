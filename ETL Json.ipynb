{
 "cells": [
  {
   "cell_type": "code",
   "execution_count": 0,
   "metadata": {
    "application/vnd.databricks.v1+cell": {
     "cellMetadata": {
      "byteLimit": 2048000,
      "rowLimit": 10000
     },
     "inputWidgets": {},
     "nuid": "279faf2b-9efb-4757-a4a5-476798608d90",
     "showTitle": false,
     "title": ""
    }
   },
   "outputs": [
    {
     "output_type": "display_data",
     "data": {
      "text/plain": [
       "\u001B[0;31m---------------------------------------------------------------------------\u001B[0m\n",
       "\u001B[0;31mExecutionError\u001B[0m                            Traceback (most recent call last)\n",
       "File \u001B[0;32m<command-4378632227520747>, line 1\u001B[0m\n",
       "\u001B[0;32m----> 1\u001B[0m \u001B[43mdbutils\u001B[49m\u001B[38;5;241;43m.\u001B[39;49m\u001B[43mfs\u001B[49m\u001B[38;5;241;43m.\u001B[39;49m\u001B[43mmount\u001B[49m\u001B[43m(\u001B[49m\n",
       "\u001B[1;32m      2\u001B[0m \u001B[43msource\u001B[49m\u001B[43m \u001B[49m\u001B[38;5;241;43m=\u001B[39;49m\u001B[43m \u001B[49m\u001B[38;5;124;43m\"\u001B[39;49m\u001B[38;5;124;43mwasbs://raw@saunextadls.blob.core.windows.net\u001B[39;49m\u001B[38;5;124;43m\"\u001B[39;49m\u001B[43m,\u001B[49m\n",
       "\u001B[1;32m      3\u001B[0m \u001B[43mmount_point\u001B[49m\u001B[43m \u001B[49m\u001B[38;5;241;43m=\u001B[39;49m\u001B[43m \u001B[49m\u001B[38;5;124;43m\"\u001B[39;49m\u001B[38;5;124;43m/mnt/saunextadls/raw\u001B[39;49m\u001B[38;5;124;43m\"\u001B[39;49m\u001B[43m,\u001B[49m\n",
       "\u001B[1;32m      4\u001B[0m \u001B[43mextra_configs\u001B[49m\u001B[43m \u001B[49m\u001B[38;5;241;43m=\u001B[39;49m\u001B[43m \u001B[49m\u001B[43m{\u001B[49m\u001B[38;5;124;43m\"\u001B[39;49m\u001B[38;5;124;43mfs.azure.account.key.saunextadls.blob.core.windows.net\u001B[39;49m\u001B[38;5;124;43m\"\u001B[39;49m\u001B[43m:\u001B[49m\u001B[38;5;124;43m\"\u001B[39;49m\u001B[38;5;124;43mDsZWJs7JVVHZz1I7GKyclV8ejCdj0V2UkqMlgAp6QyVOw5rvrHvmVTgwcThdHUymWg7MXon65/0z+AStj4Yiug==\u001B[39;49m\u001B[38;5;124;43m\"\u001B[39;49m\u001B[43m}\u001B[49m\u001B[43m)\u001B[49m\n",
       "\n",
       "File \u001B[0;32m/databricks/python_shell/dbruntime/dbutils.py:362\u001B[0m, in \u001B[0;36mDBUtils.FSHandler.prettify_exception_message.<locals>.f_with_exception_handling\u001B[0;34m(*args, **kwargs)\u001B[0m\n",
       "\u001B[1;32m    360\u001B[0m exc\u001B[38;5;241m.\u001B[39m__context__ \u001B[38;5;241m=\u001B[39m \u001B[38;5;28;01mNone\u001B[39;00m\n",
       "\u001B[1;32m    361\u001B[0m exc\u001B[38;5;241m.\u001B[39m__cause__ \u001B[38;5;241m=\u001B[39m \u001B[38;5;28;01mNone\u001B[39;00m\n",
       "\u001B[0;32m--> 362\u001B[0m \u001B[38;5;28;01mraise\u001B[39;00m exc\n",
       "\n",
       "\u001B[0;31mExecutionError\u001B[0m: An error occurred while calling o405.mount.\n",
       ": java.rmi.RemoteException: java.lang.IllegalArgumentException: requirement failed: Directory already mounted: /mnt/saunextadls/raw; nested exception is: \n",
       "\tjava.lang.IllegalArgumentException: requirement failed: Directory already mounted: /mnt/saunextadls/raw\n",
       "\tat com.databricks.backend.daemon.data.client.DbfsClient.send0(DbfsClient.scala:135)\n",
       "\tat com.databricks.backend.daemon.data.client.DbfsClient.sendIdempotent(DbfsClient.scala:69)\n",
       "\tat com.databricks.backend.daemon.dbutils.DBUtilsCore.createOrUpdateMount(DBUtilsCore.scala:1057)\n",
       "\tat com.databricks.backend.daemon.dbutils.DBUtilsCore.$anonfun$mount$1(DBUtilsCore.scala:1083)\n",
       "\tat com.databricks.logging.UsageLogging.$anonfun$recordOperation$1(UsageLogging.scala:571)\n",
       "\tat com.databricks.logging.UsageLogging.executeThunkAndCaptureResultTags$1(UsageLogging.scala:666)\n",
       "\tat com.databricks.logging.UsageLogging.$anonfun$recordOperationWithResultTags$4(UsageLogging.scala:684)\n",
       "\tat com.databricks.logging.UsageLogging.$anonfun$withAttributionContext$1(UsageLogging.scala:426)\n",
       "\tat scala.util.DynamicVariable.withValue(DynamicVariable.scala:62)\n",
       "\tat com.databricks.logging.AttributionContext$.withValue(AttributionContext.scala:196)\n",
       "\tat com.databricks.logging.UsageLogging.withAttributionContext(UsageLogging.scala:424)\n",
       "\tat com.databricks.logging.UsageLogging.withAttributionContext$(UsageLogging.scala:418)\n",
       "\tat com.databricks.backend.daemon.dbutils.FSUtils.withAttributionContext(DBUtilsCore.scala:69)\n",
       "\tat com.databricks.logging.UsageLogging.withAttributionTags(UsageLogging.scala:470)\n",
       "\tat com.databricks.logging.UsageLogging.withAttributionTags$(UsageLogging.scala:455)\n",
       "\tat com.databricks.backend.daemon.dbutils.FSUtils.withAttributionTags(DBUtilsCore.scala:69)\n",
       "\tat com.databricks.logging.UsageLogging.recordOperationWithResultTags(UsageLogging.scala:661)\n",
       "\tat com.databricks.logging.UsageLogging.recordOperationWithResultTags$(UsageLogging.scala:580)\n",
       "\tat com.databricks.backend.daemon.dbutils.FSUtils.recordOperationWithResultTags(DBUtilsCore.scala:69)\n",
       "\tat com.databricks.logging.UsageLogging.recordOperation(UsageLogging.scala:571)\n",
       "\tat com.databricks.logging.UsageLogging.recordOperation$(UsageLogging.scala:540)\n",
       "\tat com.databricks.backend.daemon.dbutils.FSUtils.recordOperation(DBUtilsCore.scala:69)\n",
       "\tat com.databricks.backend.daemon.dbutils.FSUtils.recordDbutilsFsOp(DBUtilsCore.scala:133)\n",
       "\tat com.databricks.backend.daemon.dbutils.DBUtilsCore.mount(DBUtilsCore.scala:1077)\n",
       "\tat sun.reflect.NativeMethodAccessorImpl.invoke0(Native Method)\n",
       "\tat sun.reflect.NativeMethodAccessorImpl.invoke(NativeMethodAccessorImpl.java:62)\n",
       "\tat sun.reflect.DelegatingMethodAccessorImpl.invoke(DelegatingMethodAccessorImpl.java:43)\n",
       "\tat java.lang.reflect.Method.invoke(Method.java:498)\n",
       "\tat py4j.reflection.MethodInvoker.invoke(MethodInvoker.java:244)\n",
       "\tat py4j.reflection.ReflectionEngine.invoke(ReflectionEngine.java:397)\n",
       "\tat py4j.Gateway.invoke(Gateway.java:306)\n",
       "\tat py4j.commands.AbstractCommand.invokeMethod(AbstractCommand.java:132)\n",
       "\tat py4j.commands.CallCommand.execute(CallCommand.java:79)\n",
       "\tat py4j.ClientServerConnection.waitForCommands(ClientServerConnection.java:195)\n",
       "\tat py4j.ClientServerConnection.run(ClientServerConnection.java:115)\n",
       "\tat java.lang.Thread.run(Thread.java:750)\n",
       "Caused by: java.lang.IllegalArgumentException: requirement failed: Directory already mounted: /mnt/saunextadls/raw\n",
       "\tat scala.Predef$.require(Predef.scala:281)\n",
       "\tat com.databricks.backend.daemon.data.server.DefaultMetadataManager.$anonfun$insertMount$1(MetadataManager.scala:580)\n",
       "\tat com.databricks.backend.daemon.data.server.DefaultMetadataManager.$anonfun$modifyAndVerify$2(MetadataManager.scala:948)\n",
       "\tat scala.runtime.java8.JFunction0$mcV$sp.apply(JFunction0$mcV$sp.java:23)\n",
       "\tat com.databricks.backend.daemon.data.server.DefaultMetadataManager.withRetries(MetadataManager.scala:729)\n",
       "\tat com.databricks.backend.daemon.data.server.DefaultMetadataManager.modifyAndVerify(MetadataManager.scala:937)\n",
       "\tat com.databricks.backend.daemon.data.server.DefaultMetadataManager.insertMount(MetadataManager.scala:588)\n",
       "\tat com.databricks.backend.daemon.data.server.handler.MountHandler.receive(MountHandler.scala:120)\n",
       "\tat com.databricks.backend.daemon.data.server.session.SessionContext.$anonfun$queryHandlers$1(SessionContext.scala:54)\n",
       "\tat com.databricks.backend.daemon.data.server.session.SessionContext.$anonfun$queryHandlers$1$adapted(SessionContext.scala:53)\n",
       "\tat scala.collection.immutable.List.foreach(List.scala:431)\n",
       "\tat com.databricks.backend.daemon.data.server.session.SessionContext.queryHandlers(SessionContext.scala:53)\n",
       "\tat com.databricks.backend.daemon.data.server.DbfsServerBackend$$anonfun$receive$4.$anonfun$applyOrElse$5(DbfsServerBackend.scala:388)\n",
       "\tat com.databricks.logging.UsageLogging.$anonfun$withAttributionContext$1(UsageLogging.scala:426)\n",
       "\tat scala.util.DynamicVariable.withValue(DynamicVariable.scala:62)\n",
       "\tat com.databricks.logging.AttributionContext$.withValue(AttributionContext.scala:216)\n",
       "\tat com.databricks.logging.UsageLogging.withAttributionContext(UsageLogging.scala:424)\n",
       "\tat com.databricks.logging.UsageLogging.withAttributionContext$(UsageLogging.scala:418)\n",
       "\tat com.databricks.rpc.ServerBackend.withAttributionContext(ServerBackend.scala:22)\n",
       "\tat com.databricks.logging.UsageLogging.withAttributionTags(UsageLogging.scala:472)\n",
       "\tat com.databricks.logging.UsageLogging.withAttributionTags$(UsageLogging.scala:455)\n",
       "\tat com.databricks.rpc.ServerBackend.withAttributionTags(ServerBackend.scala:22)\n",
       "\tat com.databricks.backend.daemon.data.server.DbfsServerBackend$$anonfun$receive$4.applyOrElse(DbfsServerBackend.scala:388)\n",
       "\tat com.databricks.backend.daemon.data.server.DbfsServerBackend$$anonfun$receive$4.applyOrElse(DbfsServerBackend.scala:332)\n",
       "\tat com.databricks.rpc.ServerBackend.$anonfun$internalReceive0$2(ServerBackend.scala:174)\n",
       "\tat com.databricks.rpc.ServerBackend$$anonfun$commonReceive$1.applyOrElse(ServerBackend.scala:200)\n",
       "\tat com.databricks.rpc.ServerBackend$$anonfun$commonReceive$1.applyOrElse(ServerBackend.scala:200)\n",
       "\tat com.databricks.rpc.ServerBackend.internalReceive0(ServerBackend.scala:171)\n",
       "\tat com.databricks.rpc.ServerBackend.$anonfun$internalReceive$1(ServerBackend.scala:147)\n",
       "\tat com.databricks.logging.UsageLogging.$anonfun$recordOperation$1(UsageLogging.scala:573)\n",
       "\tat com.databricks.logging.UsageLogging.executeThunkAndCaptureResultTags$1(UsageLogging.scala:668)\n",
       "\tat com.databricks.logging.UsageLogging.$anonfun$recordOperationWithResultTags$4(UsageLogging.scala:686)\n",
       "\tat com.databricks.logging.UsageLogging.$anonfun$withAttributionContext$1(UsageLogging.scala:426)\n",
       "\tat scala.util.DynamicVariable.withValue(DynamicVariable.scala:62)\n",
       "\tat com.databricks.logging.AttributionContext$.withValue(AttributionContext.scala:216)\n",
       "\tat com.databricks.logging.UsageLogging.withAttributionContext(UsageLogging.scala:424)\n",
       "\tat com.databricks.logging.UsageLogging.withAttributionContext$(UsageLogging.scala:418)\n",
       "\tat com.databricks.rpc.ServerBackend.withAttributionContext(ServerBackend.scala:22)\n",
       "\tat com.databricks.logging.UsageLogging.withAttributionTags(UsageLogging.scala:472)\n",
       "\tat com.databricks.logging.UsageLogging.withAttributionTags$(UsageLogging.scala:455)\n",
       "\tat com.databricks.rpc.ServerBackend.withAttributionTags(ServerBackend.scala:22)\n",
       "\tat com.databricks.logging.UsageLogging.recordOperationWithResultTags(UsageLogging.scala:663)\n",
       "\tat com.databricks.logging.UsageLogging.recordOperationWithResultTags$(UsageLogging.scala:582)\n",
       "\tat com.databricks.rpc.ServerBackend.recordOperationWithResultTags(ServerBackend.scala:22)\n",
       "\tat com.databricks.logging.UsageLogging.recordOperation(UsageLogging.scala:573)\n",
       "\tat com.databricks.logging.UsageLogging.recordOperation$(UsageLogging.scala:542)\n",
       "\tat com.databricks.rpc.ServerBackend.recordOperation(ServerBackend.scala:22)\n",
       "\tat com.databricks.rpc.ServerBackend.internalReceive(ServerBackend.scala:147)\n",
       "\tat com.databricks.rpc.JettyServer$RequestManager.handleRPC(JettyServer.scala:1015)\n",
       "\tat com.databricks.rpc.JettyServer$RequestManager.handleRequestAndRespond(JettyServer.scala:936)\n",
       "\tat com.databricks.rpc.JettyServer$RequestManager.$anonfun$handleHttp$6(JettyServer.scala:540)\n",
       "\tat com.databricks.rpc.JettyServer$RequestManager.$anonfun$handleHttp$6$adapted(JettyServer.scala:515)\n",
       "\tat com.databricks.logging.activity.ActivityContextFactory$.$anonfun$withActivityInternal$3(ActivityContextFactory.scala:412)\n",
       "\tat com.databricks.logging.UsageLogging.$anonfun$withAttributionContext$1(UsageLogging.scala:426)\n",
       "\tat scala.util.DynamicVariable.withValue(DynamicVariable.scala:62)\n",
       "\tat com.databricks.logging.AttributionContext$.withValue(AttributionContext.scala:216)\n",
       "\tat com.databricks.logging.UsageLogging.withAttributionContext(UsageLogging.scala:424)\n",
       "\tat com.databricks.logging.UsageLogging.withAttributionContext$(UsageLogging.scala:418)\n",
       "\tat com.databricks.logging.activity.ActivityContextFactory$.withAttributionContext(ActivityContextFactory.scala:54)\n",
       "\tat com.databricks.logging.activity.ActivityContextFactory$.withActivityInternal(ActivityContextFactory.scala:412)\n",
       "\tat com.databricks.logging.activity.ActivityContextFactory$.withServiceRequestActivity(ActivityContextFactory.scala:169)\n",
       "\tat com.databricks.rpc.JettyServer$RequestManager.handleHttp(JettyServer.scala:515)\n",
       "\tat com.databricks.rpc.JettyServer$RequestManager.doPost(JettyServer.scala:404)\n",
       "\tat javax.servlet.http.HttpServlet.service(HttpServlet.java:665)\n",
       "\tat com.databricks.rpc.HttpServletWithPatch.service(HttpServletWithPatch.scala:33)\n",
       "\tat javax.servlet.http.HttpServlet.service(HttpServlet.java:750)\n",
       "\tat org.eclipse.jetty.servlet.ServletHolder.handle(ServletHolder.java:848)\n",
       "\tat org.eclipse.jetty.servlet.ServletHandler.doHandle(ServletHandler.java:585)\n",
       "\tat org.eclipse.jetty.servlet.ServletHandler.doScope(ServletHandler.java:515)\n",
       "\tat org.eclipse.jetty.server.handler.ScopedHandler.handle(ScopedHandler.java:141)\n",
       "\tat org.eclipse.jetty.server.handler.HandlerWrapper.handle(HandlerWrapper.java:134)\n",
       "\tat org.eclipse.jetty.server.Server.handle(Server.java:539)\n",
       "\tat org.eclipse.jetty.server.HttpChannel.handle(HttpChannel.java:333)\n",
       "\tat org.eclipse.jetty.server.HttpConnection.onFillable(HttpConnection.java:251)\n",
       "\tat org.eclipse.jetty.io.AbstractConnection$ReadCallback.succeeded(AbstractConnection.java:283)\n",
       "\tat org.eclipse.jetty.io.FillInterest.fillable(FillInterest.java:108)\n",
       "\tat org.eclipse.jetty.io.SelectChannelEndPoint$2.run(SelectChannelEndPoint.java:93)\n",
       "\tat org.eclipse.jetty.util.thread.strategy.ExecuteProduceConsume.executeProduceConsume(ExecuteProduceConsume.java:303)\n",
       "\tat org.eclipse.jetty.util.thread.strategy.ExecuteProduceConsume.produceConsume(ExecuteProduceConsume.java:148)\n",
       "\tat org.eclipse.jetty.util.thread.strategy.ExecuteProduceConsume.run(ExecuteProduceConsume.java:136)\n",
       "\tat com.databricks.rpc.InstrumentedQueuedThreadPool$$anon$1.$anonfun$run$1(InstrumentedQueuedThreadPool.scala:83)\n",
       "\tat scala.runtime.java8.JFunction0$mcV$sp.apply(JFunction0$mcV$sp.java:23)\n",
       "\tat com.databricks.instrumentation.QueuedThreadPoolInstrumenter.trackActiveThreads(QueuedThreadPoolInstrumenter.scala:66)\n",
       "\tat com.databricks.instrumentation.QueuedThreadPoolInstrumenter.trackActiveThreads$(QueuedThreadPoolInstrumenter.scala:63)\n",
       "\tat com.databricks.rpc.InstrumentedQueuedThreadPool.trackActiveThreads(InstrumentedQueuedThreadPool.scala:49)\n",
       "\tat com.databricks.rpc.InstrumentedQueuedThreadPool$$anon$1.run(InstrumentedQueuedThreadPool.scala:78)\n",
       "\tat org.eclipse.jetty.util.thread.QueuedThreadPool.runJob(QueuedThreadPool.java:671)\n",
       "\tat org.eclipse.jetty.util.thread.QueuedThreadPool$2.run(QueuedThreadPool.java:589)\n",
       "\t... 1 more\n"
      ]
     },
     "metadata": {
      "application/vnd.databricks.v1+output": {
       "arguments": {},
       "data": "\u001B[0;31m---------------------------------------------------------------------------\u001B[0m\n\u001B[0;31mExecutionError\u001B[0m                            Traceback (most recent call last)\nFile \u001B[0;32m<command-4378632227520747>, line 1\u001B[0m\n\u001B[0;32m----> 1\u001B[0m \u001B[43mdbutils\u001B[49m\u001B[38;5;241;43m.\u001B[39;49m\u001B[43mfs\u001B[49m\u001B[38;5;241;43m.\u001B[39;49m\u001B[43mmount\u001B[49m\u001B[43m(\u001B[49m\n\u001B[1;32m      2\u001B[0m \u001B[43msource\u001B[49m\u001B[43m \u001B[49m\u001B[38;5;241;43m=\u001B[39;49m\u001B[43m \u001B[49m\u001B[38;5;124;43m\"\u001B[39;49m\u001B[38;5;124;43mwasbs://raw@saunextadls.blob.core.windows.net\u001B[39;49m\u001B[38;5;124;43m\"\u001B[39;49m\u001B[43m,\u001B[49m\n\u001B[1;32m      3\u001B[0m \u001B[43mmount_point\u001B[49m\u001B[43m \u001B[49m\u001B[38;5;241;43m=\u001B[39;49m\u001B[43m \u001B[49m\u001B[38;5;124;43m\"\u001B[39;49m\u001B[38;5;124;43m/mnt/saunextadls/raw\u001B[39;49m\u001B[38;5;124;43m\"\u001B[39;49m\u001B[43m,\u001B[49m\n\u001B[1;32m      4\u001B[0m \u001B[43mextra_configs\u001B[49m\u001B[43m \u001B[49m\u001B[38;5;241;43m=\u001B[39;49m\u001B[43m \u001B[49m\u001B[43m{\u001B[49m\u001B[38;5;124;43m\"\u001B[39;49m\u001B[38;5;124;43mfs.azure.account.key.saunextadls.blob.core.windows.net\u001B[39;49m\u001B[38;5;124;43m\"\u001B[39;49m\u001B[43m:\u001B[49m\u001B[38;5;124;43m\"\u001B[39;49m\u001B[38;5;124;43mDsZWJs7JVVHZz1I7GKyclV8ejCdj0V2UkqMlgAp6QyVOw5rvrHvmVTgwcThdHUymWg7MXon65/0z+AStj4Yiug==\u001B[39;49m\u001B[38;5;124;43m\"\u001B[39;49m\u001B[43m}\u001B[49m\u001B[43m)\u001B[49m\n\nFile \u001B[0;32m/databricks/python_shell/dbruntime/dbutils.py:362\u001B[0m, in \u001B[0;36mDBUtils.FSHandler.prettify_exception_message.<locals>.f_with_exception_handling\u001B[0;34m(*args, **kwargs)\u001B[0m\n\u001B[1;32m    360\u001B[0m exc\u001B[38;5;241m.\u001B[39m__context__ \u001B[38;5;241m=\u001B[39m \u001B[38;5;28;01mNone\u001B[39;00m\n\u001B[1;32m    361\u001B[0m exc\u001B[38;5;241m.\u001B[39m__cause__ \u001B[38;5;241m=\u001B[39m \u001B[38;5;28;01mNone\u001B[39;00m\n\u001B[0;32m--> 362\u001B[0m \u001B[38;5;28;01mraise\u001B[39;00m exc\n\n\u001B[0;31mExecutionError\u001B[0m: An error occurred while calling o405.mount.\n: java.rmi.RemoteException: java.lang.IllegalArgumentException: requirement failed: Directory already mounted: /mnt/saunextadls/raw; nested exception is: \n\tjava.lang.IllegalArgumentException: requirement failed: Directory already mounted: /mnt/saunextadls/raw\n\tat com.databricks.backend.daemon.data.client.DbfsClient.send0(DbfsClient.scala:135)\n\tat com.databricks.backend.daemon.data.client.DbfsClient.sendIdempotent(DbfsClient.scala:69)\n\tat com.databricks.backend.daemon.dbutils.DBUtilsCore.createOrUpdateMount(DBUtilsCore.scala:1057)\n\tat com.databricks.backend.daemon.dbutils.DBUtilsCore.$anonfun$mount$1(DBUtilsCore.scala:1083)\n\tat com.databricks.logging.UsageLogging.$anonfun$recordOperation$1(UsageLogging.scala:571)\n\tat com.databricks.logging.UsageLogging.executeThunkAndCaptureResultTags$1(UsageLogging.scala:666)\n\tat com.databricks.logging.UsageLogging.$anonfun$recordOperationWithResultTags$4(UsageLogging.scala:684)\n\tat com.databricks.logging.UsageLogging.$anonfun$withAttributionContext$1(UsageLogging.scala:426)\n\tat scala.util.DynamicVariable.withValue(DynamicVariable.scala:62)\n\tat com.databricks.logging.AttributionContext$.withValue(AttributionContext.scala:196)\n\tat com.databricks.logging.UsageLogging.withAttributionContext(UsageLogging.scala:424)\n\tat com.databricks.logging.UsageLogging.withAttributionContext$(UsageLogging.scala:418)\n\tat com.databricks.backend.daemon.dbutils.FSUtils.withAttributionContext(DBUtilsCore.scala:69)\n\tat com.databricks.logging.UsageLogging.withAttributionTags(UsageLogging.scala:470)\n\tat com.databricks.logging.UsageLogging.withAttributionTags$(UsageLogging.scala:455)\n\tat com.databricks.backend.daemon.dbutils.FSUtils.withAttributionTags(DBUtilsCore.scala:69)\n\tat com.databricks.logging.UsageLogging.recordOperationWithResultTags(UsageLogging.scala:661)\n\tat com.databricks.logging.UsageLogging.recordOperationWithResultTags$(UsageLogging.scala:580)\n\tat com.databricks.backend.daemon.dbutils.FSUtils.recordOperationWithResultTags(DBUtilsCore.scala:69)\n\tat com.databricks.logging.UsageLogging.recordOperation(UsageLogging.scala:571)\n\tat com.databricks.logging.UsageLogging.recordOperation$(UsageLogging.scala:540)\n\tat com.databricks.backend.daemon.dbutils.FSUtils.recordOperation(DBUtilsCore.scala:69)\n\tat com.databricks.backend.daemon.dbutils.FSUtils.recordDbutilsFsOp(DBUtilsCore.scala:133)\n\tat com.databricks.backend.daemon.dbutils.DBUtilsCore.mount(DBUtilsCore.scala:1077)\n\tat sun.reflect.NativeMethodAccessorImpl.invoke0(Native Method)\n\tat sun.reflect.NativeMethodAccessorImpl.invoke(NativeMethodAccessorImpl.java:62)\n\tat sun.reflect.DelegatingMethodAccessorImpl.invoke(DelegatingMethodAccessorImpl.java:43)\n\tat java.lang.reflect.Method.invoke(Method.java:498)\n\tat py4j.reflection.MethodInvoker.invoke(MethodInvoker.java:244)\n\tat py4j.reflection.ReflectionEngine.invoke(ReflectionEngine.java:397)\n\tat py4j.Gateway.invoke(Gateway.java:306)\n\tat py4j.commands.AbstractCommand.invokeMethod(AbstractCommand.java:132)\n\tat py4j.commands.CallCommand.execute(CallCommand.java:79)\n\tat py4j.ClientServerConnection.waitForCommands(ClientServerConnection.java:195)\n\tat py4j.ClientServerConnection.run(ClientServerConnection.java:115)\n\tat java.lang.Thread.run(Thread.java:750)\nCaused by: java.lang.IllegalArgumentException: requirement failed: Directory already mounted: /mnt/saunextadls/raw\n\tat scala.Predef$.require(Predef.scala:281)\n\tat com.databricks.backend.daemon.data.server.DefaultMetadataManager.$anonfun$insertMount$1(MetadataManager.scala:580)\n\tat com.databricks.backend.daemon.data.server.DefaultMetadataManager.$anonfun$modifyAndVerify$2(MetadataManager.scala:948)\n\tat scala.runtime.java8.JFunction0$mcV$sp.apply(JFunction0$mcV$sp.java:23)\n\tat com.databricks.backend.daemon.data.server.DefaultMetadataManager.withRetries(MetadataManager.scala:729)\n\tat com.databricks.backend.daemon.data.server.DefaultMetadataManager.modifyAndVerify(MetadataManager.scala:937)\n\tat com.databricks.backend.daemon.data.server.DefaultMetadataManager.insertMount(MetadataManager.scala:588)\n\tat com.databricks.backend.daemon.data.server.handler.MountHandler.receive(MountHandler.scala:120)\n\tat com.databricks.backend.daemon.data.server.session.SessionContext.$anonfun$queryHandlers$1(SessionContext.scala:54)\n\tat com.databricks.backend.daemon.data.server.session.SessionContext.$anonfun$queryHandlers$1$adapted(SessionContext.scala:53)\n\tat scala.collection.immutable.List.foreach(List.scala:431)\n\tat com.databricks.backend.daemon.data.server.session.SessionContext.queryHandlers(SessionContext.scala:53)\n\tat com.databricks.backend.daemon.data.server.DbfsServerBackend$$anonfun$receive$4.$anonfun$applyOrElse$5(DbfsServerBackend.scala:388)\n\tat com.databricks.logging.UsageLogging.$anonfun$withAttributionContext$1(UsageLogging.scala:426)\n\tat scala.util.DynamicVariable.withValue(DynamicVariable.scala:62)\n\tat com.databricks.logging.AttributionContext$.withValue(AttributionContext.scala:216)\n\tat com.databricks.logging.UsageLogging.withAttributionContext(UsageLogging.scala:424)\n\tat com.databricks.logging.UsageLogging.withAttributionContext$(UsageLogging.scala:418)\n\tat com.databricks.rpc.ServerBackend.withAttributionContext(ServerBackend.scala:22)\n\tat com.databricks.logging.UsageLogging.withAttributionTags(UsageLogging.scala:472)\n\tat com.databricks.logging.UsageLogging.withAttributionTags$(UsageLogging.scala:455)\n\tat com.databricks.rpc.ServerBackend.withAttributionTags(ServerBackend.scala:22)\n\tat com.databricks.backend.daemon.data.server.DbfsServerBackend$$anonfun$receive$4.applyOrElse(DbfsServerBackend.scala:388)\n\tat com.databricks.backend.daemon.data.server.DbfsServerBackend$$anonfun$receive$4.applyOrElse(DbfsServerBackend.scala:332)\n\tat com.databricks.rpc.ServerBackend.$anonfun$internalReceive0$2(ServerBackend.scala:174)\n\tat com.databricks.rpc.ServerBackend$$anonfun$commonReceive$1.applyOrElse(ServerBackend.scala:200)\n\tat com.databricks.rpc.ServerBackend$$anonfun$commonReceive$1.applyOrElse(ServerBackend.scala:200)\n\tat com.databricks.rpc.ServerBackend.internalReceive0(ServerBackend.scala:171)\n\tat com.databricks.rpc.ServerBackend.$anonfun$internalReceive$1(ServerBackend.scala:147)\n\tat com.databricks.logging.UsageLogging.$anonfun$recordOperation$1(UsageLogging.scala:573)\n\tat com.databricks.logging.UsageLogging.executeThunkAndCaptureResultTags$1(UsageLogging.scala:668)\n\tat com.databricks.logging.UsageLogging.$anonfun$recordOperationWithResultTags$4(UsageLogging.scala:686)\n\tat com.databricks.logging.UsageLogging.$anonfun$withAttributionContext$1(UsageLogging.scala:426)\n\tat scala.util.DynamicVariable.withValue(DynamicVariable.scala:62)\n\tat com.databricks.logging.AttributionContext$.withValue(AttributionContext.scala:216)\n\tat com.databricks.logging.UsageLogging.withAttributionContext(UsageLogging.scala:424)\n\tat com.databricks.logging.UsageLogging.withAttributionContext$(UsageLogging.scala:418)\n\tat com.databricks.rpc.ServerBackend.withAttributionContext(ServerBackend.scala:22)\n\tat com.databricks.logging.UsageLogging.withAttributionTags(UsageLogging.scala:472)\n\tat com.databricks.logging.UsageLogging.withAttributionTags$(UsageLogging.scala:455)\n\tat com.databricks.rpc.ServerBackend.withAttributionTags(ServerBackend.scala:22)\n\tat com.databricks.logging.UsageLogging.recordOperationWithResultTags(UsageLogging.scala:663)\n\tat com.databricks.logging.UsageLogging.recordOperationWithResultTags$(UsageLogging.scala:582)\n\tat com.databricks.rpc.ServerBackend.recordOperationWithResultTags(ServerBackend.scala:22)\n\tat com.databricks.logging.UsageLogging.recordOperation(UsageLogging.scala:573)\n\tat com.databricks.logging.UsageLogging.recordOperation$(UsageLogging.scala:542)\n\tat com.databricks.rpc.ServerBackend.recordOperation(ServerBackend.scala:22)\n\tat com.databricks.rpc.ServerBackend.internalReceive(ServerBackend.scala:147)\n\tat com.databricks.rpc.JettyServer$RequestManager.handleRPC(JettyServer.scala:1015)\n\tat com.databricks.rpc.JettyServer$RequestManager.handleRequestAndRespond(JettyServer.scala:936)\n\tat com.databricks.rpc.JettyServer$RequestManager.$anonfun$handleHttp$6(JettyServer.scala:540)\n\tat com.databricks.rpc.JettyServer$RequestManager.$anonfun$handleHttp$6$adapted(JettyServer.scala:515)\n\tat com.databricks.logging.activity.ActivityContextFactory$.$anonfun$withActivityInternal$3(ActivityContextFactory.scala:412)\n\tat com.databricks.logging.UsageLogging.$anonfun$withAttributionContext$1(UsageLogging.scala:426)\n\tat scala.util.DynamicVariable.withValue(DynamicVariable.scala:62)\n\tat com.databricks.logging.AttributionContext$.withValue(AttributionContext.scala:216)\n\tat com.databricks.logging.UsageLogging.withAttributionContext(UsageLogging.scala:424)\n\tat com.databricks.logging.UsageLogging.withAttributionContext$(UsageLogging.scala:418)\n\tat com.databricks.logging.activity.ActivityContextFactory$.withAttributionContext(ActivityContextFactory.scala:54)\n\tat com.databricks.logging.activity.ActivityContextFactory$.withActivityInternal(ActivityContextFactory.scala:412)\n\tat com.databricks.logging.activity.ActivityContextFactory$.withServiceRequestActivity(ActivityContextFactory.scala:169)\n\tat com.databricks.rpc.JettyServer$RequestManager.handleHttp(JettyServer.scala:515)\n\tat com.databricks.rpc.JettyServer$RequestManager.doPost(JettyServer.scala:404)\n\tat javax.servlet.http.HttpServlet.service(HttpServlet.java:665)\n\tat com.databricks.rpc.HttpServletWithPatch.service(HttpServletWithPatch.scala:33)\n\tat javax.servlet.http.HttpServlet.service(HttpServlet.java:750)\n\tat org.eclipse.jetty.servlet.ServletHolder.handle(ServletHolder.java:848)\n\tat org.eclipse.jetty.servlet.ServletHandler.doHandle(ServletHandler.java:585)\n\tat org.eclipse.jetty.servlet.ServletHandler.doScope(ServletHandler.java:515)\n\tat org.eclipse.jetty.server.handler.ScopedHandler.handle(ScopedHandler.java:141)\n\tat org.eclipse.jetty.server.handler.HandlerWrapper.handle(HandlerWrapper.java:134)\n\tat org.eclipse.jetty.server.Server.handle(Server.java:539)\n\tat org.eclipse.jetty.server.HttpChannel.handle(HttpChannel.java:333)\n\tat org.eclipse.jetty.server.HttpConnection.onFillable(HttpConnection.java:251)\n\tat org.eclipse.jetty.io.AbstractConnection$ReadCallback.succeeded(AbstractConnection.java:283)\n\tat org.eclipse.jetty.io.FillInterest.fillable(FillInterest.java:108)\n\tat org.eclipse.jetty.io.SelectChannelEndPoint$2.run(SelectChannelEndPoint.java:93)\n\tat org.eclipse.jetty.util.thread.strategy.ExecuteProduceConsume.executeProduceConsume(ExecuteProduceConsume.java:303)\n\tat org.eclipse.jetty.util.thread.strategy.ExecuteProduceConsume.produceConsume(ExecuteProduceConsume.java:148)\n\tat org.eclipse.jetty.util.thread.strategy.ExecuteProduceConsume.run(ExecuteProduceConsume.java:136)\n\tat com.databricks.rpc.InstrumentedQueuedThreadPool$$anon$1.$anonfun$run$1(InstrumentedQueuedThreadPool.scala:83)\n\tat scala.runtime.java8.JFunction0$mcV$sp.apply(JFunction0$mcV$sp.java:23)\n\tat com.databricks.instrumentation.QueuedThreadPoolInstrumenter.trackActiveThreads(QueuedThreadPoolInstrumenter.scala:66)\n\tat com.databricks.instrumentation.QueuedThreadPoolInstrumenter.trackActiveThreads$(QueuedThreadPoolInstrumenter.scala:63)\n\tat com.databricks.rpc.InstrumentedQueuedThreadPool.trackActiveThreads(InstrumentedQueuedThreadPool.scala:49)\n\tat com.databricks.rpc.InstrumentedQueuedThreadPool$$anon$1.run(InstrumentedQueuedThreadPool.scala:78)\n\tat org.eclipse.jetty.util.thread.QueuedThreadPool.runJob(QueuedThreadPool.java:671)\n\tat org.eclipse.jetty.util.thread.QueuedThreadPool$2.run(QueuedThreadPool.java:589)\n\t... 1 more\n",
       "errorSummary": "java.rmi.RemoteException: java.lang.IllegalArgumentException: requirement failed: Directory already mounted: /mnt/saunextadls/raw; nested exception is: ",
       "errorTraceType": "ansi",
       "metadata": {},
       "type": "ipynbError"
      }
     },
     "output_type": "display_data"
    }
   ],
   "source": [
    "'''\n",
    "dbutils.fs.mount(\n",
    "source = \"wasbs://raw@saunextadls.blob.core.windows.net\",\n",
    "mount_point = \"/mnt/saunextadls/raw\",\n",
    "extra_configs = {\"fs.azure.account.key.saunextadls.blob.core.windows.net\":\"DsZWJs7JVVHZz1I7GKyclV8ejCdj0V2UkqMlgAp6QyVOw5rvrHvmVTgwcThdHUymWg7MXon65/0z+AStj4Yiug==\"})\n",
    "'''"
   ]
  },
  {
   "cell_type": "code",
   "execution_count": 0,
   "metadata": {
    "application/vnd.databricks.v1+cell": {
     "cellMetadata": {
      "byteLimit": 2048000,
      "rowLimit": 10000
     },
     "inputWidgets": {},
     "nuid": "04d98712-0f5c-4123-81a0-78676cfb38e1",
     "showTitle": false,
     "title": ""
    }
   },
   "outputs": [],
   "source": [
    "df = spark.read.json(\"dbfs:/mnt/saunextadls/raw/json\")"
   ]
  },
  {
   "cell_type": "code",
   "execution_count": 0,
   "metadata": {
    "application/vnd.databricks.v1+cell": {
     "cellMetadata": {
      "byteLimit": 2048000,
      "rowLimit": 10000
     },
     "inputWidgets": {},
     "nuid": "8967f60f-ad5f-4abb-931a-6fa963792379",
     "showTitle": false,
     "title": ""
    }
   },
   "outputs": [
    {
     "output_type": "display_data",
     "data": {
      "text/html": [
       "<style scoped>\n",
       "  .table-result-container {\n",
       "    max-height: 300px;\n",
       "    overflow: auto;\n",
       "  }\n",
       "  table, th, td {\n",
       "    border: 1px solid black;\n",
       "    border-collapse: collapse;\n",
       "  }\n",
       "  th, td {\n",
       "    padding: 5px;\n",
       "  }\n",
       "  th {\n",
       "    text-align: left;\n",
       "  }\n",
       "</style><div class='table-result-container'><table class='table-result'><thead style='background-color: white'><tr><th>humidity</th><th>pressure</th><th>sensor_id</th><th>temperature</th><th>timestamp</th></tr></thead><tbody><tr><td>49.99</td><td>1003.39</td><td>1895b922-5c66-4d7b-bcfa-ec6bb355b0ec</td><td>26.08</td><td>1993-04-13T22:04:18</td></tr><tr><td>56.99</td><td>1010.56</td><td>c7111856-eaf2-43da-827e-ae70232842b1</td><td>20.3</td><td>1988-10-31T14:38:45</td></tr><tr><td>41.29</td><td>1012.52</td><td>5a61a7b2-724d-4d84-b4f6-f51f7039ae97</td><td>26.56</td><td>1987-04-24T22:18:32</td></tr><tr><td>47.78</td><td>1014.82</td><td>e308eb54-ed3f-4c28-8552-44c5c88e7fa1</td><td>29.73</td><td>1993-11-23T04:18:17</td></tr><tr><td>58.92</td><td>1000.05</td><td>b113908a-6963-470c-9788-510521eb8a74</td><td>21.08</td><td>2007-03-02T14:42:08</td></tr><tr><td>46.51</td><td>1008.96</td><td>80d978e1-e602-42a4-8521-e19a0130e9e0</td><td>25.6</td><td>1988-09-06T19:31:24</td></tr><tr><td>55.16</td><td>1005.49</td><td>af7d4b05-3493-44d2-af62-361fd0815467</td><td>29.36</td><td>1971-10-05T16:21:51</td></tr><tr><td>51.95</td><td>1018.99</td><td>dd47145f-d9cb-465e-88d9-488af80f3fbb</td><td>23.01</td><td>2013-12-26T21:59:57</td></tr><tr><td>58.82</td><td>1013.66</td><td>9f7c1e12-5691-49c4-9455-8c4c58b4fa57</td><td>24.92</td><td>1988-12-04T01:50:54</td></tr><tr><td>40.63</td><td>1016.5</td><td>cccedfed-b96c-406d-8cf5-4b3af04a9e4d</td><td>29.85</td><td>1997-08-31T06:16:42</td></tr><tr><td>57.89</td><td>1015.67</td><td>ab86dd50-3b3d-412b-966c-d8ad67c976ce</td><td>21.09</td><td>1984-10-22T21:37:04</td></tr><tr><td>45.73</td><td>1002.75</td><td>a7b1774f-1d3a-40ce-b7d1-49052b8c3651</td><td>24.54</td><td>1987-08-01T08:46:56</td></tr><tr><td>49.09</td><td>1018.43</td><td>28f17fdc-e1d1-4d4b-8ea0-19e479f6236b</td><td>20.65</td><td>1993-06-12T21:44:41</td></tr><tr><td>55.13</td><td>1015.09</td><td>0f2255b5-e19f-4434-8b4b-a1e35331a692</td><td>22.34</td><td>2022-12-29T04:05:06</td></tr><tr><td>45.49</td><td>1017.55</td><td>51fccabc-370d-4351-84b8-f5c164e17bbf</td><td>22.69</td><td>2007-11-09T02:56:12</td></tr><tr><td>58.1</td><td>1013.81</td><td>9fd0e31b-4894-4011-b0aa-6d5fdd308bda</td><td>24.19</td><td>1983-03-29T02:57:34</td></tr><tr><td>46.45</td><td>1006.63</td><td>0da7d7ac-0795-46b8-ba70-db7013b3a2e5</td><td>21.12</td><td>1979-12-21T15:23:22</td></tr><tr><td>55.81</td><td>1010.76</td><td>62640add-e15a-4b6a-8457-b9bc3d4212aa</td><td>23.47</td><td>2016-02-21T05:05:59</td></tr><tr><td>56.04</td><td>1011.87</td><td>dff0c609-bec0-4b23-8766-4c862f3a9199</td><td>24.53</td><td>1992-12-16T23:10:43</td></tr><tr><td>57.91</td><td>1004.38</td><td>42202c31-7e7d-4746-9d13-3a8369bec24c</td><td>23.08</td><td>2010-09-03T02:45:02</td></tr><tr><td>45.9</td><td>1001.17</td><td>9cd40ab3-effd-4bb7-a416-efe11c136d4c</td><td>26.24</td><td>1979-12-16T23:26:42</td></tr><tr><td>45.62</td><td>1014.83</td><td>dd2b746a-bf72-4682-bc36-e419d76da94b</td><td>26.1</td><td>1993-03-05T07:30:41</td></tr><tr><td>50.33</td><td>1007.3</td><td>d5769530-fcdd-4f3b-9935-c5f3a486d5ae</td><td>26.04</td><td>2007-07-19T07:30:44</td></tr><tr><td>53.94</td><td>1017.72</td><td>a3596852-7508-4d56-a676-9e07561f032b</td><td>25.48</td><td>2008-07-03T15:10:49</td></tr><tr><td>55.89</td><td>1019.38</td><td>b8f62f4a-0047-47b6-a23a-91c7bde22230</td><td>29.36</td><td>1979-06-19T17:41:24</td></tr><tr><td>46.66</td><td>1013.03</td><td>1cc7cdb5-d891-4424-9fbb-457a1a79b1c5</td><td>24.58</td><td>2005-05-15T20:40:21</td></tr><tr><td>41.67</td><td>1016.06</td><td>45853e98-5520-400f-b0f7-d3b2c4836878</td><td>25.52</td><td>1992-09-07T05:55:52</td></tr><tr><td>42.11</td><td>1016.73</td><td>0fd4b88b-00e1-442d-8096-19a86792ade8</td><td>20.16</td><td>1992-06-26T23:45:11</td></tr><tr><td>49.85</td><td>1013.1</td><td>ee778485-6d96-42da-b983-46328b03f2fb</td><td>25.41</td><td>1988-08-06T01:23:44</td></tr><tr><td>56.16</td><td>1018.14</td><td>290919eb-5615-4bfb-88fc-43e364f97d4c</td><td>28.99</td><td>1977-07-05T18:47:41</td></tr><tr><td>40.65</td><td>1014.42</td><td>4129c4fe-4a90-408b-beec-42529a91890b</td><td>27.5</td><td>2023-08-05T14:09:42</td></tr><tr><td>45.23</td><td>1017.79</td><td>db57457b-1f21-4d93-b89c-3b8b3a9b95b4</td><td>26.46</td><td>2015-03-06T22:09:45</td></tr><tr><td>41.83</td><td>1000.93</td><td>390314a5-23d4-4823-a262-fd7561135de5</td><td>28.89</td><td>1994-07-18T08:36:41</td></tr><tr><td>48.7</td><td>1012.26</td><td>df6667ce-4b0f-48b0-83ee-83a5f07c143c</td><td>24.66</td><td>1971-12-29T10:04:25</td></tr><tr><td>53.21</td><td>1012.32</td><td>c1248f13-684c-4306-ab0b-50fbba9df133</td><td>29.34</td><td>2004-04-11T11:36:23</td></tr><tr><td>54.2</td><td>1016.99</td><td>4e4631b9-4cd0-4270-b090-fa8da70ef628</td><td>25.79</td><td>1995-03-31T11:38:01</td></tr><tr><td>50.31</td><td>1008.99</td><td>c3607b48-2855-412a-a476-5bf02fa9d420</td><td>22.06</td><td>1995-12-30T23:48:06</td></tr><tr><td>51.44</td><td>1003.52</td><td>9928f3a8-9d91-482b-9cd2-4957d317cc91</td><td>20.82</td><td>1985-09-19T05:11:41</td></tr><tr><td>52.2</td><td>1008.8</td><td>37004b37-5584-4392-9f94-1e1685191811</td><td>28.33</td><td>1996-09-01T10:01:33</td></tr><tr><td>54.75</td><td>1004.61</td><td>433ad7fc-cbcf-47d3-9c5e-a49d9716968e</td><td>29.32</td><td>1972-03-06T02:50:22</td></tr><tr><td>40.7</td><td>1007.92</td><td>438b6118-9225-4bf2-a3e9-32e65c8df0ab</td><td>28.54</td><td>1974-01-07T07:20:23</td></tr><tr><td>52.04</td><td>1009.97</td><td>845bbc3d-d645-409b-847d-7f4e1b9b57bd</td><td>25.95</td><td>1997-03-29T10:18:46</td></tr><tr><td>48.17</td><td>1017.81</td><td>14428f51-ef4e-4bda-80bc-7aff5de6526e</td><td>26.7</td><td>2022-06-23T19:56:14</td></tr><tr><td>43.83</td><td>1007.32</td><td>8e3e8085-798c-490f-8430-2f93994ec4e7</td><td>27.46</td><td>1990-10-10T05:58:18</td></tr><tr><td>41.35</td><td>1016.77</td><td>216369f3-6d5a-4d4d-9a9d-47297f0327e8</td><td>28.47</td><td>1998-11-24T15:10:12</td></tr><tr><td>43.2</td><td>1001.5</td><td>248fcb72-860d-4ae2-aadd-941e0f8768b8</td><td>26.96</td><td>1979-06-25T14:21:39</td></tr><tr><td>52.01</td><td>1003.77</td><td>2f89a865-dbc0-4b26-9873-2dac003e3c82</td><td>24.75</td><td>2013-01-07T09:51:30</td></tr><tr><td>48.37</td><td>1011.55</td><td>37df741b-e640-4ec4-9a52-6ada4773f378</td><td>24.04</td><td>2001-07-10T19:59:28</td></tr><tr><td>55.31</td><td>1012.69</td><td>24b3c87c-7d46-4f89-939e-527a3961c5e3</td><td>22.64</td><td>1996-11-26T22:27:19</td></tr><tr><td>44.17</td><td>1014.58</td><td>a9bc31f4-3453-42c7-a117-0f6805533714</td><td>22.55</td><td>1988-12-13T10:03:51</td></tr><tr><td>42.37</td><td>1011.07</td><td>6ea7da91-18c3-4cff-9be5-227330e8a832</td><td>28.95</td><td>1974-01-23T18:06:17</td></tr><tr><td>53.7</td><td>1003.76</td><td>b9bd9e0d-39e8-4d75-8351-409decd8c96e</td><td>27.08</td><td>2017-12-11T19:42:06</td></tr><tr><td>40.58</td><td>1003.16</td><td>ee15ec0f-868b-459c-a1da-9d0630d45bab</td><td>25.77</td><td>2020-07-04T08:18:53</td></tr><tr><td>58.34</td><td>1016.36</td><td>05e9e8a6-3e0e-4db4-804f-8eeccbfec8ad</td><td>21.82</td><td>2014-07-26T17:18:25</td></tr><tr><td>58.12</td><td>1013.59</td><td>76c2fa3a-bd74-4430-808a-82fbf0e1eb02</td><td>20.63</td><td>1979-07-23T16:43:13</td></tr><tr><td>47.21</td><td>1016.57</td><td>8c6a7724-2364-4489-b863-a8821e9a7c1f</td><td>28.52</td><td>1979-04-13T08:21:27</td></tr><tr><td>40.23</td><td>1012.94</td><td>7cad3d9c-951f-4fb4-b217-3279f6aeeb41</td><td>26.39</td><td>1979-11-29T19:04:02</td></tr><tr><td>51.59</td><td>1012.47</td><td>565ef26a-b95c-40c0-981c-efff56ea59ad</td><td>24.37</td><td>2023-05-09T06:40:31</td></tr><tr><td>48.27</td><td>1002.72</td><td>7817ca57-ad8e-43b5-b7fa-e55dec89fc02</td><td>27.35</td><td>1973-08-04T10:40:20</td></tr><tr><td>49.37</td><td>1005.69</td><td>489f290d-b8cc-4ca0-868a-7b8374d64bd4</td><td>24.54</td><td>2016-02-03T00:16:17</td></tr><tr><td>49.85</td><td>1005.8</td><td>3b6697a4-ed30-4dc0-b672-ce007b4b5e94</td><td>25.69</td><td>2013-07-16T09:42:44</td></tr><tr><td>58.18</td><td>1011.29</td><td>fdab7c90-9b83-4660-856f-4c3b85cb4796</td><td>25.74</td><td>1977-07-28T13:24:26</td></tr><tr><td>54.57</td><td>1010.98</td><td>e3f2cd2f-a3dc-4b9b-bb93-187b036bc0ec</td><td>24.45</td><td>1988-12-29T05:27:15</td></tr><tr><td>51.91</td><td>1000.87</td><td>ed114c42-0f79-4abe-a2ea-9a7c880eeb40</td><td>26.45</td><td>1981-08-31T14:13:06</td></tr><tr><td>57.6</td><td>1006.4</td><td>9c1b2c67-5494-4385-a97c-89d8ca5cf5b3</td><td>27.77</td><td>1981-12-14T23:02:14</td></tr><tr><td>41.39</td><td>1005.37</td><td>aa1cc9bf-4b61-4956-a114-cff7a56e1de5</td><td>22.83</td><td>2020-10-06T23:30:25</td></tr><tr><td>45.79</td><td>1007.24</td><td>ab647632-9113-43f1-abe9-b6d901ccee59</td><td>27.67</td><td>1983-08-21T08:55:26</td></tr><tr><td>48.79</td><td>1013.02</td><td>b273e374-4bc3-472e-b36c-989745bdf06b</td><td>24.16</td><td>2009-06-14T18:35:45</td></tr><tr><td>54.47</td><td>1014.09</td><td>547c2f93-bf9b-42cb-ac94-1dc66b03b2a7</td><td>21.11</td><td>1981-06-23T05:09:20</td></tr><tr><td>45.11</td><td>1004.22</td><td>17302fb3-fbc1-450c-beac-ad0284878db7</td><td>21.69</td><td>1973-06-16T12:57:18</td></tr><tr><td>58.19</td><td>1008.78</td><td>f1227721-05ae-4540-be60-e86b2dd31243</td><td>24.77</td><td>2004-12-20T19:33:55</td></tr><tr><td>49.03</td><td>1001.52</td><td>7bdfaff4-e604-4227-a5f9-e85b9216ff0f</td><td>28.62</td><td>1978-11-02T21:20:30</td></tr><tr><td>45.76</td><td>1008.64</td><td>8780e061-1531-4a3b-9a06-f019066d2538</td><td>27.91</td><td>2013-04-17T10:29:44</td></tr><tr><td>58.62</td><td>1007.09</td><td>924ddd16-9ac8-4bbd-9983-729c01a4b8c2</td><td>21.59</td><td>1981-04-11T07:36:43</td></tr><tr><td>44.8</td><td>1011.61</td><td>84b3a4f4-551a-4b79-8f85-9bb53390f595</td><td>28.41</td><td>1979-02-14T16:12:01</td></tr><tr><td>47.26</td><td>1015.08</td><td>fe74283d-dff4-4bbc-ba29-05853624eef1</td><td>29.89</td><td>1993-07-15T23:03:32</td></tr><tr><td>56.92</td><td>1011.88</td><td>f475bc86-270a-4f89-a67e-710ab8479594</td><td>23.99</td><td>2000-10-21T09:12:57</td></tr><tr><td>49.64</td><td>1018.91</td><td>11660212-95a7-400a-9579-70d29360d488</td><td>21.49</td><td>2010-07-26T01:34:50</td></tr><tr><td>43.19</td><td>1009.96</td><td>300cf571-b984-43b7-9965-b63034f09a36</td><td>28.88</td><td>2009-08-01T11:30:05</td></tr><tr><td>54.63</td><td>1007.27</td><td>416e694e-ebec-4a33-8142-316728c8f30e</td><td>22.07</td><td>1991-08-27T04:34:51</td></tr><tr><td>57.27</td><td>1017.82</td><td>c8a3b898-4a98-4f79-9dad-0e29c81c8ad0</td><td>26.37</td><td>2021-09-08T00:53:29</td></tr><tr><td>47.81</td><td>1011.05</td><td>d525b0e5-0e26-4e9d-8c32-1669aaf3a6c8</td><td>28.41</td><td>2011-10-23T00:18:11</td></tr><tr><td>56.05</td><td>1016.39</td><td>5cfee4eb-2930-43ea-be81-13119611aa1b</td><td>27.6</td><td>2002-09-24T12:05:53</td></tr><tr><td>55.91</td><td>1011.0</td><td>396228d9-22d3-4a83-9aca-603a6ace9b62</td><td>22.93</td><td>1983-10-31T07:35:55</td></tr><tr><td>40.7</td><td>1012.38</td><td>038c8e0e-40d2-4e69-aa4c-eeed9e45b79d</td><td>26.39</td><td>2006-06-21T12:15:47</td></tr><tr><td>47.24</td><td>1013.16</td><td>66b5a3d9-2290-4c24-ba0d-4bceb5f355f3</td><td>24.58</td><td>1993-11-23T01:56:06</td></tr><tr><td>55.55</td><td>1006.68</td><td>8a94093d-f33a-4572-acc0-d4713a780f57</td><td>22.8</td><td>2014-01-22T13:29:44</td></tr><tr><td>51.86</td><td>1019.77</td><td>d63e8110-21a4-4e10-a12d-e6110647c1dd</td><td>27.64</td><td>1992-02-17T22:33:43</td></tr><tr><td>41.11</td><td>1006.29</td><td>83f01847-10d7-43b1-b3f2-efa6fdbe0df4</td><td>23.49</td><td>1979-01-24T13:22:20</td></tr><tr><td>54.07</td><td>1005.88</td><td>bb7407c1-e3b9-4151-adff-01c9992effc2</td><td>26.49</td><td>2006-05-05T09:40:46</td></tr><tr><td>43.69</td><td>1000.97</td><td>b69296d4-a4a0-4d6f-b051-84e5ab2af317</td><td>28.21</td><td>1993-08-13T12:19:33</td></tr><tr><td>43.33</td><td>1006.67</td><td>76dae1af-8606-41c3-b0ce-56422357038e</td><td>25.28</td><td>1978-12-19T02:44:24</td></tr><tr><td>48.39</td><td>1013.38</td><td>c0daa2fa-5941-4d0c-ac50-6083e6dd4aef</td><td>28.64</td><td>2004-10-31T01:29:13</td></tr><tr><td>56.6</td><td>1006.53</td><td>341318f9-c561-40d7-a422-d1bed9cdcdda</td><td>27.46</td><td>1998-06-21T06:36:15</td></tr><tr><td>53.46</td><td>1017.26</td><td>44449175-3b32-479b-b2d9-0e40ceec51da</td><td>22.36</td><td>1988-10-23T14:16:21</td></tr><tr><td>54.94</td><td>1009.62</td><td>6b5207da-e8eb-4f2a-97ed-e094f91b6a3f</td><td>29.78</td><td>2002-07-09T17:51:38</td></tr><tr><td>44.98</td><td>1017.48</td><td>409cf598-468d-4f79-85d5-6f30f275c211</td><td>26.02</td><td>1979-11-06T15:55:21</td></tr><tr><td>47.83</td><td>1010.68</td><td>9eb1eb5b-2e8d-4679-a796-389c3cd3281e</td><td>29.49</td><td>1973-08-29T15:49:37</td></tr><tr><td>59.65</td><td>1013.5</td><td>fe4d971b-17eb-4db9-b3f2-cc0db98dbb22</td><td>22.42</td><td>1979-04-19T14:47:32</td></tr><tr><td>54.97</td><td>1013.83</td><td>1d9c964d-976f-4fdc-8e14-ba42f01576e8</td><td>26.94</td><td>1970-11-22T08:03:50</td></tr><tr><td>55.72</td><td>1014.8</td><td>80e5130a-53c8-4469-9485-3d03827fe886</td><td>23.94</td><td>1985-03-08T23:00:43</td></tr><tr><td>40.79</td><td>1016.0</td><td>2e0f90ed-29f9-407a-b7f5-c76960ca3ccb</td><td>27.06</td><td>1996-07-31T14:11:35</td></tr><tr><td>43.48</td><td>1006.57</td><td>bf1e63fd-6f4e-46eb-bf5c-1fe8b9330ac3</td><td>22.49</td><td>1994-05-05T23:40:26</td></tr><tr><td>47.49</td><td>1001.65</td><td>55ebc2cc-9fe2-47f9-96f0-75cc49a65781</td><td>25.25</td><td>2006-10-11T05:22:05</td></tr><tr><td>48.19</td><td>1008.92</td><td>57fb945d-0e3a-4d8b-8c63-decaa4f4a7ac</td><td>23.46</td><td>1976-02-13T10:07:45</td></tr><tr><td>54.84</td><td>1018.48</td><td>e3ade2e1-e7cc-4baa-866e-4a03cd9dd691</td><td>23.76</td><td>2004-09-30T02:07:19</td></tr><tr><td>46.58</td><td>1006.98</td><td>abd41be5-026a-421e-96d7-3b6652b7fa5d</td><td>21.78</td><td>2007-08-10T22:09:07</td></tr><tr><td>58.4</td><td>1016.63</td><td>5361c7f0-d50f-4bb8-8db0-8859d2cde923</td><td>27.52</td><td>2019-02-09T11:59:01</td></tr><tr><td>43.26</td><td>1007.41</td><td>c53b8867-b06b-4d92-a9d8-a48c189b13f5</td><td>21.42</td><td>2014-06-24T00:53:06</td></tr><tr><td>57.49</td><td>1012.63</td><td>1bb348fd-8232-4fff-a50c-6fb949847919</td><td>29.77</td><td>1970-07-10T22:57:27</td></tr><tr><td>44.84</td><td>1016.17</td><td>45b6693d-fa46-4a26-a0f1-a05938009a2f</td><td>24.61</td><td>2020-04-24T19:16:47</td></tr><tr><td>54.42</td><td>1001.16</td><td>267d5e9f-711a-4e42-a4fe-d6e7bc799a0d</td><td>26.13</td><td>2013-05-27T08:45:36</td></tr><tr><td>51.67</td><td>1011.19</td><td>ffbfd054-7876-4d08-8d44-d0bf8141d962</td><td>22.55</td><td>1982-07-11T10:22:11</td></tr><tr><td>45.32</td><td>1016.7</td><td>612185fd-5396-4462-9151-4e9f54a00115</td><td>27.45</td><td>1987-01-16T03:04:46</td></tr><tr><td>45.52</td><td>1015.21</td><td>36dcb7c0-8b37-453f-b9b7-c1b7e225f3d7</td><td>20.05</td><td>2019-05-26T19:42:54</td></tr><tr><td>43.23</td><td>1019.59</td><td>dffd0592-69d5-4535-8e9c-b2819372b3e6</td><td>22.84</td><td>2003-10-08T19:05:06</td></tr><tr><td>51.05</td><td>1000.14</td><td>2b4c6568-dc6a-486a-92f9-4b550683e603</td><td>23.82</td><td>1979-12-09T16:32:01</td></tr><tr><td>48.77</td><td>1007.28</td><td>51498467-76eb-406c-9ce3-f436e14676b5</td><td>21.45</td><td>1996-10-30T10:27:33</td></tr><tr><td>43.52</td><td>1009.18</td><td>f18a893b-c1eb-4d80-8def-dfc6da892078</td><td>24.38</td><td>2019-10-24T05:04:03</td></tr><tr><td>52.66</td><td>1004.99</td><td>ebc83d78-9590-4c58-8af9-f542897ff785</td><td>21.41</td><td>1975-12-17T20:35:23</td></tr><tr><td>57.06</td><td>1015.97</td><td>39aad220-3650-4397-a770-85f2467a2dfc</td><td>28.69</td><td>2010-03-09T05:52:46</td></tr><tr><td>53.74</td><td>1015.41</td><td>da81adcc-afbe-44f8-98dc-e2343c344b17</td><td>26.83</td><td>1991-03-07T07:09:16</td></tr><tr><td>40.88</td><td>1005.24</td><td>f3ae2b40-4360-4612-9ede-60a629eb29c9</td><td>29.09</td><td>1987-10-23T13:07:47</td></tr><tr><td>49.89</td><td>1002.09</td><td>cc117643-2c4e-4047-bd62-2fe4154df122</td><td>22.73</td><td>2000-06-23T12:36:46</td></tr><tr><td>49.8</td><td>1016.72</td><td>0fd92dba-a72d-45cc-86f7-b277233647bc</td><td>26.36</td><td>1978-11-10T02:31:37</td></tr><tr><td>46.21</td><td>1019.74</td><td>151deaef-8bb0-4d9d-ac97-9d07bdbb9e80</td><td>25.3</td><td>2023-03-08T08:12:15</td></tr><tr><td>41.84</td><td>1016.54</td><td>cf45588d-5598-49c1-be3f-88495ddc7d4c</td><td>25.97</td><td>1975-06-05T01:04:07</td></tr><tr><td>46.31</td><td>1012.66</td><td>1be96470-5782-4c27-8bf8-b51c489bea9d</td><td>25.26</td><td>2013-09-05T10:25:36</td></tr><tr><td>49.0</td><td>1016.44</td><td>3f58c872-29e6-4240-a0ec-6ec4f331d30d</td><td>25.83</td><td>2002-09-29T08:42:12</td></tr><tr><td>54.85</td><td>1011.79</td><td>6c6dbe58-f9eb-4028-900c-9d0f6b78ae78</td><td>27.7</td><td>2016-07-19T00:32:31</td></tr><tr><td>41.75</td><td>1015.69</td><td>288ea2f6-3df1-48c7-80ec-f5a4e29717ca</td><td>26.22</td><td>1970-10-12T22:18:36</td></tr><tr><td>42.42</td><td>1018.09</td><td>27598fad-ad97-4879-b732-4faa2a8997fe</td><td>22.68</td><td>2017-08-01T22:02:12</td></tr><tr><td>44.61</td><td>1013.01</td><td>cf2f671e-c604-4375-80d5-c64e5bf3ffd1</td><td>20.98</td><td>1998-05-14T09:05:26</td></tr><tr><td>56.57</td><td>1003.94</td><td>2d878004-3296-4d25-a8fb-5621445dd068</td><td>24.45</td><td>2016-01-11T09:13:37</td></tr><tr><td>49.75</td><td>1016.06</td><td>8aaaf178-1771-4a27-9ae5-8557d13fc04d</td><td>22.02</td><td>1986-07-19T09:49:54</td></tr><tr><td>41.61</td><td>1000.84</td><td>508a4785-f30b-4ac0-a24e-8d837b8341a0</td><td>23.81</td><td>1995-04-07T05:54:36</td></tr><tr><td>49.58</td><td>1016.46</td><td>4ba14cb5-b586-4fe4-b889-7abd24c74274</td><td>22.68</td><td>1980-01-31T18:52:42</td></tr><tr><td>53.57</td><td>1000.25</td><td>cc54ab09-8d90-4d3b-9903-841bae88c36c</td><td>20.21</td><td>2009-12-26T16:44:02</td></tr><tr><td>55.92</td><td>1012.54</td><td>4fdd0994-fec6-4f23-939f-06f5c5d76479</td><td>22.84</td><td>2014-09-04T17:25:04</td></tr><tr><td>40.81</td><td>1006.34</td><td>872e2749-071a-461c-b227-19a1a5b604c1</td><td>29.52</td><td>2011-10-28T21:08:17</td></tr><tr><td>56.94</td><td>1002.11</td><td>1196a925-dfaf-4b72-9fbd-9de62b37b6d9</td><td>28.39</td><td>2004-11-17T02:58:54</td></tr><tr><td>57.99</td><td>1017.18</td><td>ee3505ce-1aa4-415c-bbd1-0c2e23c613a8</td><td>20.49</td><td>1980-11-02T03:11:37</td></tr><tr><td>45.55</td><td>1005.51</td><td>765fc871-eed5-461a-8cbb-1c868a0bf261</td><td>29.03</td><td>2002-05-16T05:53:10</td></tr><tr><td>48.86</td><td>1007.2</td><td>af89c966-c747-4c4e-a3b3-bcd29e9ab950</td><td>25.7</td><td>2013-09-03T20:37:39</td></tr><tr><td>59.41</td><td>1005.0</td><td>e50a984a-4ec8-4f81-b12c-6085a0bc080f</td><td>26.93</td><td>2001-01-08T20:47:05</td></tr><tr><td>55.33</td><td>1011.76</td><td>67e25be8-438d-4aff-8ce1-94c1047e06c0</td><td>27.37</td><td>2019-08-14T15:42:52</td></tr><tr><td>47.53</td><td>1006.79</td><td>035b4c03-ae45-4d71-9cca-d3c1a01a8316</td><td>27.7</td><td>2013-09-22T03:27:10</td></tr><tr><td>57.13</td><td>1011.85</td><td>9ad47cd0-7739-49ac-83fe-6587c59ee736</td><td>21.61</td><td>1974-03-13T09:13:41</td></tr><tr><td>56.46</td><td>1003.11</td><td>f8a80e6e-03a5-42f8-b26f-8137d823dabf</td><td>23.83</td><td>2004-04-29T20:36:03</td></tr><tr><td>53.89</td><td>1018.04</td><td>d93985a2-4246-4e4f-ae46-31fb346f184c</td><td>24.95</td><td>1993-04-28T15:09:57</td></tr><tr><td>48.94</td><td>1014.87</td><td>80d5d3b3-4198-4958-9ea8-41b72d4c5056</td><td>25.68</td><td>1978-07-30T13:13:11</td></tr><tr><td>58.66</td><td>1013.89</td><td>fa51684f-f345-448c-b483-1f6032f7049c</td><td>27.8</td><td>1990-06-16T01:50:19</td></tr><tr><td>59.28</td><td>1007.43</td><td>695c174e-d1d2-491b-aca5-c85409c52e26</td><td>26.73</td><td>2020-02-08T10:35:08</td></tr><tr><td>58.72</td><td>1000.5</td><td>f17edb3b-6b65-4c5b-b4ec-974a7c1d4a95</td><td>21.84</td><td>1973-12-02T17:57:06</td></tr><tr><td>48.26</td><td>1001.54</td><td>a359332b-9588-420e-88a9-4616f44aa208</td><td>29.21</td><td>1991-01-22T09:17:54</td></tr><tr><td>47.2</td><td>1004.1</td><td>a8a46f72-5c52-4709-ac81-562348958c10</td><td>22.44</td><td>2001-01-02T23:23:47</td></tr><tr><td>47.78</td><td>1014.08</td><td>c7e5f59f-7ad9-44c2-8639-522d3e44c036</td><td>27.95</td><td>2004-03-28T00:25:04</td></tr><tr><td>43.5</td><td>1001.13</td><td>59df4484-6055-47c3-854b-d22b4de58a90</td><td>20.73</td><td>1992-03-30T13:17:54</td></tr><tr><td>40.98</td><td>1011.52</td><td>6d09165b-2288-45fb-92b7-ed0b96c2b92d</td><td>21.49</td><td>1998-03-15T05:53:52</td></tr><tr><td>40.01</td><td>1016.68</td><td>ae4566b1-0ca6-40c2-8c7b-fb837975f84f</td><td>25.51</td><td>1987-09-18T23:26:52</td></tr><tr><td>44.18</td><td>1010.02</td><td>d5049464-b50d-4136-bfc2-5fa47c0f9953</td><td>20.64</td><td>2007-07-30T02:14:14</td></tr><tr><td>48.42</td><td>1017.89</td><td>7b8e8d09-d8d8-4641-9b8e-a6dfdb1448e4</td><td>27.87</td><td>2010-06-28T03:15:16</td></tr><tr><td>53.86</td><td>1006.04</td><td>841e4f42-e616-486d-b964-cf2a08577482</td><td>27.34</td><td>1979-03-09T11:23:01</td></tr><tr><td>43.06</td><td>1000.7</td><td>155bba12-080a-4700-b2ef-63e103bd0127</td><td>27.36</td><td>1989-05-17T13:27:12</td></tr><tr><td>42.63</td><td>1019.77</td><td>20e87425-992a-4ba0-9fb7-ae5b221b6c1e</td><td>27.28</td><td>1988-05-08T08:11:05</td></tr><tr><td>50.8</td><td>1004.72</td><td>30c516ec-bfd7-498a-a4d6-e7cbcaf5ac1b</td><td>23.56</td><td>2011-02-14T20:19:33</td></tr><tr><td>58.13</td><td>1013.24</td><td>3186ee0c-bbf3-48e7-bf0a-bb96b2fd2b6f</td><td>26.44</td><td>1977-03-31T01:20:50</td></tr><tr><td>57.18</td><td>1000.78</td><td>4a965731-02b9-448f-b5a0-e4c866825fc3</td><td>25.55</td><td>1978-01-05T22:09:39</td></tr><tr><td>51.99</td><td>1011.53</td><td>70cc99fb-b2a1-4784-accb-5a314b6f1821</td><td>27.53</td><td>1988-03-05T01:00:23</td></tr><tr><td>41.16</td><td>1000.39</td><td>b24be1ec-93fd-4b55-a997-7093427fdd53</td><td>22.77</td><td>1988-09-26T02:28:12</td></tr><tr><td>49.18</td><td>1016.57</td><td>924db1dd-9d2a-47f7-bf9c-679259c1ef06</td><td>26.23</td><td>2009-07-16T11:13:40</td></tr><tr><td>54.05</td><td>1004.07</td><td>6f3a10ab-99ad-4462-ab94-0635ceb01fd0</td><td>29.37</td><td>2006-06-13T08:27:17</td></tr><tr><td>48.15</td><td>1016.0</td><td>45d9f67e-c737-4658-99e3-afe0c7c2cd05</td><td>23.07</td><td>2007-03-05T15:14:45</td></tr><tr><td>57.85</td><td>1018.07</td><td>21ebed5e-0890-46ab-8139-7a275654b1a7</td><td>24.3</td><td>1991-05-14T12:17:08</td></tr><tr><td>56.48</td><td>1002.67</td><td>3a141a35-1814-4030-ae4e-d35cc4983507</td><td>29.72</td><td>2018-10-08T15:36:36</td></tr><tr><td>49.75</td><td>1003.28</td><td>f39f44b3-2d7f-43f1-beb3-c38ba6ffc06d</td><td>27.72</td><td>1970-11-16T21:30:00</td></tr><tr><td>51.81</td><td>1008.68</td><td>fd0ea9b9-587a-42f5-ad5b-87dfcba996f2</td><td>27.54</td><td>1977-03-25T00:40:35</td></tr><tr><td>54.28</td><td>1009.1</td><td>57fc741f-186c-4031-8d80-4d9d22a14c4a</td><td>28.1</td><td>1989-11-05T15:09:05</td></tr><tr><td>55.88</td><td>1002.37</td><td>28de8c73-d7e6-4d31-9ffa-f923724f50ea</td><td>23.95</td><td>2007-01-14T03:03:18</td></tr><tr><td>40.19</td><td>1009.17</td><td>6481dba3-5472-4623-abfb-03a5910d0ecd</td><td>26.31</td><td>2016-10-31T13:33:35</td></tr><tr><td>55.49</td><td>1019.59</td><td>6fa34ee1-5be6-4bc6-a003-cca83262e703</td><td>21.71</td><td>2007-02-03T18:07:20</td></tr><tr><td>49.32</td><td>1013.26</td><td>981a493d-c107-4ac4-bc70-a7505cd0d03c</td><td>24.47</td><td>2010-06-06T10:02:36</td></tr><tr><td>44.78</td><td>1015.16</td><td>c7cb76c0-5a1e-4763-89ea-b7a556adfe79</td><td>22.08</td><td>2003-04-22T04:21:09</td></tr><tr><td>51.46</td><td>1015.2</td><td>9ba60dc3-4242-43f4-b54a-64f7d817b932</td><td>27.43</td><td>2020-08-10T18:40:11</td></tr><tr><td>43.64</td><td>1011.59</td><td>a70b4c88-4b2d-4889-8ee2-934c52ba46a9</td><td>27.44</td><td>1983-08-19T21:38:32</td></tr><tr><td>53.27</td><td>1003.74</td><td>c11931a8-f3cd-4c41-9e70-abd963ee6464</td><td>24.65</td><td>1999-01-11T12:16:58</td></tr><tr><td>48.97</td><td>1007.42</td><td>d3fdfab8-5fa4-47f5-a98d-3ad4089e9125</td><td>25.46</td><td>1997-12-30T18:43:21</td></tr><tr><td>46.44</td><td>1013.29</td><td>f7429ad7-d88c-4a7c-80d5-82969a022bac</td><td>23.5</td><td>2020-12-17T15:29:15</td></tr><tr><td>43.02</td><td>1002.17</td><td>3f66bb85-4da7-4f63-b89b-d382066147d1</td><td>26.01</td><td>1978-10-18T09:30:36</td></tr><tr><td>52.05</td><td>1015.81</td><td>5373b0a0-1742-4ebe-8c21-4d60198b6ffa</td><td>29.51</td><td>2001-09-14T23:22:21</td></tr><tr><td>52.69</td><td>1003.77</td><td>19f5011e-e1c9-418f-824f-55debbf5cd2b</td><td>21.53</td><td>1987-11-11T10:59:25</td></tr><tr><td>51.2</td><td>1000.19</td><td>a13882b6-eee8-4ab6-a9db-1d58f5a6a5a5</td><td>22.01</td><td>1999-12-30T02:12:10</td></tr><tr><td>49.78</td><td>1006.43</td><td>2f9860c6-f01a-42a3-83a5-3bf19ba4c56d</td><td>22.77</td><td>1982-02-17T01:12:29</td></tr><tr><td>40.97</td><td>1004.44</td><td>e43fab25-9d87-4551-801f-9a8cf35a3003</td><td>28.27</td><td>2011-12-08T15:17:23</td></tr><tr><td>53.53</td><td>1005.84</td><td>f76c6fc4-cb95-462b-8366-7c0ad5d7647d</td><td>27.42</td><td>2017-10-20T09:11:13</td></tr><tr><td>54.07</td><td>1017.22</td><td>ac11ce12-7aa7-4842-9c51-efe4e1d1b92f</td><td>28.89</td><td>2012-03-07T02:27:48</td></tr><tr><td>43.29</td><td>1012.14</td><td>23cb0396-3bb0-4e9e-b342-065c2c36eb0c</td><td>21.47</td><td>1999-07-26T02:30:33</td></tr><tr><td>50.15</td><td>1003.17</td><td>27abc9fc-34e1-499c-81bc-4d89aa7fe771</td><td>29.2</td><td>1989-02-25T14:50:03</td></tr><tr><td>42.39</td><td>1011.38</td><td>a843b9c6-cfb7-4625-b465-9641edcb431c</td><td>29.55</td><td>2008-01-08T09:18:10</td></tr><tr><td>46.32</td><td>1009.1</td><td>61b0094b-5c90-499f-831f-e738414344f7</td><td>26.34</td><td>1973-01-02T08:18:17</td></tr><tr><td>51.14</td><td>1004.84</td><td>f021522a-0d57-4b75-96a1-4df3535898c2</td><td>26.51</td><td>1990-07-27T16:01:30</td></tr><tr><td>58.0</td><td>1007.47</td><td>9ec49dac-c82f-4218-bad8-c5c8631bbc55</td><td>27.97</td><td>1999-01-17T15:07:09</td></tr><tr><td>54.71</td><td>1004.58</td><td>e06133b3-f6b3-4600-8e3e-1417ff595426</td><td>26.83</td><td>1997-04-09T07:07:38</td></tr><tr><td>54.81</td><td>1010.99</td><td>cff172c2-4747-4b38-881f-b0787e0ab0e3</td><td>23.52</td><td>1984-08-15T21:38:07</td></tr><tr><td>54.2</td><td>1015.0</td><td>c636c7d9-ce13-4154-b5de-5b56f3718997</td><td>26.76</td><td>1983-08-12T02:49:13</td></tr><tr><td>50.09</td><td>1012.79</td><td>eed098e7-1cb1-421e-bb68-2ea109c46198</td><td>23.46</td><td>2002-01-15T12:06:13</td></tr><tr><td>49.43</td><td>1009.31</td><td>ba3b9325-25f8-4366-a085-5f014715cb08</td><td>24.77</td><td>2021-05-28T16:16:19</td></tr><tr><td>41.53</td><td>1001.67</td><td>f3b6b54c-cba8-4c98-8e41-0fc88ec0abba</td><td>25.22</td><td>1984-01-12T19:20:48</td></tr><tr><td>45.57</td><td>1000.78</td><td>f10eb9b2-c8ef-471c-83d9-08a667cf3632</td><td>20.65</td><td>2011-04-17T04:59:05</td></tr><tr><td>42.99</td><td>1001.24</td><td>2dac0fbf-93fe-4863-bf7e-a5dd1406df09</td><td>27.34</td><td>1987-06-03T16:50:20</td></tr><tr><td>53.79</td><td>1012.19</td><td>6e7e6d6a-1e91-4b79-bd99-44ddd682e0b8</td><td>26.69</td><td>1997-03-29T11:10:14</td></tr><tr><td>57.62</td><td>1000.68</td><td>ffa12684-0429-4941-b1c1-98ee120496fe</td><td>28.11</td><td>1994-12-10T11:38:18</td></tr><tr><td>50.84</td><td>1002.2</td><td>afa03088-d12a-499d-8a3b-bacdbe0d869a</td><td>24.95</td><td>1974-04-24T02:48:17</td></tr><tr><td>59.9</td><td>1018.95</td><td>26ab72b9-fb37-417c-b271-d85f7ceda550</td><td>28.69</td><td>1981-04-29T00:45:58</td></tr><tr><td>56.2</td><td>1007.29</td><td>f9bbf424-5ab2-4fb9-90d4-05f574ee12c4</td><td>21.69</td><td>2015-04-24T12:13:05</td></tr><tr><td>40.87</td><td>1017.19</td><td>576ac32b-ac1a-4f94-8033-824487b1788f</td><td>21.08</td><td>1982-04-17T08:49:30</td></tr><tr><td>46.27</td><td>1008.81</td><td>c2de3820-5e57-445f-a1b0-133c8c105ee3</td><td>26.18</td><td>1985-02-19T00:39:08</td></tr><tr><td>53.16</td><td>1008.0</td><td>e59e46ae-2661-4947-878b-367fb498dce1</td><td>23.16</td><td>2004-10-19T18:18:29</td></tr><tr><td>40.62</td><td>1016.96</td><td>707e720d-dc9d-4c0b-b89b-2560b7d42038</td><td>28.81</td><td>1975-11-27T06:21:37</td></tr><tr><td>58.22</td><td>1004.99</td><td>3f6e1731-cfc8-4a99-9ecf-c2b8fbccc5e5</td><td>22.87</td><td>2008-09-18T12:32:16</td></tr><tr><td>57.66</td><td>1019.56</td><td>74e44ff5-fe8d-4383-81c7-2b67c97c31e9</td><td>23.87</td><td>1999-03-10T09:08:35</td></tr><tr><td>55.89</td><td>1003.6</td><td>f76917f7-fca8-45c8-a221-06bc8e371844</td><td>27.65</td><td>2016-07-29T19:48:51</td></tr><tr><td>52.93</td><td>1002.08</td><td>e188e5ef-8e65-450f-b4a8-8a75bf147b51</td><td>20.39</td><td>2008-04-01T17:33:32</td></tr></tbody></table></div>"
      ]
     },
     "metadata": {
      "application/vnd.databricks.v1+output": {
       "addedWidgets": {},
       "aggData": [],
       "aggError": "",
       "aggOverflow": false,
       "aggSchema": [],
       "aggSeriesLimitReached": false,
       "aggType": "",
       "arguments": {},
       "columnCustomDisplayInfos": {},
       "data": [
        [
         49.99,
         1003.39,
         "1895b922-5c66-4d7b-bcfa-ec6bb355b0ec",
         26.08,
         "1993-04-13T22:04:18"
        ],
        [
         56.99,
         1010.56,
         "c7111856-eaf2-43da-827e-ae70232842b1",
         20.3,
         "1988-10-31T14:38:45"
        ],
        [
         41.29,
         1012.52,
         "5a61a7b2-724d-4d84-b4f6-f51f7039ae97",
         26.56,
         "1987-04-24T22:18:32"
        ],
        [
         47.78,
         1014.82,
         "e308eb54-ed3f-4c28-8552-44c5c88e7fa1",
         29.73,
         "1993-11-23T04:18:17"
        ],
        [
         58.92,
         1000.05,
         "b113908a-6963-470c-9788-510521eb8a74",
         21.08,
         "2007-03-02T14:42:08"
        ],
        [
         46.51,
         1008.96,
         "80d978e1-e602-42a4-8521-e19a0130e9e0",
         25.6,
         "1988-09-06T19:31:24"
        ],
        [
         55.16,
         1005.49,
         "af7d4b05-3493-44d2-af62-361fd0815467",
         29.36,
         "1971-10-05T16:21:51"
        ],
        [
         51.95,
         1018.99,
         "dd47145f-d9cb-465e-88d9-488af80f3fbb",
         23.01,
         "2013-12-26T21:59:57"
        ],
        [
         58.82,
         1013.66,
         "9f7c1e12-5691-49c4-9455-8c4c58b4fa57",
         24.92,
         "1988-12-04T01:50:54"
        ],
        [
         40.63,
         1016.5,
         "cccedfed-b96c-406d-8cf5-4b3af04a9e4d",
         29.85,
         "1997-08-31T06:16:42"
        ],
        [
         57.89,
         1015.67,
         "ab86dd50-3b3d-412b-966c-d8ad67c976ce",
         21.09,
         "1984-10-22T21:37:04"
        ],
        [
         45.73,
         1002.75,
         "a7b1774f-1d3a-40ce-b7d1-49052b8c3651",
         24.54,
         "1987-08-01T08:46:56"
        ],
        [
         49.09,
         1018.43,
         "28f17fdc-e1d1-4d4b-8ea0-19e479f6236b",
         20.65,
         "1993-06-12T21:44:41"
        ],
        [
         55.13,
         1015.09,
         "0f2255b5-e19f-4434-8b4b-a1e35331a692",
         22.34,
         "2022-12-29T04:05:06"
        ],
        [
         45.49,
         1017.55,
         "51fccabc-370d-4351-84b8-f5c164e17bbf",
         22.69,
         "2007-11-09T02:56:12"
        ],
        [
         58.1,
         1013.81,
         "9fd0e31b-4894-4011-b0aa-6d5fdd308bda",
         24.19,
         "1983-03-29T02:57:34"
        ],
        [
         46.45,
         1006.63,
         "0da7d7ac-0795-46b8-ba70-db7013b3a2e5",
         21.12,
         "1979-12-21T15:23:22"
        ],
        [
         55.81,
         1010.76,
         "62640add-e15a-4b6a-8457-b9bc3d4212aa",
         23.47,
         "2016-02-21T05:05:59"
        ],
        [
         56.04,
         1011.87,
         "dff0c609-bec0-4b23-8766-4c862f3a9199",
         24.53,
         "1992-12-16T23:10:43"
        ],
        [
         57.91,
         1004.38,
         "42202c31-7e7d-4746-9d13-3a8369bec24c",
         23.08,
         "2010-09-03T02:45:02"
        ],
        [
         45.9,
         1001.17,
         "9cd40ab3-effd-4bb7-a416-efe11c136d4c",
         26.24,
         "1979-12-16T23:26:42"
        ],
        [
         45.62,
         1014.83,
         "dd2b746a-bf72-4682-bc36-e419d76da94b",
         26.1,
         "1993-03-05T07:30:41"
        ],
        [
         50.33,
         1007.3,
         "d5769530-fcdd-4f3b-9935-c5f3a486d5ae",
         26.04,
         "2007-07-19T07:30:44"
        ],
        [
         53.94,
         1017.72,
         "a3596852-7508-4d56-a676-9e07561f032b",
         25.48,
         "2008-07-03T15:10:49"
        ],
        [
         55.89,
         1019.38,
         "b8f62f4a-0047-47b6-a23a-91c7bde22230",
         29.36,
         "1979-06-19T17:41:24"
        ],
        [
         46.66,
         1013.03,
         "1cc7cdb5-d891-4424-9fbb-457a1a79b1c5",
         24.58,
         "2005-05-15T20:40:21"
        ],
        [
         41.67,
         1016.06,
         "45853e98-5520-400f-b0f7-d3b2c4836878",
         25.52,
         "1992-09-07T05:55:52"
        ],
        [
         42.11,
         1016.73,
         "0fd4b88b-00e1-442d-8096-19a86792ade8",
         20.16,
         "1992-06-26T23:45:11"
        ],
        [
         49.85,
         1013.1,
         "ee778485-6d96-42da-b983-46328b03f2fb",
         25.41,
         "1988-08-06T01:23:44"
        ],
        [
         56.16,
         1018.14,
         "290919eb-5615-4bfb-88fc-43e364f97d4c",
         28.99,
         "1977-07-05T18:47:41"
        ],
        [
         40.65,
         1014.42,
         "4129c4fe-4a90-408b-beec-42529a91890b",
         27.5,
         "2023-08-05T14:09:42"
        ],
        [
         45.23,
         1017.79,
         "db57457b-1f21-4d93-b89c-3b8b3a9b95b4",
         26.46,
         "2015-03-06T22:09:45"
        ],
        [
         41.83,
         1000.93,
         "390314a5-23d4-4823-a262-fd7561135de5",
         28.89,
         "1994-07-18T08:36:41"
        ],
        [
         48.7,
         1012.26,
         "df6667ce-4b0f-48b0-83ee-83a5f07c143c",
         24.66,
         "1971-12-29T10:04:25"
        ],
        [
         53.21,
         1012.32,
         "c1248f13-684c-4306-ab0b-50fbba9df133",
         29.34,
         "2004-04-11T11:36:23"
        ],
        [
         54.2,
         1016.99,
         "4e4631b9-4cd0-4270-b090-fa8da70ef628",
         25.79,
         "1995-03-31T11:38:01"
        ],
        [
         50.31,
         1008.99,
         "c3607b48-2855-412a-a476-5bf02fa9d420",
         22.06,
         "1995-12-30T23:48:06"
        ],
        [
         51.44,
         1003.52,
         "9928f3a8-9d91-482b-9cd2-4957d317cc91",
         20.82,
         "1985-09-19T05:11:41"
        ],
        [
         52.2,
         1008.8,
         "37004b37-5584-4392-9f94-1e1685191811",
         28.33,
         "1996-09-01T10:01:33"
        ],
        [
         54.75,
         1004.61,
         "433ad7fc-cbcf-47d3-9c5e-a49d9716968e",
         29.32,
         "1972-03-06T02:50:22"
        ],
        [
         40.7,
         1007.92,
         "438b6118-9225-4bf2-a3e9-32e65c8df0ab",
         28.54,
         "1974-01-07T07:20:23"
        ],
        [
         52.04,
         1009.97,
         "845bbc3d-d645-409b-847d-7f4e1b9b57bd",
         25.95,
         "1997-03-29T10:18:46"
        ],
        [
         48.17,
         1017.81,
         "14428f51-ef4e-4bda-80bc-7aff5de6526e",
         26.7,
         "2022-06-23T19:56:14"
        ],
        [
         43.83,
         1007.32,
         "8e3e8085-798c-490f-8430-2f93994ec4e7",
         27.46,
         "1990-10-10T05:58:18"
        ],
        [
         41.35,
         1016.77,
         "216369f3-6d5a-4d4d-9a9d-47297f0327e8",
         28.47,
         "1998-11-24T15:10:12"
        ],
        [
         43.2,
         1001.5,
         "248fcb72-860d-4ae2-aadd-941e0f8768b8",
         26.96,
         "1979-06-25T14:21:39"
        ],
        [
         52.01,
         1003.77,
         "2f89a865-dbc0-4b26-9873-2dac003e3c82",
         24.75,
         "2013-01-07T09:51:30"
        ],
        [
         48.37,
         1011.55,
         "37df741b-e640-4ec4-9a52-6ada4773f378",
         24.04,
         "2001-07-10T19:59:28"
        ],
        [
         55.31,
         1012.69,
         "24b3c87c-7d46-4f89-939e-527a3961c5e3",
         22.64,
         "1996-11-26T22:27:19"
        ],
        [
         44.17,
         1014.58,
         "a9bc31f4-3453-42c7-a117-0f6805533714",
         22.55,
         "1988-12-13T10:03:51"
        ],
        [
         42.37,
         1011.07,
         "6ea7da91-18c3-4cff-9be5-227330e8a832",
         28.95,
         "1974-01-23T18:06:17"
        ],
        [
         53.7,
         1003.76,
         "b9bd9e0d-39e8-4d75-8351-409decd8c96e",
         27.08,
         "2017-12-11T19:42:06"
        ],
        [
         40.58,
         1003.16,
         "ee15ec0f-868b-459c-a1da-9d0630d45bab",
         25.77,
         "2020-07-04T08:18:53"
        ],
        [
         58.34,
         1016.36,
         "05e9e8a6-3e0e-4db4-804f-8eeccbfec8ad",
         21.82,
         "2014-07-26T17:18:25"
        ],
        [
         58.12,
         1013.59,
         "76c2fa3a-bd74-4430-808a-82fbf0e1eb02",
         20.63,
         "1979-07-23T16:43:13"
        ],
        [
         47.21,
         1016.57,
         "8c6a7724-2364-4489-b863-a8821e9a7c1f",
         28.52,
         "1979-04-13T08:21:27"
        ],
        [
         40.23,
         1012.94,
         "7cad3d9c-951f-4fb4-b217-3279f6aeeb41",
         26.39,
         "1979-11-29T19:04:02"
        ],
        [
         51.59,
         1012.47,
         "565ef26a-b95c-40c0-981c-efff56ea59ad",
         24.37,
         "2023-05-09T06:40:31"
        ],
        [
         48.27,
         1002.72,
         "7817ca57-ad8e-43b5-b7fa-e55dec89fc02",
         27.35,
         "1973-08-04T10:40:20"
        ],
        [
         49.37,
         1005.69,
         "489f290d-b8cc-4ca0-868a-7b8374d64bd4",
         24.54,
         "2016-02-03T00:16:17"
        ],
        [
         49.85,
         1005.8,
         "3b6697a4-ed30-4dc0-b672-ce007b4b5e94",
         25.69,
         "2013-07-16T09:42:44"
        ],
        [
         58.18,
         1011.29,
         "fdab7c90-9b83-4660-856f-4c3b85cb4796",
         25.74,
         "1977-07-28T13:24:26"
        ],
        [
         54.57,
         1010.98,
         "e3f2cd2f-a3dc-4b9b-bb93-187b036bc0ec",
         24.45,
         "1988-12-29T05:27:15"
        ],
        [
         51.91,
         1000.87,
         "ed114c42-0f79-4abe-a2ea-9a7c880eeb40",
         26.45,
         "1981-08-31T14:13:06"
        ],
        [
         57.6,
         1006.4,
         "9c1b2c67-5494-4385-a97c-89d8ca5cf5b3",
         27.77,
         "1981-12-14T23:02:14"
        ],
        [
         41.39,
         1005.37,
         "aa1cc9bf-4b61-4956-a114-cff7a56e1de5",
         22.83,
         "2020-10-06T23:30:25"
        ],
        [
         45.79,
         1007.24,
         "ab647632-9113-43f1-abe9-b6d901ccee59",
         27.67,
         "1983-08-21T08:55:26"
        ],
        [
         48.79,
         1013.02,
         "b273e374-4bc3-472e-b36c-989745bdf06b",
         24.16,
         "2009-06-14T18:35:45"
        ],
        [
         54.47,
         1014.09,
         "547c2f93-bf9b-42cb-ac94-1dc66b03b2a7",
         21.11,
         "1981-06-23T05:09:20"
        ],
        [
         45.11,
         1004.22,
         "17302fb3-fbc1-450c-beac-ad0284878db7",
         21.69,
         "1973-06-16T12:57:18"
        ],
        [
         58.19,
         1008.78,
         "f1227721-05ae-4540-be60-e86b2dd31243",
         24.77,
         "2004-12-20T19:33:55"
        ],
        [
         49.03,
         1001.52,
         "7bdfaff4-e604-4227-a5f9-e85b9216ff0f",
         28.62,
         "1978-11-02T21:20:30"
        ],
        [
         45.76,
         1008.64,
         "8780e061-1531-4a3b-9a06-f019066d2538",
         27.91,
         "2013-04-17T10:29:44"
        ],
        [
         58.62,
         1007.09,
         "924ddd16-9ac8-4bbd-9983-729c01a4b8c2",
         21.59,
         "1981-04-11T07:36:43"
        ],
        [
         44.8,
         1011.61,
         "84b3a4f4-551a-4b79-8f85-9bb53390f595",
         28.41,
         "1979-02-14T16:12:01"
        ],
        [
         47.26,
         1015.08,
         "fe74283d-dff4-4bbc-ba29-05853624eef1",
         29.89,
         "1993-07-15T23:03:32"
        ],
        [
         56.92,
         1011.88,
         "f475bc86-270a-4f89-a67e-710ab8479594",
         23.99,
         "2000-10-21T09:12:57"
        ],
        [
         49.64,
         1018.91,
         "11660212-95a7-400a-9579-70d29360d488",
         21.49,
         "2010-07-26T01:34:50"
        ],
        [
         43.19,
         1009.96,
         "300cf571-b984-43b7-9965-b63034f09a36",
         28.88,
         "2009-08-01T11:30:05"
        ],
        [
         54.63,
         1007.27,
         "416e694e-ebec-4a33-8142-316728c8f30e",
         22.07,
         "1991-08-27T04:34:51"
        ],
        [
         57.27,
         1017.82,
         "c8a3b898-4a98-4f79-9dad-0e29c81c8ad0",
         26.37,
         "2021-09-08T00:53:29"
        ],
        [
         47.81,
         1011.05,
         "d525b0e5-0e26-4e9d-8c32-1669aaf3a6c8",
         28.41,
         "2011-10-23T00:18:11"
        ],
        [
         56.05,
         1016.39,
         "5cfee4eb-2930-43ea-be81-13119611aa1b",
         27.6,
         "2002-09-24T12:05:53"
        ],
        [
         55.91,
         1011.0,
         "396228d9-22d3-4a83-9aca-603a6ace9b62",
         22.93,
         "1983-10-31T07:35:55"
        ],
        [
         40.7,
         1012.38,
         "038c8e0e-40d2-4e69-aa4c-eeed9e45b79d",
         26.39,
         "2006-06-21T12:15:47"
        ],
        [
         47.24,
         1013.16,
         "66b5a3d9-2290-4c24-ba0d-4bceb5f355f3",
         24.58,
         "1993-11-23T01:56:06"
        ],
        [
         55.55,
         1006.68,
         "8a94093d-f33a-4572-acc0-d4713a780f57",
         22.8,
         "2014-01-22T13:29:44"
        ],
        [
         51.86,
         1019.77,
         "d63e8110-21a4-4e10-a12d-e6110647c1dd",
         27.64,
         "1992-02-17T22:33:43"
        ],
        [
         41.11,
         1006.29,
         "83f01847-10d7-43b1-b3f2-efa6fdbe0df4",
         23.49,
         "1979-01-24T13:22:20"
        ],
        [
         54.07,
         1005.88,
         "bb7407c1-e3b9-4151-adff-01c9992effc2",
         26.49,
         "2006-05-05T09:40:46"
        ],
        [
         43.69,
         1000.97,
         "b69296d4-a4a0-4d6f-b051-84e5ab2af317",
         28.21,
         "1993-08-13T12:19:33"
        ],
        [
         43.33,
         1006.67,
         "76dae1af-8606-41c3-b0ce-56422357038e",
         25.28,
         "1978-12-19T02:44:24"
        ],
        [
         48.39,
         1013.38,
         "c0daa2fa-5941-4d0c-ac50-6083e6dd4aef",
         28.64,
         "2004-10-31T01:29:13"
        ],
        [
         56.6,
         1006.53,
         "341318f9-c561-40d7-a422-d1bed9cdcdda",
         27.46,
         "1998-06-21T06:36:15"
        ],
        [
         53.46,
         1017.26,
         "44449175-3b32-479b-b2d9-0e40ceec51da",
         22.36,
         "1988-10-23T14:16:21"
        ],
        [
         54.94,
         1009.62,
         "6b5207da-e8eb-4f2a-97ed-e094f91b6a3f",
         29.78,
         "2002-07-09T17:51:38"
        ],
        [
         44.98,
         1017.48,
         "409cf598-468d-4f79-85d5-6f30f275c211",
         26.02,
         "1979-11-06T15:55:21"
        ],
        [
         47.83,
         1010.68,
         "9eb1eb5b-2e8d-4679-a796-389c3cd3281e",
         29.49,
         "1973-08-29T15:49:37"
        ],
        [
         59.65,
         1013.5,
         "fe4d971b-17eb-4db9-b3f2-cc0db98dbb22",
         22.42,
         "1979-04-19T14:47:32"
        ],
        [
         54.97,
         1013.83,
         "1d9c964d-976f-4fdc-8e14-ba42f01576e8",
         26.94,
         "1970-11-22T08:03:50"
        ],
        [
         55.72,
         1014.8,
         "80e5130a-53c8-4469-9485-3d03827fe886",
         23.94,
         "1985-03-08T23:00:43"
        ],
        [
         40.79,
         1016.0,
         "2e0f90ed-29f9-407a-b7f5-c76960ca3ccb",
         27.06,
         "1996-07-31T14:11:35"
        ],
        [
         43.48,
         1006.57,
         "bf1e63fd-6f4e-46eb-bf5c-1fe8b9330ac3",
         22.49,
         "1994-05-05T23:40:26"
        ],
        [
         47.49,
         1001.65,
         "55ebc2cc-9fe2-47f9-96f0-75cc49a65781",
         25.25,
         "2006-10-11T05:22:05"
        ],
        [
         48.19,
         1008.92,
         "57fb945d-0e3a-4d8b-8c63-decaa4f4a7ac",
         23.46,
         "1976-02-13T10:07:45"
        ],
        [
         54.84,
         1018.48,
         "e3ade2e1-e7cc-4baa-866e-4a03cd9dd691",
         23.76,
         "2004-09-30T02:07:19"
        ],
        [
         46.58,
         1006.98,
         "abd41be5-026a-421e-96d7-3b6652b7fa5d",
         21.78,
         "2007-08-10T22:09:07"
        ],
        [
         58.4,
         1016.63,
         "5361c7f0-d50f-4bb8-8db0-8859d2cde923",
         27.52,
         "2019-02-09T11:59:01"
        ],
        [
         43.26,
         1007.41,
         "c53b8867-b06b-4d92-a9d8-a48c189b13f5",
         21.42,
         "2014-06-24T00:53:06"
        ],
        [
         57.49,
         1012.63,
         "1bb348fd-8232-4fff-a50c-6fb949847919",
         29.77,
         "1970-07-10T22:57:27"
        ],
        [
         44.84,
         1016.17,
         "45b6693d-fa46-4a26-a0f1-a05938009a2f",
         24.61,
         "2020-04-24T19:16:47"
        ],
        [
         54.42,
         1001.16,
         "267d5e9f-711a-4e42-a4fe-d6e7bc799a0d",
         26.13,
         "2013-05-27T08:45:36"
        ],
        [
         51.67,
         1011.19,
         "ffbfd054-7876-4d08-8d44-d0bf8141d962",
         22.55,
         "1982-07-11T10:22:11"
        ],
        [
         45.32,
         1016.7,
         "612185fd-5396-4462-9151-4e9f54a00115",
         27.45,
         "1987-01-16T03:04:46"
        ],
        [
         45.52,
         1015.21,
         "36dcb7c0-8b37-453f-b9b7-c1b7e225f3d7",
         20.05,
         "2019-05-26T19:42:54"
        ],
        [
         43.23,
         1019.59,
         "dffd0592-69d5-4535-8e9c-b2819372b3e6",
         22.84,
         "2003-10-08T19:05:06"
        ],
        [
         51.05,
         1000.14,
         "2b4c6568-dc6a-486a-92f9-4b550683e603",
         23.82,
         "1979-12-09T16:32:01"
        ],
        [
         48.77,
         1007.28,
         "51498467-76eb-406c-9ce3-f436e14676b5",
         21.45,
         "1996-10-30T10:27:33"
        ],
        [
         43.52,
         1009.18,
         "f18a893b-c1eb-4d80-8def-dfc6da892078",
         24.38,
         "2019-10-24T05:04:03"
        ],
        [
         52.66,
         1004.99,
         "ebc83d78-9590-4c58-8af9-f542897ff785",
         21.41,
         "1975-12-17T20:35:23"
        ],
        [
         57.06,
         1015.97,
         "39aad220-3650-4397-a770-85f2467a2dfc",
         28.69,
         "2010-03-09T05:52:46"
        ],
        [
         53.74,
         1015.41,
         "da81adcc-afbe-44f8-98dc-e2343c344b17",
         26.83,
         "1991-03-07T07:09:16"
        ],
        [
         40.88,
         1005.24,
         "f3ae2b40-4360-4612-9ede-60a629eb29c9",
         29.09,
         "1987-10-23T13:07:47"
        ],
        [
         49.89,
         1002.09,
         "cc117643-2c4e-4047-bd62-2fe4154df122",
         22.73,
         "2000-06-23T12:36:46"
        ],
        [
         49.8,
         1016.72,
         "0fd92dba-a72d-45cc-86f7-b277233647bc",
         26.36,
         "1978-11-10T02:31:37"
        ],
        [
         46.21,
         1019.74,
         "151deaef-8bb0-4d9d-ac97-9d07bdbb9e80",
         25.3,
         "2023-03-08T08:12:15"
        ],
        [
         41.84,
         1016.54,
         "cf45588d-5598-49c1-be3f-88495ddc7d4c",
         25.97,
         "1975-06-05T01:04:07"
        ],
        [
         46.31,
         1012.66,
         "1be96470-5782-4c27-8bf8-b51c489bea9d",
         25.26,
         "2013-09-05T10:25:36"
        ],
        [
         49.0,
         1016.44,
         "3f58c872-29e6-4240-a0ec-6ec4f331d30d",
         25.83,
         "2002-09-29T08:42:12"
        ],
        [
         54.85,
         1011.79,
         "6c6dbe58-f9eb-4028-900c-9d0f6b78ae78",
         27.7,
         "2016-07-19T00:32:31"
        ],
        [
         41.75,
         1015.69,
         "288ea2f6-3df1-48c7-80ec-f5a4e29717ca",
         26.22,
         "1970-10-12T22:18:36"
        ],
        [
         42.42,
         1018.09,
         "27598fad-ad97-4879-b732-4faa2a8997fe",
         22.68,
         "2017-08-01T22:02:12"
        ],
        [
         44.61,
         1013.01,
         "cf2f671e-c604-4375-80d5-c64e5bf3ffd1",
         20.98,
         "1998-05-14T09:05:26"
        ],
        [
         56.57,
         1003.94,
         "2d878004-3296-4d25-a8fb-5621445dd068",
         24.45,
         "2016-01-11T09:13:37"
        ],
        [
         49.75,
         1016.06,
         "8aaaf178-1771-4a27-9ae5-8557d13fc04d",
         22.02,
         "1986-07-19T09:49:54"
        ],
        [
         41.61,
         1000.84,
         "508a4785-f30b-4ac0-a24e-8d837b8341a0",
         23.81,
         "1995-04-07T05:54:36"
        ],
        [
         49.58,
         1016.46,
         "4ba14cb5-b586-4fe4-b889-7abd24c74274",
         22.68,
         "1980-01-31T18:52:42"
        ],
        [
         53.57,
         1000.25,
         "cc54ab09-8d90-4d3b-9903-841bae88c36c",
         20.21,
         "2009-12-26T16:44:02"
        ],
        [
         55.92,
         1012.54,
         "4fdd0994-fec6-4f23-939f-06f5c5d76479",
         22.84,
         "2014-09-04T17:25:04"
        ],
        [
         40.81,
         1006.34,
         "872e2749-071a-461c-b227-19a1a5b604c1",
         29.52,
         "2011-10-28T21:08:17"
        ],
        [
         56.94,
         1002.11,
         "1196a925-dfaf-4b72-9fbd-9de62b37b6d9",
         28.39,
         "2004-11-17T02:58:54"
        ],
        [
         57.99,
         1017.18,
         "ee3505ce-1aa4-415c-bbd1-0c2e23c613a8",
         20.49,
         "1980-11-02T03:11:37"
        ],
        [
         45.55,
         1005.51,
         "765fc871-eed5-461a-8cbb-1c868a0bf261",
         29.03,
         "2002-05-16T05:53:10"
        ],
        [
         48.86,
         1007.2,
         "af89c966-c747-4c4e-a3b3-bcd29e9ab950",
         25.7,
         "2013-09-03T20:37:39"
        ],
        [
         59.41,
         1005.0,
         "e50a984a-4ec8-4f81-b12c-6085a0bc080f",
         26.93,
         "2001-01-08T20:47:05"
        ],
        [
         55.33,
         1011.76,
         "67e25be8-438d-4aff-8ce1-94c1047e06c0",
         27.37,
         "2019-08-14T15:42:52"
        ],
        [
         47.53,
         1006.79,
         "035b4c03-ae45-4d71-9cca-d3c1a01a8316",
         27.7,
         "2013-09-22T03:27:10"
        ],
        [
         57.13,
         1011.85,
         "9ad47cd0-7739-49ac-83fe-6587c59ee736",
         21.61,
         "1974-03-13T09:13:41"
        ],
        [
         56.46,
         1003.11,
         "f8a80e6e-03a5-42f8-b26f-8137d823dabf",
         23.83,
         "2004-04-29T20:36:03"
        ],
        [
         53.89,
         1018.04,
         "d93985a2-4246-4e4f-ae46-31fb346f184c",
         24.95,
         "1993-04-28T15:09:57"
        ],
        [
         48.94,
         1014.87,
         "80d5d3b3-4198-4958-9ea8-41b72d4c5056",
         25.68,
         "1978-07-30T13:13:11"
        ],
        [
         58.66,
         1013.89,
         "fa51684f-f345-448c-b483-1f6032f7049c",
         27.8,
         "1990-06-16T01:50:19"
        ],
        [
         59.28,
         1007.43,
         "695c174e-d1d2-491b-aca5-c85409c52e26",
         26.73,
         "2020-02-08T10:35:08"
        ],
        [
         58.72,
         1000.5,
         "f17edb3b-6b65-4c5b-b4ec-974a7c1d4a95",
         21.84,
         "1973-12-02T17:57:06"
        ],
        [
         48.26,
         1001.54,
         "a359332b-9588-420e-88a9-4616f44aa208",
         29.21,
         "1991-01-22T09:17:54"
        ],
        [
         47.2,
         1004.1,
         "a8a46f72-5c52-4709-ac81-562348958c10",
         22.44,
         "2001-01-02T23:23:47"
        ],
        [
         47.78,
         1014.08,
         "c7e5f59f-7ad9-44c2-8639-522d3e44c036",
         27.95,
         "2004-03-28T00:25:04"
        ],
        [
         43.5,
         1001.13,
         "59df4484-6055-47c3-854b-d22b4de58a90",
         20.73,
         "1992-03-30T13:17:54"
        ],
        [
         40.98,
         1011.52,
         "6d09165b-2288-45fb-92b7-ed0b96c2b92d",
         21.49,
         "1998-03-15T05:53:52"
        ],
        [
         40.01,
         1016.68,
         "ae4566b1-0ca6-40c2-8c7b-fb837975f84f",
         25.51,
         "1987-09-18T23:26:52"
        ],
        [
         44.18,
         1010.02,
         "d5049464-b50d-4136-bfc2-5fa47c0f9953",
         20.64,
         "2007-07-30T02:14:14"
        ],
        [
         48.42,
         1017.89,
         "7b8e8d09-d8d8-4641-9b8e-a6dfdb1448e4",
         27.87,
         "2010-06-28T03:15:16"
        ],
        [
         53.86,
         1006.04,
         "841e4f42-e616-486d-b964-cf2a08577482",
         27.34,
         "1979-03-09T11:23:01"
        ],
        [
         43.06,
         1000.7,
         "155bba12-080a-4700-b2ef-63e103bd0127",
         27.36,
         "1989-05-17T13:27:12"
        ],
        [
         42.63,
         1019.77,
         "20e87425-992a-4ba0-9fb7-ae5b221b6c1e",
         27.28,
         "1988-05-08T08:11:05"
        ],
        [
         50.8,
         1004.72,
         "30c516ec-bfd7-498a-a4d6-e7cbcaf5ac1b",
         23.56,
         "2011-02-14T20:19:33"
        ],
        [
         58.13,
         1013.24,
         "3186ee0c-bbf3-48e7-bf0a-bb96b2fd2b6f",
         26.44,
         "1977-03-31T01:20:50"
        ],
        [
         57.18,
         1000.78,
         "4a965731-02b9-448f-b5a0-e4c866825fc3",
         25.55,
         "1978-01-05T22:09:39"
        ],
        [
         51.99,
         1011.53,
         "70cc99fb-b2a1-4784-accb-5a314b6f1821",
         27.53,
         "1988-03-05T01:00:23"
        ],
        [
         41.16,
         1000.39,
         "b24be1ec-93fd-4b55-a997-7093427fdd53",
         22.77,
         "1988-09-26T02:28:12"
        ],
        [
         49.18,
         1016.57,
         "924db1dd-9d2a-47f7-bf9c-679259c1ef06",
         26.23,
         "2009-07-16T11:13:40"
        ],
        [
         54.05,
         1004.07,
         "6f3a10ab-99ad-4462-ab94-0635ceb01fd0",
         29.37,
         "2006-06-13T08:27:17"
        ],
        [
         48.15,
         1016.0,
         "45d9f67e-c737-4658-99e3-afe0c7c2cd05",
         23.07,
         "2007-03-05T15:14:45"
        ],
        [
         57.85,
         1018.07,
         "21ebed5e-0890-46ab-8139-7a275654b1a7",
         24.3,
         "1991-05-14T12:17:08"
        ],
        [
         56.48,
         1002.67,
         "3a141a35-1814-4030-ae4e-d35cc4983507",
         29.72,
         "2018-10-08T15:36:36"
        ],
        [
         49.75,
         1003.28,
         "f39f44b3-2d7f-43f1-beb3-c38ba6ffc06d",
         27.72,
         "1970-11-16T21:30:00"
        ],
        [
         51.81,
         1008.68,
         "fd0ea9b9-587a-42f5-ad5b-87dfcba996f2",
         27.54,
         "1977-03-25T00:40:35"
        ],
        [
         54.28,
         1009.1,
         "57fc741f-186c-4031-8d80-4d9d22a14c4a",
         28.1,
         "1989-11-05T15:09:05"
        ],
        [
         55.88,
         1002.37,
         "28de8c73-d7e6-4d31-9ffa-f923724f50ea",
         23.95,
         "2007-01-14T03:03:18"
        ],
        [
         40.19,
         1009.17,
         "6481dba3-5472-4623-abfb-03a5910d0ecd",
         26.31,
         "2016-10-31T13:33:35"
        ],
        [
         55.49,
         1019.59,
         "6fa34ee1-5be6-4bc6-a003-cca83262e703",
         21.71,
         "2007-02-03T18:07:20"
        ],
        [
         49.32,
         1013.26,
         "981a493d-c107-4ac4-bc70-a7505cd0d03c",
         24.47,
         "2010-06-06T10:02:36"
        ],
        [
         44.78,
         1015.16,
         "c7cb76c0-5a1e-4763-89ea-b7a556adfe79",
         22.08,
         "2003-04-22T04:21:09"
        ],
        [
         51.46,
         1015.2,
         "9ba60dc3-4242-43f4-b54a-64f7d817b932",
         27.43,
         "2020-08-10T18:40:11"
        ],
        [
         43.64,
         1011.59,
         "a70b4c88-4b2d-4889-8ee2-934c52ba46a9",
         27.44,
         "1983-08-19T21:38:32"
        ],
        [
         53.27,
         1003.74,
         "c11931a8-f3cd-4c41-9e70-abd963ee6464",
         24.65,
         "1999-01-11T12:16:58"
        ],
        [
         48.97,
         1007.42,
         "d3fdfab8-5fa4-47f5-a98d-3ad4089e9125",
         25.46,
         "1997-12-30T18:43:21"
        ],
        [
         46.44,
         1013.29,
         "f7429ad7-d88c-4a7c-80d5-82969a022bac",
         23.5,
         "2020-12-17T15:29:15"
        ],
        [
         43.02,
         1002.17,
         "3f66bb85-4da7-4f63-b89b-d382066147d1",
         26.01,
         "1978-10-18T09:30:36"
        ],
        [
         52.05,
         1015.81,
         "5373b0a0-1742-4ebe-8c21-4d60198b6ffa",
         29.51,
         "2001-09-14T23:22:21"
        ],
        [
         52.69,
         1003.77,
         "19f5011e-e1c9-418f-824f-55debbf5cd2b",
         21.53,
         "1987-11-11T10:59:25"
        ],
        [
         51.2,
         1000.19,
         "a13882b6-eee8-4ab6-a9db-1d58f5a6a5a5",
         22.01,
         "1999-12-30T02:12:10"
        ],
        [
         49.78,
         1006.43,
         "2f9860c6-f01a-42a3-83a5-3bf19ba4c56d",
         22.77,
         "1982-02-17T01:12:29"
        ],
        [
         40.97,
         1004.44,
         "e43fab25-9d87-4551-801f-9a8cf35a3003",
         28.27,
         "2011-12-08T15:17:23"
        ],
        [
         53.53,
         1005.84,
         "f76c6fc4-cb95-462b-8366-7c0ad5d7647d",
         27.42,
         "2017-10-20T09:11:13"
        ],
        [
         54.07,
         1017.22,
         "ac11ce12-7aa7-4842-9c51-efe4e1d1b92f",
         28.89,
         "2012-03-07T02:27:48"
        ],
        [
         43.29,
         1012.14,
         "23cb0396-3bb0-4e9e-b342-065c2c36eb0c",
         21.47,
         "1999-07-26T02:30:33"
        ],
        [
         50.15,
         1003.17,
         "27abc9fc-34e1-499c-81bc-4d89aa7fe771",
         29.2,
         "1989-02-25T14:50:03"
        ],
        [
         42.39,
         1011.38,
         "a843b9c6-cfb7-4625-b465-9641edcb431c",
         29.55,
         "2008-01-08T09:18:10"
        ],
        [
         46.32,
         1009.1,
         "61b0094b-5c90-499f-831f-e738414344f7",
         26.34,
         "1973-01-02T08:18:17"
        ],
        [
         51.14,
         1004.84,
         "f021522a-0d57-4b75-96a1-4df3535898c2",
         26.51,
         "1990-07-27T16:01:30"
        ],
        [
         58.0,
         1007.47,
         "9ec49dac-c82f-4218-bad8-c5c8631bbc55",
         27.97,
         "1999-01-17T15:07:09"
        ],
        [
         54.71,
         1004.58,
         "e06133b3-f6b3-4600-8e3e-1417ff595426",
         26.83,
         "1997-04-09T07:07:38"
        ],
        [
         54.81,
         1010.99,
         "cff172c2-4747-4b38-881f-b0787e0ab0e3",
         23.52,
         "1984-08-15T21:38:07"
        ],
        [
         54.2,
         1015.0,
         "c636c7d9-ce13-4154-b5de-5b56f3718997",
         26.76,
         "1983-08-12T02:49:13"
        ],
        [
         50.09,
         1012.79,
         "eed098e7-1cb1-421e-bb68-2ea109c46198",
         23.46,
         "2002-01-15T12:06:13"
        ],
        [
         49.43,
         1009.31,
         "ba3b9325-25f8-4366-a085-5f014715cb08",
         24.77,
         "2021-05-28T16:16:19"
        ],
        [
         41.53,
         1001.67,
         "f3b6b54c-cba8-4c98-8e41-0fc88ec0abba",
         25.22,
         "1984-01-12T19:20:48"
        ],
        [
         45.57,
         1000.78,
         "f10eb9b2-c8ef-471c-83d9-08a667cf3632",
         20.65,
         "2011-04-17T04:59:05"
        ],
        [
         42.99,
         1001.24,
         "2dac0fbf-93fe-4863-bf7e-a5dd1406df09",
         27.34,
         "1987-06-03T16:50:20"
        ],
        [
         53.79,
         1012.19,
         "6e7e6d6a-1e91-4b79-bd99-44ddd682e0b8",
         26.69,
         "1997-03-29T11:10:14"
        ],
        [
         57.62,
         1000.68,
         "ffa12684-0429-4941-b1c1-98ee120496fe",
         28.11,
         "1994-12-10T11:38:18"
        ],
        [
         50.84,
         1002.2,
         "afa03088-d12a-499d-8a3b-bacdbe0d869a",
         24.95,
         "1974-04-24T02:48:17"
        ],
        [
         59.9,
         1018.95,
         "26ab72b9-fb37-417c-b271-d85f7ceda550",
         28.69,
         "1981-04-29T00:45:58"
        ],
        [
         56.2,
         1007.29,
         "f9bbf424-5ab2-4fb9-90d4-05f574ee12c4",
         21.69,
         "2015-04-24T12:13:05"
        ],
        [
         40.87,
         1017.19,
         "576ac32b-ac1a-4f94-8033-824487b1788f",
         21.08,
         "1982-04-17T08:49:30"
        ],
        [
         46.27,
         1008.81,
         "c2de3820-5e57-445f-a1b0-133c8c105ee3",
         26.18,
         "1985-02-19T00:39:08"
        ],
        [
         53.16,
         1008.0,
         "e59e46ae-2661-4947-878b-367fb498dce1",
         23.16,
         "2004-10-19T18:18:29"
        ],
        [
         40.62,
         1016.96,
         "707e720d-dc9d-4c0b-b89b-2560b7d42038",
         28.81,
         "1975-11-27T06:21:37"
        ],
        [
         58.22,
         1004.99,
         "3f6e1731-cfc8-4a99-9ecf-c2b8fbccc5e5",
         22.87,
         "2008-09-18T12:32:16"
        ],
        [
         57.66,
         1019.56,
         "74e44ff5-fe8d-4383-81c7-2b67c97c31e9",
         23.87,
         "1999-03-10T09:08:35"
        ],
        [
         55.89,
         1003.6,
         "f76917f7-fca8-45c8-a221-06bc8e371844",
         27.65,
         "2016-07-29T19:48:51"
        ],
        [
         52.93,
         1002.08,
         "e188e5ef-8e65-450f-b4a8-8a75bf147b51",
         20.39,
         "2008-04-01T17:33:32"
        ]
       ],
       "datasetInfos": [],
       "dbfsResultPath": null,
       "isJsonSchema": true,
       "metadata": {},
       "overflow": false,
       "plotOptions": {
        "customPlotOptions": {},
        "displayType": "table",
        "pivotAggregation": null,
        "pivotColumns": null,
        "xColumns": null,
        "yColumns": null
       },
       "removedWidgets": [],
       "schema": [
        {
         "metadata": "{}",
         "name": "humidity",
         "type": "\"double\""
        },
        {
         "metadata": "{}",
         "name": "pressure",
         "type": "\"double\""
        },
        {
         "metadata": "{}",
         "name": "sensor_id",
         "type": "\"string\""
        },
        {
         "metadata": "{}",
         "name": "temperature",
         "type": "\"double\""
        },
        {
         "metadata": "{}",
         "name": "timestamp",
         "type": "\"string\""
        }
       ],
       "type": "table"
      }
     },
     "output_type": "display_data"
    }
   ],
   "source": [
    "df.display()"
   ]
  },
  {
   "cell_type": "code",
   "execution_count": 0,
   "metadata": {
    "application/vnd.databricks.v1+cell": {
     "cellMetadata": {
      "byteLimit": 2048000,
      "rowLimit": 10000
     },
     "inputWidgets": {},
     "nuid": "192ee3b6-881a-4396-b03b-6baa51f151b7",
     "showTitle": false,
     "title": ""
    }
   },
   "outputs": [],
   "source": [
    "from pyspark.sql.functions import *\n",
    "df1 = df.withColumn(\"IngestionDate\", current_timestamp()).withColumn(\"path\", input_file_name())"
   ]
  },
  {
   "cell_type": "code",
   "execution_count": 0,
   "metadata": {
    "application/vnd.databricks.v1+cell": {
     "cellMetadata": {
      "byteLimit": 2048000,
      "rowLimit": 10000
     },
     "inputWidgets": {},
     "nuid": "e3fc0b46-99e1-49a8-9ee5-bfa9ae91b931",
     "showTitle": false,
     "title": ""
    }
   },
   "outputs": [
    {
     "output_type": "display_data",
     "data": {
      "text/html": [
       "<style scoped>\n",
       "  .table-result-container {\n",
       "    max-height: 300px;\n",
       "    overflow: auto;\n",
       "  }\n",
       "  table, th, td {\n",
       "    border: 1px solid black;\n",
       "    border-collapse: collapse;\n",
       "  }\n",
       "  th, td {\n",
       "    padding: 5px;\n",
       "  }\n",
       "  th {\n",
       "    text-align: left;\n",
       "  }\n",
       "</style><div class='table-result-container'><table class='table-result'><thead style='background-color: white'><tr><th>humidity</th><th>pressure</th><th>sensor_id</th><th>temperature</th><th>timestamp</th><th>IngestionDate</th><th>path</th></tr></thead><tbody><tr><td>49.99</td><td>1003.39</td><td>1895b922-5c66-4d7b-bcfa-ec6bb355b0ec</td><td>26.08</td><td>1993-04-13T22:04:18</td><td>2023-09-27T05:49:31.989+0000</td><td>dbfs:/mnt/saunextadls/raw/json/14.8.2023.json</td></tr><tr><td>56.99</td><td>1010.56</td><td>c7111856-eaf2-43da-827e-ae70232842b1</td><td>20.3</td><td>1988-10-31T14:38:45</td><td>2023-09-27T05:49:31.989+0000</td><td>dbfs:/mnt/saunextadls/raw/json/14.8.2023.json</td></tr><tr><td>41.29</td><td>1012.52</td><td>5a61a7b2-724d-4d84-b4f6-f51f7039ae97</td><td>26.56</td><td>1987-04-24T22:18:32</td><td>2023-09-27T05:49:31.989+0000</td><td>dbfs:/mnt/saunextadls/raw/json/14.8.2023.json</td></tr><tr><td>47.78</td><td>1014.82</td><td>e308eb54-ed3f-4c28-8552-44c5c88e7fa1</td><td>29.73</td><td>1993-11-23T04:18:17</td><td>2023-09-27T05:49:31.989+0000</td><td>dbfs:/mnt/saunextadls/raw/json/14.8.2023.json</td></tr><tr><td>58.92</td><td>1000.05</td><td>b113908a-6963-470c-9788-510521eb8a74</td><td>21.08</td><td>2007-03-02T14:42:08</td><td>2023-09-27T05:49:31.989+0000</td><td>dbfs:/mnt/saunextadls/raw/json/14.8.2023.json</td></tr><tr><td>46.51</td><td>1008.96</td><td>80d978e1-e602-42a4-8521-e19a0130e9e0</td><td>25.6</td><td>1988-09-06T19:31:24</td><td>2023-09-27T05:49:31.989+0000</td><td>dbfs:/mnt/saunextadls/raw/json/14.8.2023.json</td></tr><tr><td>55.16</td><td>1005.49</td><td>af7d4b05-3493-44d2-af62-361fd0815467</td><td>29.36</td><td>1971-10-05T16:21:51</td><td>2023-09-27T05:49:31.989+0000</td><td>dbfs:/mnt/saunextadls/raw/json/14.8.2023.json</td></tr><tr><td>51.95</td><td>1018.99</td><td>dd47145f-d9cb-465e-88d9-488af80f3fbb</td><td>23.01</td><td>2013-12-26T21:59:57</td><td>2023-09-27T05:49:31.989+0000</td><td>dbfs:/mnt/saunextadls/raw/json/14.8.2023.json</td></tr><tr><td>58.82</td><td>1013.66</td><td>9f7c1e12-5691-49c4-9455-8c4c58b4fa57</td><td>24.92</td><td>1988-12-04T01:50:54</td><td>2023-09-27T05:49:31.989+0000</td><td>dbfs:/mnt/saunextadls/raw/json/14.8.2023.json</td></tr><tr><td>40.63</td><td>1016.5</td><td>cccedfed-b96c-406d-8cf5-4b3af04a9e4d</td><td>29.85</td><td>1997-08-31T06:16:42</td><td>2023-09-27T05:49:31.989+0000</td><td>dbfs:/mnt/saunextadls/raw/json/14.8.2023.json</td></tr><tr><td>57.89</td><td>1015.67</td><td>ab86dd50-3b3d-412b-966c-d8ad67c976ce</td><td>21.09</td><td>1984-10-22T21:37:04</td><td>2023-09-27T05:49:31.989+0000</td><td>dbfs:/mnt/saunextadls/raw/json/14.8.2023.json</td></tr><tr><td>45.73</td><td>1002.75</td><td>a7b1774f-1d3a-40ce-b7d1-49052b8c3651</td><td>24.54</td><td>1987-08-01T08:46:56</td><td>2023-09-27T05:49:31.989+0000</td><td>dbfs:/mnt/saunextadls/raw/json/14.8.2023.json</td></tr><tr><td>49.09</td><td>1018.43</td><td>28f17fdc-e1d1-4d4b-8ea0-19e479f6236b</td><td>20.65</td><td>1993-06-12T21:44:41</td><td>2023-09-27T05:49:31.989+0000</td><td>dbfs:/mnt/saunextadls/raw/json/14.8.2023.json</td></tr><tr><td>55.13</td><td>1015.09</td><td>0f2255b5-e19f-4434-8b4b-a1e35331a692</td><td>22.34</td><td>2022-12-29T04:05:06</td><td>2023-09-27T05:49:31.989+0000</td><td>dbfs:/mnt/saunextadls/raw/json/14.8.2023.json</td></tr><tr><td>45.49</td><td>1017.55</td><td>51fccabc-370d-4351-84b8-f5c164e17bbf</td><td>22.69</td><td>2007-11-09T02:56:12</td><td>2023-09-27T05:49:31.989+0000</td><td>dbfs:/mnt/saunextadls/raw/json/14.8.2023.json</td></tr><tr><td>58.1</td><td>1013.81</td><td>9fd0e31b-4894-4011-b0aa-6d5fdd308bda</td><td>24.19</td><td>1983-03-29T02:57:34</td><td>2023-09-27T05:49:31.989+0000</td><td>dbfs:/mnt/saunextadls/raw/json/14.8.2023.json</td></tr><tr><td>46.45</td><td>1006.63</td><td>0da7d7ac-0795-46b8-ba70-db7013b3a2e5</td><td>21.12</td><td>1979-12-21T15:23:22</td><td>2023-09-27T05:49:31.989+0000</td><td>dbfs:/mnt/saunextadls/raw/json/14.8.2023.json</td></tr><tr><td>55.81</td><td>1010.76</td><td>62640add-e15a-4b6a-8457-b9bc3d4212aa</td><td>23.47</td><td>2016-02-21T05:05:59</td><td>2023-09-27T05:49:31.989+0000</td><td>dbfs:/mnt/saunextadls/raw/json/14.8.2023.json</td></tr><tr><td>56.04</td><td>1011.87</td><td>dff0c609-bec0-4b23-8766-4c862f3a9199</td><td>24.53</td><td>1992-12-16T23:10:43</td><td>2023-09-27T05:49:31.989+0000</td><td>dbfs:/mnt/saunextadls/raw/json/14.8.2023.json</td></tr><tr><td>57.91</td><td>1004.38</td><td>42202c31-7e7d-4746-9d13-3a8369bec24c</td><td>23.08</td><td>2010-09-03T02:45:02</td><td>2023-09-27T05:49:31.989+0000</td><td>dbfs:/mnt/saunextadls/raw/json/14.8.2023.json</td></tr><tr><td>45.9</td><td>1001.17</td><td>9cd40ab3-effd-4bb7-a416-efe11c136d4c</td><td>26.24</td><td>1979-12-16T23:26:42</td><td>2023-09-27T05:49:31.989+0000</td><td>dbfs:/mnt/saunextadls/raw/json/14.8.2023.json</td></tr><tr><td>45.62</td><td>1014.83</td><td>dd2b746a-bf72-4682-bc36-e419d76da94b</td><td>26.1</td><td>1993-03-05T07:30:41</td><td>2023-09-27T05:49:31.989+0000</td><td>dbfs:/mnt/saunextadls/raw/json/14.8.2023.json</td></tr><tr><td>50.33</td><td>1007.3</td><td>d5769530-fcdd-4f3b-9935-c5f3a486d5ae</td><td>26.04</td><td>2007-07-19T07:30:44</td><td>2023-09-27T05:49:31.989+0000</td><td>dbfs:/mnt/saunextadls/raw/json/14.8.2023.json</td></tr><tr><td>53.94</td><td>1017.72</td><td>a3596852-7508-4d56-a676-9e07561f032b</td><td>25.48</td><td>2008-07-03T15:10:49</td><td>2023-09-27T05:49:31.989+0000</td><td>dbfs:/mnt/saunextadls/raw/json/14.8.2023.json</td></tr><tr><td>55.89</td><td>1019.38</td><td>b8f62f4a-0047-47b6-a23a-91c7bde22230</td><td>29.36</td><td>1979-06-19T17:41:24</td><td>2023-09-27T05:49:31.989+0000</td><td>dbfs:/mnt/saunextadls/raw/json/14.8.2023.json</td></tr><tr><td>46.66</td><td>1013.03</td><td>1cc7cdb5-d891-4424-9fbb-457a1a79b1c5</td><td>24.58</td><td>2005-05-15T20:40:21</td><td>2023-09-27T05:49:31.989+0000</td><td>dbfs:/mnt/saunextadls/raw/json/14.8.2023.json</td></tr><tr><td>41.67</td><td>1016.06</td><td>45853e98-5520-400f-b0f7-d3b2c4836878</td><td>25.52</td><td>1992-09-07T05:55:52</td><td>2023-09-27T05:49:31.989+0000</td><td>dbfs:/mnt/saunextadls/raw/json/14.8.2023.json</td></tr><tr><td>42.11</td><td>1016.73</td><td>0fd4b88b-00e1-442d-8096-19a86792ade8</td><td>20.16</td><td>1992-06-26T23:45:11</td><td>2023-09-27T05:49:31.989+0000</td><td>dbfs:/mnt/saunextadls/raw/json/14.8.2023.json</td></tr><tr><td>49.85</td><td>1013.1</td><td>ee778485-6d96-42da-b983-46328b03f2fb</td><td>25.41</td><td>1988-08-06T01:23:44</td><td>2023-09-27T05:49:31.989+0000</td><td>dbfs:/mnt/saunextadls/raw/json/14.8.2023.json</td></tr><tr><td>56.16</td><td>1018.14</td><td>290919eb-5615-4bfb-88fc-43e364f97d4c</td><td>28.99</td><td>1977-07-05T18:47:41</td><td>2023-09-27T05:49:31.989+0000</td><td>dbfs:/mnt/saunextadls/raw/json/14.8.2023.json</td></tr><tr><td>40.65</td><td>1014.42</td><td>4129c4fe-4a90-408b-beec-42529a91890b</td><td>27.5</td><td>2023-08-05T14:09:42</td><td>2023-09-27T05:49:31.989+0000</td><td>dbfs:/mnt/saunextadls/raw/json/14.8.2023.json</td></tr><tr><td>45.23</td><td>1017.79</td><td>db57457b-1f21-4d93-b89c-3b8b3a9b95b4</td><td>26.46</td><td>2015-03-06T22:09:45</td><td>2023-09-27T05:49:31.989+0000</td><td>dbfs:/mnt/saunextadls/raw/json/14.8.2023.json</td></tr><tr><td>41.83</td><td>1000.93</td><td>390314a5-23d4-4823-a262-fd7561135de5</td><td>28.89</td><td>1994-07-18T08:36:41</td><td>2023-09-27T05:49:31.989+0000</td><td>dbfs:/mnt/saunextadls/raw/json/14.8.2023.json</td></tr><tr><td>48.7</td><td>1012.26</td><td>df6667ce-4b0f-48b0-83ee-83a5f07c143c</td><td>24.66</td><td>1971-12-29T10:04:25</td><td>2023-09-27T05:49:31.989+0000</td><td>dbfs:/mnt/saunextadls/raw/json/14.8.2023.json</td></tr><tr><td>53.21</td><td>1012.32</td><td>c1248f13-684c-4306-ab0b-50fbba9df133</td><td>29.34</td><td>2004-04-11T11:36:23</td><td>2023-09-27T05:49:31.989+0000</td><td>dbfs:/mnt/saunextadls/raw/json/14.8.2023.json</td></tr><tr><td>54.2</td><td>1016.99</td><td>4e4631b9-4cd0-4270-b090-fa8da70ef628</td><td>25.79</td><td>1995-03-31T11:38:01</td><td>2023-09-27T05:49:31.989+0000</td><td>dbfs:/mnt/saunextadls/raw/json/14.8.2023.json</td></tr><tr><td>50.31</td><td>1008.99</td><td>c3607b48-2855-412a-a476-5bf02fa9d420</td><td>22.06</td><td>1995-12-30T23:48:06</td><td>2023-09-27T05:49:31.989+0000</td><td>dbfs:/mnt/saunextadls/raw/json/14.8.2023.json</td></tr><tr><td>51.44</td><td>1003.52</td><td>9928f3a8-9d91-482b-9cd2-4957d317cc91</td><td>20.82</td><td>1985-09-19T05:11:41</td><td>2023-09-27T05:49:31.989+0000</td><td>dbfs:/mnt/saunextadls/raw/json/14.8.2023.json</td></tr><tr><td>52.2</td><td>1008.8</td><td>37004b37-5584-4392-9f94-1e1685191811</td><td>28.33</td><td>1996-09-01T10:01:33</td><td>2023-09-27T05:49:31.989+0000</td><td>dbfs:/mnt/saunextadls/raw/json/14.8.2023.json</td></tr><tr><td>54.75</td><td>1004.61</td><td>433ad7fc-cbcf-47d3-9c5e-a49d9716968e</td><td>29.32</td><td>1972-03-06T02:50:22</td><td>2023-09-27T05:49:31.989+0000</td><td>dbfs:/mnt/saunextadls/raw/json/14.8.2023.json</td></tr><tr><td>40.7</td><td>1007.92</td><td>438b6118-9225-4bf2-a3e9-32e65c8df0ab</td><td>28.54</td><td>1974-01-07T07:20:23</td><td>2023-09-27T05:49:31.989+0000</td><td>dbfs:/mnt/saunextadls/raw/json/14.8.2023.json</td></tr><tr><td>52.04</td><td>1009.97</td><td>845bbc3d-d645-409b-847d-7f4e1b9b57bd</td><td>25.95</td><td>1997-03-29T10:18:46</td><td>2023-09-27T05:49:31.989+0000</td><td>dbfs:/mnt/saunextadls/raw/json/14.8.2023.json</td></tr><tr><td>48.17</td><td>1017.81</td><td>14428f51-ef4e-4bda-80bc-7aff5de6526e</td><td>26.7</td><td>2022-06-23T19:56:14</td><td>2023-09-27T05:49:31.989+0000</td><td>dbfs:/mnt/saunextadls/raw/json/14.8.2023.json</td></tr><tr><td>43.83</td><td>1007.32</td><td>8e3e8085-798c-490f-8430-2f93994ec4e7</td><td>27.46</td><td>1990-10-10T05:58:18</td><td>2023-09-27T05:49:31.989+0000</td><td>dbfs:/mnt/saunextadls/raw/json/14.8.2023.json</td></tr><tr><td>41.35</td><td>1016.77</td><td>216369f3-6d5a-4d4d-9a9d-47297f0327e8</td><td>28.47</td><td>1998-11-24T15:10:12</td><td>2023-09-27T05:49:31.989+0000</td><td>dbfs:/mnt/saunextadls/raw/json/14.8.2023.json</td></tr><tr><td>43.2</td><td>1001.5</td><td>248fcb72-860d-4ae2-aadd-941e0f8768b8</td><td>26.96</td><td>1979-06-25T14:21:39</td><td>2023-09-27T05:49:31.989+0000</td><td>dbfs:/mnt/saunextadls/raw/json/14.8.2023.json</td></tr><tr><td>52.01</td><td>1003.77</td><td>2f89a865-dbc0-4b26-9873-2dac003e3c82</td><td>24.75</td><td>2013-01-07T09:51:30</td><td>2023-09-27T05:49:31.989+0000</td><td>dbfs:/mnt/saunextadls/raw/json/14.8.2023.json</td></tr><tr><td>48.37</td><td>1011.55</td><td>37df741b-e640-4ec4-9a52-6ada4773f378</td><td>24.04</td><td>2001-07-10T19:59:28</td><td>2023-09-27T05:49:31.989+0000</td><td>dbfs:/mnt/saunextadls/raw/json/14.8.2023.json</td></tr><tr><td>55.31</td><td>1012.69</td><td>24b3c87c-7d46-4f89-939e-527a3961c5e3</td><td>22.64</td><td>1996-11-26T22:27:19</td><td>2023-09-27T05:49:31.989+0000</td><td>dbfs:/mnt/saunextadls/raw/json/14.8.2023.json</td></tr><tr><td>44.17</td><td>1014.58</td><td>a9bc31f4-3453-42c7-a117-0f6805533714</td><td>22.55</td><td>1988-12-13T10:03:51</td><td>2023-09-27T05:49:31.989+0000</td><td>dbfs:/mnt/saunextadls/raw/json/14.8.2023.json</td></tr><tr><td>42.37</td><td>1011.07</td><td>6ea7da91-18c3-4cff-9be5-227330e8a832</td><td>28.95</td><td>1974-01-23T18:06:17</td><td>2023-09-27T05:49:31.989+0000</td><td>dbfs:/mnt/saunextadls/raw/json/14.8.2023.json</td></tr><tr><td>53.7</td><td>1003.76</td><td>b9bd9e0d-39e8-4d75-8351-409decd8c96e</td><td>27.08</td><td>2017-12-11T19:42:06</td><td>2023-09-27T05:49:31.989+0000</td><td>dbfs:/mnt/saunextadls/raw/json/14.8.2023.json</td></tr><tr><td>40.58</td><td>1003.16</td><td>ee15ec0f-868b-459c-a1da-9d0630d45bab</td><td>25.77</td><td>2020-07-04T08:18:53</td><td>2023-09-27T05:49:31.989+0000</td><td>dbfs:/mnt/saunextadls/raw/json/14.8.2023.json</td></tr><tr><td>58.34</td><td>1016.36</td><td>05e9e8a6-3e0e-4db4-804f-8eeccbfec8ad</td><td>21.82</td><td>2014-07-26T17:18:25</td><td>2023-09-27T05:49:31.989+0000</td><td>dbfs:/mnt/saunextadls/raw/json/14.8.2023.json</td></tr><tr><td>58.12</td><td>1013.59</td><td>76c2fa3a-bd74-4430-808a-82fbf0e1eb02</td><td>20.63</td><td>1979-07-23T16:43:13</td><td>2023-09-27T05:49:31.989+0000</td><td>dbfs:/mnt/saunextadls/raw/json/14.8.2023.json</td></tr><tr><td>47.21</td><td>1016.57</td><td>8c6a7724-2364-4489-b863-a8821e9a7c1f</td><td>28.52</td><td>1979-04-13T08:21:27</td><td>2023-09-27T05:49:31.989+0000</td><td>dbfs:/mnt/saunextadls/raw/json/14.8.2023.json</td></tr><tr><td>40.23</td><td>1012.94</td><td>7cad3d9c-951f-4fb4-b217-3279f6aeeb41</td><td>26.39</td><td>1979-11-29T19:04:02</td><td>2023-09-27T05:49:31.989+0000</td><td>dbfs:/mnt/saunextadls/raw/json/14.8.2023.json</td></tr><tr><td>51.59</td><td>1012.47</td><td>565ef26a-b95c-40c0-981c-efff56ea59ad</td><td>24.37</td><td>2023-05-09T06:40:31</td><td>2023-09-27T05:49:31.989+0000</td><td>dbfs:/mnt/saunextadls/raw/json/14.8.2023.json</td></tr><tr><td>48.27</td><td>1002.72</td><td>7817ca57-ad8e-43b5-b7fa-e55dec89fc02</td><td>27.35</td><td>1973-08-04T10:40:20</td><td>2023-09-27T05:49:31.989+0000</td><td>dbfs:/mnt/saunextadls/raw/json/14.8.2023.json</td></tr><tr><td>49.37</td><td>1005.69</td><td>489f290d-b8cc-4ca0-868a-7b8374d64bd4</td><td>24.54</td><td>2016-02-03T00:16:17</td><td>2023-09-27T05:49:31.989+0000</td><td>dbfs:/mnt/saunextadls/raw/json/14.8.2023.json</td></tr><tr><td>49.85</td><td>1005.8</td><td>3b6697a4-ed30-4dc0-b672-ce007b4b5e94</td><td>25.69</td><td>2013-07-16T09:42:44</td><td>2023-09-27T05:49:31.989+0000</td><td>dbfs:/mnt/saunextadls/raw/json/14.8.2023.json</td></tr><tr><td>58.18</td><td>1011.29</td><td>fdab7c90-9b83-4660-856f-4c3b85cb4796</td><td>25.74</td><td>1977-07-28T13:24:26</td><td>2023-09-27T05:49:31.989+0000</td><td>dbfs:/mnt/saunextadls/raw/json/14.8.2023.json</td></tr><tr><td>54.57</td><td>1010.98</td><td>e3f2cd2f-a3dc-4b9b-bb93-187b036bc0ec</td><td>24.45</td><td>1988-12-29T05:27:15</td><td>2023-09-27T05:49:31.989+0000</td><td>dbfs:/mnt/saunextadls/raw/json/14.8.2023.json</td></tr><tr><td>51.91</td><td>1000.87</td><td>ed114c42-0f79-4abe-a2ea-9a7c880eeb40</td><td>26.45</td><td>1981-08-31T14:13:06</td><td>2023-09-27T05:49:31.989+0000</td><td>dbfs:/mnt/saunextadls/raw/json/14.8.2023.json</td></tr><tr><td>57.6</td><td>1006.4</td><td>9c1b2c67-5494-4385-a97c-89d8ca5cf5b3</td><td>27.77</td><td>1981-12-14T23:02:14</td><td>2023-09-27T05:49:31.989+0000</td><td>dbfs:/mnt/saunextadls/raw/json/14.8.2023.json</td></tr><tr><td>41.39</td><td>1005.37</td><td>aa1cc9bf-4b61-4956-a114-cff7a56e1de5</td><td>22.83</td><td>2020-10-06T23:30:25</td><td>2023-09-27T05:49:31.989+0000</td><td>dbfs:/mnt/saunextadls/raw/json/14.8.2023.json</td></tr><tr><td>45.79</td><td>1007.24</td><td>ab647632-9113-43f1-abe9-b6d901ccee59</td><td>27.67</td><td>1983-08-21T08:55:26</td><td>2023-09-27T05:49:31.989+0000</td><td>dbfs:/mnt/saunextadls/raw/json/14.8.2023.json</td></tr><tr><td>48.79</td><td>1013.02</td><td>b273e374-4bc3-472e-b36c-989745bdf06b</td><td>24.16</td><td>2009-06-14T18:35:45</td><td>2023-09-27T05:49:31.989+0000</td><td>dbfs:/mnt/saunextadls/raw/json/14.8.2023.json</td></tr><tr><td>54.47</td><td>1014.09</td><td>547c2f93-bf9b-42cb-ac94-1dc66b03b2a7</td><td>21.11</td><td>1981-06-23T05:09:20</td><td>2023-09-27T05:49:31.989+0000</td><td>dbfs:/mnt/saunextadls/raw/json/14.8.2023.json</td></tr><tr><td>45.11</td><td>1004.22</td><td>17302fb3-fbc1-450c-beac-ad0284878db7</td><td>21.69</td><td>1973-06-16T12:57:18</td><td>2023-09-27T05:49:31.989+0000</td><td>dbfs:/mnt/saunextadls/raw/json/14.8.2023.json</td></tr><tr><td>58.19</td><td>1008.78</td><td>f1227721-05ae-4540-be60-e86b2dd31243</td><td>24.77</td><td>2004-12-20T19:33:55</td><td>2023-09-27T05:49:31.989+0000</td><td>dbfs:/mnt/saunextadls/raw/json/14.8.2023.json</td></tr><tr><td>49.03</td><td>1001.52</td><td>7bdfaff4-e604-4227-a5f9-e85b9216ff0f</td><td>28.62</td><td>1978-11-02T21:20:30</td><td>2023-09-27T05:49:31.989+0000</td><td>dbfs:/mnt/saunextadls/raw/json/14.8.2023.json</td></tr><tr><td>45.76</td><td>1008.64</td><td>8780e061-1531-4a3b-9a06-f019066d2538</td><td>27.91</td><td>2013-04-17T10:29:44</td><td>2023-09-27T05:49:31.989+0000</td><td>dbfs:/mnt/saunextadls/raw/json/14.8.2023.json</td></tr><tr><td>58.62</td><td>1007.09</td><td>924ddd16-9ac8-4bbd-9983-729c01a4b8c2</td><td>21.59</td><td>1981-04-11T07:36:43</td><td>2023-09-27T05:49:31.989+0000</td><td>dbfs:/mnt/saunextadls/raw/json/14.8.2023.json</td></tr><tr><td>44.8</td><td>1011.61</td><td>84b3a4f4-551a-4b79-8f85-9bb53390f595</td><td>28.41</td><td>1979-02-14T16:12:01</td><td>2023-09-27T05:49:31.989+0000</td><td>dbfs:/mnt/saunextadls/raw/json/14.8.2023.json</td></tr><tr><td>47.26</td><td>1015.08</td><td>fe74283d-dff4-4bbc-ba29-05853624eef1</td><td>29.89</td><td>1993-07-15T23:03:32</td><td>2023-09-27T05:49:31.989+0000</td><td>dbfs:/mnt/saunextadls/raw/json/14.8.2023.json</td></tr><tr><td>56.92</td><td>1011.88</td><td>f475bc86-270a-4f89-a67e-710ab8479594</td><td>23.99</td><td>2000-10-21T09:12:57</td><td>2023-09-27T05:49:31.989+0000</td><td>dbfs:/mnt/saunextadls/raw/json/14.8.2023.json</td></tr><tr><td>49.64</td><td>1018.91</td><td>11660212-95a7-400a-9579-70d29360d488</td><td>21.49</td><td>2010-07-26T01:34:50</td><td>2023-09-27T05:49:31.989+0000</td><td>dbfs:/mnt/saunextadls/raw/json/14.8.2023.json</td></tr><tr><td>43.19</td><td>1009.96</td><td>300cf571-b984-43b7-9965-b63034f09a36</td><td>28.88</td><td>2009-08-01T11:30:05</td><td>2023-09-27T05:49:31.989+0000</td><td>dbfs:/mnt/saunextadls/raw/json/14.8.2023.json</td></tr><tr><td>54.63</td><td>1007.27</td><td>416e694e-ebec-4a33-8142-316728c8f30e</td><td>22.07</td><td>1991-08-27T04:34:51</td><td>2023-09-27T05:49:31.989+0000</td><td>dbfs:/mnt/saunextadls/raw/json/14.8.2023.json</td></tr><tr><td>57.27</td><td>1017.82</td><td>c8a3b898-4a98-4f79-9dad-0e29c81c8ad0</td><td>26.37</td><td>2021-09-08T00:53:29</td><td>2023-09-27T05:49:31.989+0000</td><td>dbfs:/mnt/saunextadls/raw/json/14.8.2023.json</td></tr><tr><td>47.81</td><td>1011.05</td><td>d525b0e5-0e26-4e9d-8c32-1669aaf3a6c8</td><td>28.41</td><td>2011-10-23T00:18:11</td><td>2023-09-27T05:49:31.989+0000</td><td>dbfs:/mnt/saunextadls/raw/json/14.8.2023.json</td></tr><tr><td>56.05</td><td>1016.39</td><td>5cfee4eb-2930-43ea-be81-13119611aa1b</td><td>27.6</td><td>2002-09-24T12:05:53</td><td>2023-09-27T05:49:31.989+0000</td><td>dbfs:/mnt/saunextadls/raw/json/14.8.2023.json</td></tr><tr><td>55.91</td><td>1011.0</td><td>396228d9-22d3-4a83-9aca-603a6ace9b62</td><td>22.93</td><td>1983-10-31T07:35:55</td><td>2023-09-27T05:49:31.989+0000</td><td>dbfs:/mnt/saunextadls/raw/json/14.8.2023.json</td></tr><tr><td>40.7</td><td>1012.38</td><td>038c8e0e-40d2-4e69-aa4c-eeed9e45b79d</td><td>26.39</td><td>2006-06-21T12:15:47</td><td>2023-09-27T05:49:31.989+0000</td><td>dbfs:/mnt/saunextadls/raw/json/14.8.2023.json</td></tr><tr><td>47.24</td><td>1013.16</td><td>66b5a3d9-2290-4c24-ba0d-4bceb5f355f3</td><td>24.58</td><td>1993-11-23T01:56:06</td><td>2023-09-27T05:49:31.989+0000</td><td>dbfs:/mnt/saunextadls/raw/json/14.8.2023.json</td></tr><tr><td>55.55</td><td>1006.68</td><td>8a94093d-f33a-4572-acc0-d4713a780f57</td><td>22.8</td><td>2014-01-22T13:29:44</td><td>2023-09-27T05:49:31.989+0000</td><td>dbfs:/mnt/saunextadls/raw/json/14.8.2023.json</td></tr><tr><td>51.86</td><td>1019.77</td><td>d63e8110-21a4-4e10-a12d-e6110647c1dd</td><td>27.64</td><td>1992-02-17T22:33:43</td><td>2023-09-27T05:49:31.989+0000</td><td>dbfs:/mnt/saunextadls/raw/json/14.8.2023.json</td></tr><tr><td>41.11</td><td>1006.29</td><td>83f01847-10d7-43b1-b3f2-efa6fdbe0df4</td><td>23.49</td><td>1979-01-24T13:22:20</td><td>2023-09-27T05:49:31.989+0000</td><td>dbfs:/mnt/saunextadls/raw/json/14.8.2023.json</td></tr><tr><td>54.07</td><td>1005.88</td><td>bb7407c1-e3b9-4151-adff-01c9992effc2</td><td>26.49</td><td>2006-05-05T09:40:46</td><td>2023-09-27T05:49:31.989+0000</td><td>dbfs:/mnt/saunextadls/raw/json/14.8.2023.json</td></tr><tr><td>43.69</td><td>1000.97</td><td>b69296d4-a4a0-4d6f-b051-84e5ab2af317</td><td>28.21</td><td>1993-08-13T12:19:33</td><td>2023-09-27T05:49:31.989+0000</td><td>dbfs:/mnt/saunextadls/raw/json/14.8.2023.json</td></tr><tr><td>43.33</td><td>1006.67</td><td>76dae1af-8606-41c3-b0ce-56422357038e</td><td>25.28</td><td>1978-12-19T02:44:24</td><td>2023-09-27T05:49:31.989+0000</td><td>dbfs:/mnt/saunextadls/raw/json/14.8.2023.json</td></tr><tr><td>48.39</td><td>1013.38</td><td>c0daa2fa-5941-4d0c-ac50-6083e6dd4aef</td><td>28.64</td><td>2004-10-31T01:29:13</td><td>2023-09-27T05:49:31.989+0000</td><td>dbfs:/mnt/saunextadls/raw/json/14.8.2023.json</td></tr><tr><td>56.6</td><td>1006.53</td><td>341318f9-c561-40d7-a422-d1bed9cdcdda</td><td>27.46</td><td>1998-06-21T06:36:15</td><td>2023-09-27T05:49:31.989+0000</td><td>dbfs:/mnt/saunextadls/raw/json/14.8.2023.json</td></tr><tr><td>53.46</td><td>1017.26</td><td>44449175-3b32-479b-b2d9-0e40ceec51da</td><td>22.36</td><td>1988-10-23T14:16:21</td><td>2023-09-27T05:49:31.989+0000</td><td>dbfs:/mnt/saunextadls/raw/json/14.8.2023.json</td></tr><tr><td>54.94</td><td>1009.62</td><td>6b5207da-e8eb-4f2a-97ed-e094f91b6a3f</td><td>29.78</td><td>2002-07-09T17:51:38</td><td>2023-09-27T05:49:31.989+0000</td><td>dbfs:/mnt/saunextadls/raw/json/14.8.2023.json</td></tr><tr><td>44.98</td><td>1017.48</td><td>409cf598-468d-4f79-85d5-6f30f275c211</td><td>26.02</td><td>1979-11-06T15:55:21</td><td>2023-09-27T05:49:31.989+0000</td><td>dbfs:/mnt/saunextadls/raw/json/14.8.2023.json</td></tr><tr><td>47.83</td><td>1010.68</td><td>9eb1eb5b-2e8d-4679-a796-389c3cd3281e</td><td>29.49</td><td>1973-08-29T15:49:37</td><td>2023-09-27T05:49:31.989+0000</td><td>dbfs:/mnt/saunextadls/raw/json/14.8.2023.json</td></tr><tr><td>59.65</td><td>1013.5</td><td>fe4d971b-17eb-4db9-b3f2-cc0db98dbb22</td><td>22.42</td><td>1979-04-19T14:47:32</td><td>2023-09-27T05:49:31.989+0000</td><td>dbfs:/mnt/saunextadls/raw/json/14.8.2023.json</td></tr><tr><td>54.97</td><td>1013.83</td><td>1d9c964d-976f-4fdc-8e14-ba42f01576e8</td><td>26.94</td><td>1970-11-22T08:03:50</td><td>2023-09-27T05:49:31.989+0000</td><td>dbfs:/mnt/saunextadls/raw/json/14.8.2023.json</td></tr><tr><td>55.72</td><td>1014.8</td><td>80e5130a-53c8-4469-9485-3d03827fe886</td><td>23.94</td><td>1985-03-08T23:00:43</td><td>2023-09-27T05:49:31.989+0000</td><td>dbfs:/mnt/saunextadls/raw/json/14.8.2023.json</td></tr><tr><td>40.79</td><td>1016.0</td><td>2e0f90ed-29f9-407a-b7f5-c76960ca3ccb</td><td>27.06</td><td>1996-07-31T14:11:35</td><td>2023-09-27T05:49:31.989+0000</td><td>dbfs:/mnt/saunextadls/raw/json/14.8.2023.json</td></tr><tr><td>43.48</td><td>1006.57</td><td>bf1e63fd-6f4e-46eb-bf5c-1fe8b9330ac3</td><td>22.49</td><td>1994-05-05T23:40:26</td><td>2023-09-27T05:49:31.989+0000</td><td>dbfs:/mnt/saunextadls/raw/json/14.8.2023.json</td></tr><tr><td>47.49</td><td>1001.65</td><td>55ebc2cc-9fe2-47f9-96f0-75cc49a65781</td><td>25.25</td><td>2006-10-11T05:22:05</td><td>2023-09-27T05:49:31.989+0000</td><td>dbfs:/mnt/saunextadls/raw/json/14.8.2023.json</td></tr><tr><td>48.19</td><td>1008.92</td><td>57fb945d-0e3a-4d8b-8c63-decaa4f4a7ac</td><td>23.46</td><td>1976-02-13T10:07:45</td><td>2023-09-27T05:49:31.989+0000</td><td>dbfs:/mnt/saunextadls/raw/json/14.8.2023.json</td></tr><tr><td>54.84</td><td>1018.48</td><td>e3ade2e1-e7cc-4baa-866e-4a03cd9dd691</td><td>23.76</td><td>2004-09-30T02:07:19</td><td>2023-09-27T05:49:31.989+0000</td><td>dbfs:/mnt/saunextadls/raw/json/14.8.2023.json</td></tr><tr><td>46.58</td><td>1006.98</td><td>abd41be5-026a-421e-96d7-3b6652b7fa5d</td><td>21.78</td><td>2007-08-10T22:09:07</td><td>2023-09-27T05:49:31.989+0000</td><td>dbfs:/mnt/saunextadls/raw/json/14.8.2023.json</td></tr><tr><td>58.4</td><td>1016.63</td><td>5361c7f0-d50f-4bb8-8db0-8859d2cde923</td><td>27.52</td><td>2019-02-09T11:59:01</td><td>2023-09-27T05:49:31.989+0000</td><td>dbfs:/mnt/saunextadls/raw/json/14.8.2023.json</td></tr><tr><td>43.26</td><td>1007.41</td><td>c53b8867-b06b-4d92-a9d8-a48c189b13f5</td><td>21.42</td><td>2014-06-24T00:53:06</td><td>2023-09-27T05:49:31.989+0000</td><td>dbfs:/mnt/saunextadls/raw/json/14.8.2023.json</td></tr><tr><td>57.49</td><td>1012.63</td><td>1bb348fd-8232-4fff-a50c-6fb949847919</td><td>29.77</td><td>1970-07-10T22:57:27</td><td>2023-09-27T05:49:31.989+0000</td><td>dbfs:/mnt/saunextadls/raw/json/14.8.2023.json</td></tr><tr><td>44.84</td><td>1016.17</td><td>45b6693d-fa46-4a26-a0f1-a05938009a2f</td><td>24.61</td><td>2020-04-24T19:16:47</td><td>2023-09-27T05:49:31.989+0000</td><td>dbfs:/mnt/saunextadls/raw/json/14.8.2023.json</td></tr><tr><td>54.42</td><td>1001.16</td><td>267d5e9f-711a-4e42-a4fe-d6e7bc799a0d</td><td>26.13</td><td>2013-05-27T08:45:36</td><td>2023-09-27T05:49:31.989+0000</td><td>dbfs:/mnt/saunextadls/raw/json/14.8.2023.json</td></tr><tr><td>51.67</td><td>1011.19</td><td>ffbfd054-7876-4d08-8d44-d0bf8141d962</td><td>22.55</td><td>1982-07-11T10:22:11</td><td>2023-09-27T05:49:31.989+0000</td><td>dbfs:/mnt/saunextadls/raw/json/14.8.2023.json</td></tr><tr><td>45.32</td><td>1016.7</td><td>612185fd-5396-4462-9151-4e9f54a00115</td><td>27.45</td><td>1987-01-16T03:04:46</td><td>2023-09-27T05:49:31.989+0000</td><td>dbfs:/mnt/saunextadls/raw/json/15.8.23.json</td></tr><tr><td>45.52</td><td>1015.21</td><td>36dcb7c0-8b37-453f-b9b7-c1b7e225f3d7</td><td>20.05</td><td>2019-05-26T19:42:54</td><td>2023-09-27T05:49:31.989+0000</td><td>dbfs:/mnt/saunextadls/raw/json/15.8.23.json</td></tr><tr><td>43.23</td><td>1019.59</td><td>dffd0592-69d5-4535-8e9c-b2819372b3e6</td><td>22.84</td><td>2003-10-08T19:05:06</td><td>2023-09-27T05:49:31.989+0000</td><td>dbfs:/mnt/saunextadls/raw/json/15.8.23.json</td></tr><tr><td>51.05</td><td>1000.14</td><td>2b4c6568-dc6a-486a-92f9-4b550683e603</td><td>23.82</td><td>1979-12-09T16:32:01</td><td>2023-09-27T05:49:31.989+0000</td><td>dbfs:/mnt/saunextadls/raw/json/15.8.23.json</td></tr><tr><td>48.77</td><td>1007.28</td><td>51498467-76eb-406c-9ce3-f436e14676b5</td><td>21.45</td><td>1996-10-30T10:27:33</td><td>2023-09-27T05:49:31.989+0000</td><td>dbfs:/mnt/saunextadls/raw/json/15.8.23.json</td></tr><tr><td>43.52</td><td>1009.18</td><td>f18a893b-c1eb-4d80-8def-dfc6da892078</td><td>24.38</td><td>2019-10-24T05:04:03</td><td>2023-09-27T05:49:31.989+0000</td><td>dbfs:/mnt/saunextadls/raw/json/15.8.23.json</td></tr><tr><td>52.66</td><td>1004.99</td><td>ebc83d78-9590-4c58-8af9-f542897ff785</td><td>21.41</td><td>1975-12-17T20:35:23</td><td>2023-09-27T05:49:31.989+0000</td><td>dbfs:/mnt/saunextadls/raw/json/15.8.23.json</td></tr><tr><td>57.06</td><td>1015.97</td><td>39aad220-3650-4397-a770-85f2467a2dfc</td><td>28.69</td><td>2010-03-09T05:52:46</td><td>2023-09-27T05:49:31.989+0000</td><td>dbfs:/mnt/saunextadls/raw/json/15.8.23.json</td></tr><tr><td>53.74</td><td>1015.41</td><td>da81adcc-afbe-44f8-98dc-e2343c344b17</td><td>26.83</td><td>1991-03-07T07:09:16</td><td>2023-09-27T05:49:31.989+0000</td><td>dbfs:/mnt/saunextadls/raw/json/15.8.23.json</td></tr><tr><td>40.88</td><td>1005.24</td><td>f3ae2b40-4360-4612-9ede-60a629eb29c9</td><td>29.09</td><td>1987-10-23T13:07:47</td><td>2023-09-27T05:49:31.989+0000</td><td>dbfs:/mnt/saunextadls/raw/json/15.8.23.json</td></tr><tr><td>49.89</td><td>1002.09</td><td>cc117643-2c4e-4047-bd62-2fe4154df122</td><td>22.73</td><td>2000-06-23T12:36:46</td><td>2023-09-27T05:49:31.989+0000</td><td>dbfs:/mnt/saunextadls/raw/json/15.8.23.json</td></tr><tr><td>49.8</td><td>1016.72</td><td>0fd92dba-a72d-45cc-86f7-b277233647bc</td><td>26.36</td><td>1978-11-10T02:31:37</td><td>2023-09-27T05:49:31.989+0000</td><td>dbfs:/mnt/saunextadls/raw/json/15.8.23.json</td></tr><tr><td>46.21</td><td>1019.74</td><td>151deaef-8bb0-4d9d-ac97-9d07bdbb9e80</td><td>25.3</td><td>2023-03-08T08:12:15</td><td>2023-09-27T05:49:31.989+0000</td><td>dbfs:/mnt/saunextadls/raw/json/15.8.23.json</td></tr><tr><td>41.84</td><td>1016.54</td><td>cf45588d-5598-49c1-be3f-88495ddc7d4c</td><td>25.97</td><td>1975-06-05T01:04:07</td><td>2023-09-27T05:49:31.989+0000</td><td>dbfs:/mnt/saunextadls/raw/json/15.8.23.json</td></tr><tr><td>46.31</td><td>1012.66</td><td>1be96470-5782-4c27-8bf8-b51c489bea9d</td><td>25.26</td><td>2013-09-05T10:25:36</td><td>2023-09-27T05:49:31.989+0000</td><td>dbfs:/mnt/saunextadls/raw/json/15.8.23.json</td></tr><tr><td>49.0</td><td>1016.44</td><td>3f58c872-29e6-4240-a0ec-6ec4f331d30d</td><td>25.83</td><td>2002-09-29T08:42:12</td><td>2023-09-27T05:49:31.989+0000</td><td>dbfs:/mnt/saunextadls/raw/json/15.8.23.json</td></tr><tr><td>54.85</td><td>1011.79</td><td>6c6dbe58-f9eb-4028-900c-9d0f6b78ae78</td><td>27.7</td><td>2016-07-19T00:32:31</td><td>2023-09-27T05:49:31.989+0000</td><td>dbfs:/mnt/saunextadls/raw/json/15.8.23.json</td></tr><tr><td>41.75</td><td>1015.69</td><td>288ea2f6-3df1-48c7-80ec-f5a4e29717ca</td><td>26.22</td><td>1970-10-12T22:18:36</td><td>2023-09-27T05:49:31.989+0000</td><td>dbfs:/mnt/saunextadls/raw/json/15.8.23.json</td></tr><tr><td>42.42</td><td>1018.09</td><td>27598fad-ad97-4879-b732-4faa2a8997fe</td><td>22.68</td><td>2017-08-01T22:02:12</td><td>2023-09-27T05:49:31.989+0000</td><td>dbfs:/mnt/saunextadls/raw/json/15.8.23.json</td></tr><tr><td>44.61</td><td>1013.01</td><td>cf2f671e-c604-4375-80d5-c64e5bf3ffd1</td><td>20.98</td><td>1998-05-14T09:05:26</td><td>2023-09-27T05:49:31.989+0000</td><td>dbfs:/mnt/saunextadls/raw/json/15.8.23.json</td></tr><tr><td>56.57</td><td>1003.94</td><td>2d878004-3296-4d25-a8fb-5621445dd068</td><td>24.45</td><td>2016-01-11T09:13:37</td><td>2023-09-27T05:49:31.989+0000</td><td>dbfs:/mnt/saunextadls/raw/json/15.8.23.json</td></tr><tr><td>49.75</td><td>1016.06</td><td>8aaaf178-1771-4a27-9ae5-8557d13fc04d</td><td>22.02</td><td>1986-07-19T09:49:54</td><td>2023-09-27T05:49:31.989+0000</td><td>dbfs:/mnt/saunextadls/raw/json/15.8.23.json</td></tr><tr><td>41.61</td><td>1000.84</td><td>508a4785-f30b-4ac0-a24e-8d837b8341a0</td><td>23.81</td><td>1995-04-07T05:54:36</td><td>2023-09-27T05:49:31.989+0000</td><td>dbfs:/mnt/saunextadls/raw/json/15.8.23.json</td></tr><tr><td>49.58</td><td>1016.46</td><td>4ba14cb5-b586-4fe4-b889-7abd24c74274</td><td>22.68</td><td>1980-01-31T18:52:42</td><td>2023-09-27T05:49:31.989+0000</td><td>dbfs:/mnt/saunextadls/raw/json/15.8.23.json</td></tr><tr><td>53.57</td><td>1000.25</td><td>cc54ab09-8d90-4d3b-9903-841bae88c36c</td><td>20.21</td><td>2009-12-26T16:44:02</td><td>2023-09-27T05:49:31.989+0000</td><td>dbfs:/mnt/saunextadls/raw/json/15.8.23.json</td></tr><tr><td>55.92</td><td>1012.54</td><td>4fdd0994-fec6-4f23-939f-06f5c5d76479</td><td>22.84</td><td>2014-09-04T17:25:04</td><td>2023-09-27T05:49:31.989+0000</td><td>dbfs:/mnt/saunextadls/raw/json/15.8.23.json</td></tr><tr><td>40.81</td><td>1006.34</td><td>872e2749-071a-461c-b227-19a1a5b604c1</td><td>29.52</td><td>2011-10-28T21:08:17</td><td>2023-09-27T05:49:31.989+0000</td><td>dbfs:/mnt/saunextadls/raw/json/15.8.23.json</td></tr><tr><td>56.94</td><td>1002.11</td><td>1196a925-dfaf-4b72-9fbd-9de62b37b6d9</td><td>28.39</td><td>2004-11-17T02:58:54</td><td>2023-09-27T05:49:31.989+0000</td><td>dbfs:/mnt/saunextadls/raw/json/15.8.23.json</td></tr><tr><td>57.99</td><td>1017.18</td><td>ee3505ce-1aa4-415c-bbd1-0c2e23c613a8</td><td>20.49</td><td>1980-11-02T03:11:37</td><td>2023-09-27T05:49:31.989+0000</td><td>dbfs:/mnt/saunextadls/raw/json/15.8.23.json</td></tr><tr><td>45.55</td><td>1005.51</td><td>765fc871-eed5-461a-8cbb-1c868a0bf261</td><td>29.03</td><td>2002-05-16T05:53:10</td><td>2023-09-27T05:49:31.989+0000</td><td>dbfs:/mnt/saunextadls/raw/json/15.8.23.json</td></tr><tr><td>48.86</td><td>1007.2</td><td>af89c966-c747-4c4e-a3b3-bcd29e9ab950</td><td>25.7</td><td>2013-09-03T20:37:39</td><td>2023-09-27T05:49:31.989+0000</td><td>dbfs:/mnt/saunextadls/raw/json/15.8.23.json</td></tr><tr><td>59.41</td><td>1005.0</td><td>e50a984a-4ec8-4f81-b12c-6085a0bc080f</td><td>26.93</td><td>2001-01-08T20:47:05</td><td>2023-09-27T05:49:31.989+0000</td><td>dbfs:/mnt/saunextadls/raw/json/15.8.23.json</td></tr><tr><td>55.33</td><td>1011.76</td><td>67e25be8-438d-4aff-8ce1-94c1047e06c0</td><td>27.37</td><td>2019-08-14T15:42:52</td><td>2023-09-27T05:49:31.989+0000</td><td>dbfs:/mnt/saunextadls/raw/json/15.8.23.json</td></tr><tr><td>47.53</td><td>1006.79</td><td>035b4c03-ae45-4d71-9cca-d3c1a01a8316</td><td>27.7</td><td>2013-09-22T03:27:10</td><td>2023-09-27T05:49:31.989+0000</td><td>dbfs:/mnt/saunextadls/raw/json/15.8.23.json</td></tr><tr><td>57.13</td><td>1011.85</td><td>9ad47cd0-7739-49ac-83fe-6587c59ee736</td><td>21.61</td><td>1974-03-13T09:13:41</td><td>2023-09-27T05:49:31.989+0000</td><td>dbfs:/mnt/saunextadls/raw/json/15.8.23.json</td></tr><tr><td>56.46</td><td>1003.11</td><td>f8a80e6e-03a5-42f8-b26f-8137d823dabf</td><td>23.83</td><td>2004-04-29T20:36:03</td><td>2023-09-27T05:49:31.989+0000</td><td>dbfs:/mnt/saunextadls/raw/json/15.8.23.json</td></tr><tr><td>53.89</td><td>1018.04</td><td>d93985a2-4246-4e4f-ae46-31fb346f184c</td><td>24.95</td><td>1993-04-28T15:09:57</td><td>2023-09-27T05:49:31.989+0000</td><td>dbfs:/mnt/saunextadls/raw/json/15.8.23.json</td></tr><tr><td>48.94</td><td>1014.87</td><td>80d5d3b3-4198-4958-9ea8-41b72d4c5056</td><td>25.68</td><td>1978-07-30T13:13:11</td><td>2023-09-27T05:49:31.989+0000</td><td>dbfs:/mnt/saunextadls/raw/json/15.8.23.json</td></tr><tr><td>58.66</td><td>1013.89</td><td>fa51684f-f345-448c-b483-1f6032f7049c</td><td>27.8</td><td>1990-06-16T01:50:19</td><td>2023-09-27T05:49:31.989+0000</td><td>dbfs:/mnt/saunextadls/raw/json/15.8.23.json</td></tr><tr><td>59.28</td><td>1007.43</td><td>695c174e-d1d2-491b-aca5-c85409c52e26</td><td>26.73</td><td>2020-02-08T10:35:08</td><td>2023-09-27T05:49:31.989+0000</td><td>dbfs:/mnt/saunextadls/raw/json/15.8.23.json</td></tr><tr><td>58.72</td><td>1000.5</td><td>f17edb3b-6b65-4c5b-b4ec-974a7c1d4a95</td><td>21.84</td><td>1973-12-02T17:57:06</td><td>2023-09-27T05:49:31.989+0000</td><td>dbfs:/mnt/saunextadls/raw/json/15.8.23.json</td></tr><tr><td>48.26</td><td>1001.54</td><td>a359332b-9588-420e-88a9-4616f44aa208</td><td>29.21</td><td>1991-01-22T09:17:54</td><td>2023-09-27T05:49:31.989+0000</td><td>dbfs:/mnt/saunextadls/raw/json/15.8.23.json</td></tr><tr><td>47.2</td><td>1004.1</td><td>a8a46f72-5c52-4709-ac81-562348958c10</td><td>22.44</td><td>2001-01-02T23:23:47</td><td>2023-09-27T05:49:31.989+0000</td><td>dbfs:/mnt/saunextadls/raw/json/15.8.23.json</td></tr><tr><td>47.78</td><td>1014.08</td><td>c7e5f59f-7ad9-44c2-8639-522d3e44c036</td><td>27.95</td><td>2004-03-28T00:25:04</td><td>2023-09-27T05:49:31.989+0000</td><td>dbfs:/mnt/saunextadls/raw/json/15.8.23.json</td></tr><tr><td>43.5</td><td>1001.13</td><td>59df4484-6055-47c3-854b-d22b4de58a90</td><td>20.73</td><td>1992-03-30T13:17:54</td><td>2023-09-27T05:49:31.989+0000</td><td>dbfs:/mnt/saunextadls/raw/json/15.8.23.json</td></tr><tr><td>40.98</td><td>1011.52</td><td>6d09165b-2288-45fb-92b7-ed0b96c2b92d</td><td>21.49</td><td>1998-03-15T05:53:52</td><td>2023-09-27T05:49:31.989+0000</td><td>dbfs:/mnt/saunextadls/raw/json/15.8.23.json</td></tr><tr><td>40.01</td><td>1016.68</td><td>ae4566b1-0ca6-40c2-8c7b-fb837975f84f</td><td>25.51</td><td>1987-09-18T23:26:52</td><td>2023-09-27T05:49:31.989+0000</td><td>dbfs:/mnt/saunextadls/raw/json/15.8.23.json</td></tr><tr><td>44.18</td><td>1010.02</td><td>d5049464-b50d-4136-bfc2-5fa47c0f9953</td><td>20.64</td><td>2007-07-30T02:14:14</td><td>2023-09-27T05:49:31.989+0000</td><td>dbfs:/mnt/saunextadls/raw/json/15.8.23.json</td></tr><tr><td>48.42</td><td>1017.89</td><td>7b8e8d09-d8d8-4641-9b8e-a6dfdb1448e4</td><td>27.87</td><td>2010-06-28T03:15:16</td><td>2023-09-27T05:49:31.989+0000</td><td>dbfs:/mnt/saunextadls/raw/json/15.8.23.json</td></tr><tr><td>53.86</td><td>1006.04</td><td>841e4f42-e616-486d-b964-cf2a08577482</td><td>27.34</td><td>1979-03-09T11:23:01</td><td>2023-09-27T05:49:31.989+0000</td><td>dbfs:/mnt/saunextadls/raw/json/15.8.23.json</td></tr><tr><td>43.06</td><td>1000.7</td><td>155bba12-080a-4700-b2ef-63e103bd0127</td><td>27.36</td><td>1989-05-17T13:27:12</td><td>2023-09-27T05:49:31.989+0000</td><td>dbfs:/mnt/saunextadls/raw/json/15.8.23.json</td></tr><tr><td>42.63</td><td>1019.77</td><td>20e87425-992a-4ba0-9fb7-ae5b221b6c1e</td><td>27.28</td><td>1988-05-08T08:11:05</td><td>2023-09-27T05:49:31.989+0000</td><td>dbfs:/mnt/saunextadls/raw/json/15.8.23.json</td></tr><tr><td>50.8</td><td>1004.72</td><td>30c516ec-bfd7-498a-a4d6-e7cbcaf5ac1b</td><td>23.56</td><td>2011-02-14T20:19:33</td><td>2023-09-27T05:49:31.989+0000</td><td>dbfs:/mnt/saunextadls/raw/json/15.8.23.json</td></tr><tr><td>58.13</td><td>1013.24</td><td>3186ee0c-bbf3-48e7-bf0a-bb96b2fd2b6f</td><td>26.44</td><td>1977-03-31T01:20:50</td><td>2023-09-27T05:49:31.989+0000</td><td>dbfs:/mnt/saunextadls/raw/json/15.8.23.json</td></tr><tr><td>57.18</td><td>1000.78</td><td>4a965731-02b9-448f-b5a0-e4c866825fc3</td><td>25.55</td><td>1978-01-05T22:09:39</td><td>2023-09-27T05:49:31.989+0000</td><td>dbfs:/mnt/saunextadls/raw/json/15.8.23.json</td></tr><tr><td>51.99</td><td>1011.53</td><td>70cc99fb-b2a1-4784-accb-5a314b6f1821</td><td>27.53</td><td>1988-03-05T01:00:23</td><td>2023-09-27T05:49:31.989+0000</td><td>dbfs:/mnt/saunextadls/raw/json/15.8.23.json</td></tr><tr><td>41.16</td><td>1000.39</td><td>b24be1ec-93fd-4b55-a997-7093427fdd53</td><td>22.77</td><td>1988-09-26T02:28:12</td><td>2023-09-27T05:49:31.989+0000</td><td>dbfs:/mnt/saunextadls/raw/json/15.8.23.json</td></tr><tr><td>49.18</td><td>1016.57</td><td>924db1dd-9d2a-47f7-bf9c-679259c1ef06</td><td>26.23</td><td>2009-07-16T11:13:40</td><td>2023-09-27T05:49:31.989+0000</td><td>dbfs:/mnt/saunextadls/raw/json/15.8.23.json</td></tr><tr><td>54.05</td><td>1004.07</td><td>6f3a10ab-99ad-4462-ab94-0635ceb01fd0</td><td>29.37</td><td>2006-06-13T08:27:17</td><td>2023-09-27T05:49:31.989+0000</td><td>dbfs:/mnt/saunextadls/raw/json/15.8.23.json</td></tr><tr><td>48.15</td><td>1016.0</td><td>45d9f67e-c737-4658-99e3-afe0c7c2cd05</td><td>23.07</td><td>2007-03-05T15:14:45</td><td>2023-09-27T05:49:31.989+0000</td><td>dbfs:/mnt/saunextadls/raw/json/15.8.23.json</td></tr><tr><td>57.85</td><td>1018.07</td><td>21ebed5e-0890-46ab-8139-7a275654b1a7</td><td>24.3</td><td>1991-05-14T12:17:08</td><td>2023-09-27T05:49:31.989+0000</td><td>dbfs:/mnt/saunextadls/raw/json/15.8.23.json</td></tr><tr><td>56.48</td><td>1002.67</td><td>3a141a35-1814-4030-ae4e-d35cc4983507</td><td>29.72</td><td>2018-10-08T15:36:36</td><td>2023-09-27T05:49:31.989+0000</td><td>dbfs:/mnt/saunextadls/raw/json/15.8.23.json</td></tr><tr><td>49.75</td><td>1003.28</td><td>f39f44b3-2d7f-43f1-beb3-c38ba6ffc06d</td><td>27.72</td><td>1970-11-16T21:30:00</td><td>2023-09-27T05:49:31.989+0000</td><td>dbfs:/mnt/saunextadls/raw/json/15.8.23.json</td></tr><tr><td>51.81</td><td>1008.68</td><td>fd0ea9b9-587a-42f5-ad5b-87dfcba996f2</td><td>27.54</td><td>1977-03-25T00:40:35</td><td>2023-09-27T05:49:31.989+0000</td><td>dbfs:/mnt/saunextadls/raw/json/15.8.23.json</td></tr><tr><td>54.28</td><td>1009.1</td><td>57fc741f-186c-4031-8d80-4d9d22a14c4a</td><td>28.1</td><td>1989-11-05T15:09:05</td><td>2023-09-27T05:49:31.989+0000</td><td>dbfs:/mnt/saunextadls/raw/json/15.8.23.json</td></tr><tr><td>55.88</td><td>1002.37</td><td>28de8c73-d7e6-4d31-9ffa-f923724f50ea</td><td>23.95</td><td>2007-01-14T03:03:18</td><td>2023-09-27T05:49:31.989+0000</td><td>dbfs:/mnt/saunextadls/raw/json/15.8.23.json</td></tr><tr><td>40.19</td><td>1009.17</td><td>6481dba3-5472-4623-abfb-03a5910d0ecd</td><td>26.31</td><td>2016-10-31T13:33:35</td><td>2023-09-27T05:49:31.989+0000</td><td>dbfs:/mnt/saunextadls/raw/json/15.8.23.json</td></tr><tr><td>55.49</td><td>1019.59</td><td>6fa34ee1-5be6-4bc6-a003-cca83262e703</td><td>21.71</td><td>2007-02-03T18:07:20</td><td>2023-09-27T05:49:31.989+0000</td><td>dbfs:/mnt/saunextadls/raw/json/15.8.23.json</td></tr><tr><td>49.32</td><td>1013.26</td><td>981a493d-c107-4ac4-bc70-a7505cd0d03c</td><td>24.47</td><td>2010-06-06T10:02:36</td><td>2023-09-27T05:49:31.989+0000</td><td>dbfs:/mnt/saunextadls/raw/json/15.8.23.json</td></tr><tr><td>44.78</td><td>1015.16</td><td>c7cb76c0-5a1e-4763-89ea-b7a556adfe79</td><td>22.08</td><td>2003-04-22T04:21:09</td><td>2023-09-27T05:49:31.989+0000</td><td>dbfs:/mnt/saunextadls/raw/json/15.8.23.json</td></tr><tr><td>51.46</td><td>1015.2</td><td>9ba60dc3-4242-43f4-b54a-64f7d817b932</td><td>27.43</td><td>2020-08-10T18:40:11</td><td>2023-09-27T05:49:31.989+0000</td><td>dbfs:/mnt/saunextadls/raw/json/15.8.23.json</td></tr><tr><td>43.64</td><td>1011.59</td><td>a70b4c88-4b2d-4889-8ee2-934c52ba46a9</td><td>27.44</td><td>1983-08-19T21:38:32</td><td>2023-09-27T05:49:31.989+0000</td><td>dbfs:/mnt/saunextadls/raw/json/15.8.23.json</td></tr><tr><td>53.27</td><td>1003.74</td><td>c11931a8-f3cd-4c41-9e70-abd963ee6464</td><td>24.65</td><td>1999-01-11T12:16:58</td><td>2023-09-27T05:49:31.989+0000</td><td>dbfs:/mnt/saunextadls/raw/json/15.8.23.json</td></tr><tr><td>48.97</td><td>1007.42</td><td>d3fdfab8-5fa4-47f5-a98d-3ad4089e9125</td><td>25.46</td><td>1997-12-30T18:43:21</td><td>2023-09-27T05:49:31.989+0000</td><td>dbfs:/mnt/saunextadls/raw/json/15.8.23.json</td></tr><tr><td>46.44</td><td>1013.29</td><td>f7429ad7-d88c-4a7c-80d5-82969a022bac</td><td>23.5</td><td>2020-12-17T15:29:15</td><td>2023-09-27T05:49:31.989+0000</td><td>dbfs:/mnt/saunextadls/raw/json/15.8.23.json</td></tr><tr><td>43.02</td><td>1002.17</td><td>3f66bb85-4da7-4f63-b89b-d382066147d1</td><td>26.01</td><td>1978-10-18T09:30:36</td><td>2023-09-27T05:49:31.989+0000</td><td>dbfs:/mnt/saunextadls/raw/json/15.8.23.json</td></tr><tr><td>52.05</td><td>1015.81</td><td>5373b0a0-1742-4ebe-8c21-4d60198b6ffa</td><td>29.51</td><td>2001-09-14T23:22:21</td><td>2023-09-27T05:49:31.989+0000</td><td>dbfs:/mnt/saunextadls/raw/json/15.8.23.json</td></tr><tr><td>52.69</td><td>1003.77</td><td>19f5011e-e1c9-418f-824f-55debbf5cd2b</td><td>21.53</td><td>1987-11-11T10:59:25</td><td>2023-09-27T05:49:31.989+0000</td><td>dbfs:/mnt/saunextadls/raw/json/15.8.23.json</td></tr><tr><td>51.2</td><td>1000.19</td><td>a13882b6-eee8-4ab6-a9db-1d58f5a6a5a5</td><td>22.01</td><td>1999-12-30T02:12:10</td><td>2023-09-27T05:49:31.989+0000</td><td>dbfs:/mnt/saunextadls/raw/json/15.8.23.json</td></tr><tr><td>49.78</td><td>1006.43</td><td>2f9860c6-f01a-42a3-83a5-3bf19ba4c56d</td><td>22.77</td><td>1982-02-17T01:12:29</td><td>2023-09-27T05:49:31.989+0000</td><td>dbfs:/mnt/saunextadls/raw/json/15.8.23.json</td></tr><tr><td>40.97</td><td>1004.44</td><td>e43fab25-9d87-4551-801f-9a8cf35a3003</td><td>28.27</td><td>2011-12-08T15:17:23</td><td>2023-09-27T05:49:31.989+0000</td><td>dbfs:/mnt/saunextadls/raw/json/15.8.23.json</td></tr><tr><td>53.53</td><td>1005.84</td><td>f76c6fc4-cb95-462b-8366-7c0ad5d7647d</td><td>27.42</td><td>2017-10-20T09:11:13</td><td>2023-09-27T05:49:31.989+0000</td><td>dbfs:/mnt/saunextadls/raw/json/15.8.23.json</td></tr><tr><td>54.07</td><td>1017.22</td><td>ac11ce12-7aa7-4842-9c51-efe4e1d1b92f</td><td>28.89</td><td>2012-03-07T02:27:48</td><td>2023-09-27T05:49:31.989+0000</td><td>dbfs:/mnt/saunextadls/raw/json/15.8.23.json</td></tr><tr><td>43.29</td><td>1012.14</td><td>23cb0396-3bb0-4e9e-b342-065c2c36eb0c</td><td>21.47</td><td>1999-07-26T02:30:33</td><td>2023-09-27T05:49:31.989+0000</td><td>dbfs:/mnt/saunextadls/raw/json/15.8.23.json</td></tr><tr><td>50.15</td><td>1003.17</td><td>27abc9fc-34e1-499c-81bc-4d89aa7fe771</td><td>29.2</td><td>1989-02-25T14:50:03</td><td>2023-09-27T05:49:31.989+0000</td><td>dbfs:/mnt/saunextadls/raw/json/15.8.23.json</td></tr><tr><td>42.39</td><td>1011.38</td><td>a843b9c6-cfb7-4625-b465-9641edcb431c</td><td>29.55</td><td>2008-01-08T09:18:10</td><td>2023-09-27T05:49:31.989+0000</td><td>dbfs:/mnt/saunextadls/raw/json/15.8.23.json</td></tr><tr><td>46.32</td><td>1009.1</td><td>61b0094b-5c90-499f-831f-e738414344f7</td><td>26.34</td><td>1973-01-02T08:18:17</td><td>2023-09-27T05:49:31.989+0000</td><td>dbfs:/mnt/saunextadls/raw/json/15.8.23.json</td></tr><tr><td>51.14</td><td>1004.84</td><td>f021522a-0d57-4b75-96a1-4df3535898c2</td><td>26.51</td><td>1990-07-27T16:01:30</td><td>2023-09-27T05:49:31.989+0000</td><td>dbfs:/mnt/saunextadls/raw/json/15.8.23.json</td></tr><tr><td>58.0</td><td>1007.47</td><td>9ec49dac-c82f-4218-bad8-c5c8631bbc55</td><td>27.97</td><td>1999-01-17T15:07:09</td><td>2023-09-27T05:49:31.989+0000</td><td>dbfs:/mnt/saunextadls/raw/json/15.8.23.json</td></tr><tr><td>54.71</td><td>1004.58</td><td>e06133b3-f6b3-4600-8e3e-1417ff595426</td><td>26.83</td><td>1997-04-09T07:07:38</td><td>2023-09-27T05:49:31.989+0000</td><td>dbfs:/mnt/saunextadls/raw/json/15.8.23.json</td></tr><tr><td>54.81</td><td>1010.99</td><td>cff172c2-4747-4b38-881f-b0787e0ab0e3</td><td>23.52</td><td>1984-08-15T21:38:07</td><td>2023-09-27T05:49:31.989+0000</td><td>dbfs:/mnt/saunextadls/raw/json/15.8.23.json</td></tr><tr><td>54.2</td><td>1015.0</td><td>c636c7d9-ce13-4154-b5de-5b56f3718997</td><td>26.76</td><td>1983-08-12T02:49:13</td><td>2023-09-27T05:49:31.989+0000</td><td>dbfs:/mnt/saunextadls/raw/json/15.8.23.json</td></tr><tr><td>50.09</td><td>1012.79</td><td>eed098e7-1cb1-421e-bb68-2ea109c46198</td><td>23.46</td><td>2002-01-15T12:06:13</td><td>2023-09-27T05:49:31.989+0000</td><td>dbfs:/mnt/saunextadls/raw/json/15.8.23.json</td></tr><tr><td>49.43</td><td>1009.31</td><td>ba3b9325-25f8-4366-a085-5f014715cb08</td><td>24.77</td><td>2021-05-28T16:16:19</td><td>2023-09-27T05:49:31.989+0000</td><td>dbfs:/mnt/saunextadls/raw/json/15.8.23.json</td></tr><tr><td>41.53</td><td>1001.67</td><td>f3b6b54c-cba8-4c98-8e41-0fc88ec0abba</td><td>25.22</td><td>1984-01-12T19:20:48</td><td>2023-09-27T05:49:31.989+0000</td><td>dbfs:/mnt/saunextadls/raw/json/15.8.23.json</td></tr><tr><td>45.57</td><td>1000.78</td><td>f10eb9b2-c8ef-471c-83d9-08a667cf3632</td><td>20.65</td><td>2011-04-17T04:59:05</td><td>2023-09-27T05:49:31.989+0000</td><td>dbfs:/mnt/saunextadls/raw/json/15.8.23.json</td></tr><tr><td>42.99</td><td>1001.24</td><td>2dac0fbf-93fe-4863-bf7e-a5dd1406df09</td><td>27.34</td><td>1987-06-03T16:50:20</td><td>2023-09-27T05:49:31.989+0000</td><td>dbfs:/mnt/saunextadls/raw/json/15.8.23.json</td></tr><tr><td>53.79</td><td>1012.19</td><td>6e7e6d6a-1e91-4b79-bd99-44ddd682e0b8</td><td>26.69</td><td>1997-03-29T11:10:14</td><td>2023-09-27T05:49:31.989+0000</td><td>dbfs:/mnt/saunextadls/raw/json/15.8.23.json</td></tr><tr><td>57.62</td><td>1000.68</td><td>ffa12684-0429-4941-b1c1-98ee120496fe</td><td>28.11</td><td>1994-12-10T11:38:18</td><td>2023-09-27T05:49:31.989+0000</td><td>dbfs:/mnt/saunextadls/raw/json/15.8.23.json</td></tr><tr><td>50.84</td><td>1002.2</td><td>afa03088-d12a-499d-8a3b-bacdbe0d869a</td><td>24.95</td><td>1974-04-24T02:48:17</td><td>2023-09-27T05:49:31.989+0000</td><td>dbfs:/mnt/saunextadls/raw/json/15.8.23.json</td></tr><tr><td>59.9</td><td>1018.95</td><td>26ab72b9-fb37-417c-b271-d85f7ceda550</td><td>28.69</td><td>1981-04-29T00:45:58</td><td>2023-09-27T05:49:31.989+0000</td><td>dbfs:/mnt/saunextadls/raw/json/15.8.23.json</td></tr><tr><td>56.2</td><td>1007.29</td><td>f9bbf424-5ab2-4fb9-90d4-05f574ee12c4</td><td>21.69</td><td>2015-04-24T12:13:05</td><td>2023-09-27T05:49:31.989+0000</td><td>dbfs:/mnt/saunextadls/raw/json/15.8.23.json</td></tr><tr><td>40.87</td><td>1017.19</td><td>576ac32b-ac1a-4f94-8033-824487b1788f</td><td>21.08</td><td>1982-04-17T08:49:30</td><td>2023-09-27T05:49:31.989+0000</td><td>dbfs:/mnt/saunextadls/raw/json/15.8.23.json</td></tr><tr><td>46.27</td><td>1008.81</td><td>c2de3820-5e57-445f-a1b0-133c8c105ee3</td><td>26.18</td><td>1985-02-19T00:39:08</td><td>2023-09-27T05:49:31.989+0000</td><td>dbfs:/mnt/saunextadls/raw/json/15.8.23.json</td></tr><tr><td>53.16</td><td>1008.0</td><td>e59e46ae-2661-4947-878b-367fb498dce1</td><td>23.16</td><td>2004-10-19T18:18:29</td><td>2023-09-27T05:49:31.989+0000</td><td>dbfs:/mnt/saunextadls/raw/json/15.8.23.json</td></tr><tr><td>40.62</td><td>1016.96</td><td>707e720d-dc9d-4c0b-b89b-2560b7d42038</td><td>28.81</td><td>1975-11-27T06:21:37</td><td>2023-09-27T05:49:31.989+0000</td><td>dbfs:/mnt/saunextadls/raw/json/15.8.23.json</td></tr><tr><td>58.22</td><td>1004.99</td><td>3f6e1731-cfc8-4a99-9ecf-c2b8fbccc5e5</td><td>22.87</td><td>2008-09-18T12:32:16</td><td>2023-09-27T05:49:31.989+0000</td><td>dbfs:/mnt/saunextadls/raw/json/15.8.23.json</td></tr><tr><td>57.66</td><td>1019.56</td><td>74e44ff5-fe8d-4383-81c7-2b67c97c31e9</td><td>23.87</td><td>1999-03-10T09:08:35</td><td>2023-09-27T05:49:31.989+0000</td><td>dbfs:/mnt/saunextadls/raw/json/15.8.23.json</td></tr><tr><td>55.89</td><td>1003.6</td><td>f76917f7-fca8-45c8-a221-06bc8e371844</td><td>27.65</td><td>2016-07-29T19:48:51</td><td>2023-09-27T05:49:31.989+0000</td><td>dbfs:/mnt/saunextadls/raw/json/15.8.23.json</td></tr><tr><td>52.93</td><td>1002.08</td><td>e188e5ef-8e65-450f-b4a8-8a75bf147b51</td><td>20.39</td><td>2008-04-01T17:33:32</td><td>2023-09-27T05:49:31.989+0000</td><td>dbfs:/mnt/saunextadls/raw/json/15.8.23.json</td></tr></tbody></table></div>"
      ]
     },
     "metadata": {
      "application/vnd.databricks.v1+output": {
       "addedWidgets": {},
       "aggData": [],
       "aggError": "",
       "aggOverflow": false,
       "aggSchema": [],
       "aggSeriesLimitReached": false,
       "aggType": "",
       "arguments": {},
       "columnCustomDisplayInfos": {},
       "data": [
        [
         49.99,
         1003.39,
         "1895b922-5c66-4d7b-bcfa-ec6bb355b0ec",
         26.08,
         "1993-04-13T22:04:18",
         "2023-09-27T05:49:31.989+0000",
         "dbfs:/mnt/saunextadls/raw/json/14.8.2023.json"
        ],
        [
         56.99,
         1010.56,
         "c7111856-eaf2-43da-827e-ae70232842b1",
         20.3,
         "1988-10-31T14:38:45",
         "2023-09-27T05:49:31.989+0000",
         "dbfs:/mnt/saunextadls/raw/json/14.8.2023.json"
        ],
        [
         41.29,
         1012.52,
         "5a61a7b2-724d-4d84-b4f6-f51f7039ae97",
         26.56,
         "1987-04-24T22:18:32",
         "2023-09-27T05:49:31.989+0000",
         "dbfs:/mnt/saunextadls/raw/json/14.8.2023.json"
        ],
        [
         47.78,
         1014.82,
         "e308eb54-ed3f-4c28-8552-44c5c88e7fa1",
         29.73,
         "1993-11-23T04:18:17",
         "2023-09-27T05:49:31.989+0000",
         "dbfs:/mnt/saunextadls/raw/json/14.8.2023.json"
        ],
        [
         58.92,
         1000.05,
         "b113908a-6963-470c-9788-510521eb8a74",
         21.08,
         "2007-03-02T14:42:08",
         "2023-09-27T05:49:31.989+0000",
         "dbfs:/mnt/saunextadls/raw/json/14.8.2023.json"
        ],
        [
         46.51,
         1008.96,
         "80d978e1-e602-42a4-8521-e19a0130e9e0",
         25.6,
         "1988-09-06T19:31:24",
         "2023-09-27T05:49:31.989+0000",
         "dbfs:/mnt/saunextadls/raw/json/14.8.2023.json"
        ],
        [
         55.16,
         1005.49,
         "af7d4b05-3493-44d2-af62-361fd0815467",
         29.36,
         "1971-10-05T16:21:51",
         "2023-09-27T05:49:31.989+0000",
         "dbfs:/mnt/saunextadls/raw/json/14.8.2023.json"
        ],
        [
         51.95,
         1018.99,
         "dd47145f-d9cb-465e-88d9-488af80f3fbb",
         23.01,
         "2013-12-26T21:59:57",
         "2023-09-27T05:49:31.989+0000",
         "dbfs:/mnt/saunextadls/raw/json/14.8.2023.json"
        ],
        [
         58.82,
         1013.66,
         "9f7c1e12-5691-49c4-9455-8c4c58b4fa57",
         24.92,
         "1988-12-04T01:50:54",
         "2023-09-27T05:49:31.989+0000",
         "dbfs:/mnt/saunextadls/raw/json/14.8.2023.json"
        ],
        [
         40.63,
         1016.5,
         "cccedfed-b96c-406d-8cf5-4b3af04a9e4d",
         29.85,
         "1997-08-31T06:16:42",
         "2023-09-27T05:49:31.989+0000",
         "dbfs:/mnt/saunextadls/raw/json/14.8.2023.json"
        ],
        [
         57.89,
         1015.67,
         "ab86dd50-3b3d-412b-966c-d8ad67c976ce",
         21.09,
         "1984-10-22T21:37:04",
         "2023-09-27T05:49:31.989+0000",
         "dbfs:/mnt/saunextadls/raw/json/14.8.2023.json"
        ],
        [
         45.73,
         1002.75,
         "a7b1774f-1d3a-40ce-b7d1-49052b8c3651",
         24.54,
         "1987-08-01T08:46:56",
         "2023-09-27T05:49:31.989+0000",
         "dbfs:/mnt/saunextadls/raw/json/14.8.2023.json"
        ],
        [
         49.09,
         1018.43,
         "28f17fdc-e1d1-4d4b-8ea0-19e479f6236b",
         20.65,
         "1993-06-12T21:44:41",
         "2023-09-27T05:49:31.989+0000",
         "dbfs:/mnt/saunextadls/raw/json/14.8.2023.json"
        ],
        [
         55.13,
         1015.09,
         "0f2255b5-e19f-4434-8b4b-a1e35331a692",
         22.34,
         "2022-12-29T04:05:06",
         "2023-09-27T05:49:31.989+0000",
         "dbfs:/mnt/saunextadls/raw/json/14.8.2023.json"
        ],
        [
         45.49,
         1017.55,
         "51fccabc-370d-4351-84b8-f5c164e17bbf",
         22.69,
         "2007-11-09T02:56:12",
         "2023-09-27T05:49:31.989+0000",
         "dbfs:/mnt/saunextadls/raw/json/14.8.2023.json"
        ],
        [
         58.1,
         1013.81,
         "9fd0e31b-4894-4011-b0aa-6d5fdd308bda",
         24.19,
         "1983-03-29T02:57:34",
         "2023-09-27T05:49:31.989+0000",
         "dbfs:/mnt/saunextadls/raw/json/14.8.2023.json"
        ],
        [
         46.45,
         1006.63,
         "0da7d7ac-0795-46b8-ba70-db7013b3a2e5",
         21.12,
         "1979-12-21T15:23:22",
         "2023-09-27T05:49:31.989+0000",
         "dbfs:/mnt/saunextadls/raw/json/14.8.2023.json"
        ],
        [
         55.81,
         1010.76,
         "62640add-e15a-4b6a-8457-b9bc3d4212aa",
         23.47,
         "2016-02-21T05:05:59",
         "2023-09-27T05:49:31.989+0000",
         "dbfs:/mnt/saunextadls/raw/json/14.8.2023.json"
        ],
        [
         56.04,
         1011.87,
         "dff0c609-bec0-4b23-8766-4c862f3a9199",
         24.53,
         "1992-12-16T23:10:43",
         "2023-09-27T05:49:31.989+0000",
         "dbfs:/mnt/saunextadls/raw/json/14.8.2023.json"
        ],
        [
         57.91,
         1004.38,
         "42202c31-7e7d-4746-9d13-3a8369bec24c",
         23.08,
         "2010-09-03T02:45:02",
         "2023-09-27T05:49:31.989+0000",
         "dbfs:/mnt/saunextadls/raw/json/14.8.2023.json"
        ],
        [
         45.9,
         1001.17,
         "9cd40ab3-effd-4bb7-a416-efe11c136d4c",
         26.24,
         "1979-12-16T23:26:42",
         "2023-09-27T05:49:31.989+0000",
         "dbfs:/mnt/saunextadls/raw/json/14.8.2023.json"
        ],
        [
         45.62,
         1014.83,
         "dd2b746a-bf72-4682-bc36-e419d76da94b",
         26.1,
         "1993-03-05T07:30:41",
         "2023-09-27T05:49:31.989+0000",
         "dbfs:/mnt/saunextadls/raw/json/14.8.2023.json"
        ],
        [
         50.33,
         1007.3,
         "d5769530-fcdd-4f3b-9935-c5f3a486d5ae",
         26.04,
         "2007-07-19T07:30:44",
         "2023-09-27T05:49:31.989+0000",
         "dbfs:/mnt/saunextadls/raw/json/14.8.2023.json"
        ],
        [
         53.94,
         1017.72,
         "a3596852-7508-4d56-a676-9e07561f032b",
         25.48,
         "2008-07-03T15:10:49",
         "2023-09-27T05:49:31.989+0000",
         "dbfs:/mnt/saunextadls/raw/json/14.8.2023.json"
        ],
        [
         55.89,
         1019.38,
         "b8f62f4a-0047-47b6-a23a-91c7bde22230",
         29.36,
         "1979-06-19T17:41:24",
         "2023-09-27T05:49:31.989+0000",
         "dbfs:/mnt/saunextadls/raw/json/14.8.2023.json"
        ],
        [
         46.66,
         1013.03,
         "1cc7cdb5-d891-4424-9fbb-457a1a79b1c5",
         24.58,
         "2005-05-15T20:40:21",
         "2023-09-27T05:49:31.989+0000",
         "dbfs:/mnt/saunextadls/raw/json/14.8.2023.json"
        ],
        [
         41.67,
         1016.06,
         "45853e98-5520-400f-b0f7-d3b2c4836878",
         25.52,
         "1992-09-07T05:55:52",
         "2023-09-27T05:49:31.989+0000",
         "dbfs:/mnt/saunextadls/raw/json/14.8.2023.json"
        ],
        [
         42.11,
         1016.73,
         "0fd4b88b-00e1-442d-8096-19a86792ade8",
         20.16,
         "1992-06-26T23:45:11",
         "2023-09-27T05:49:31.989+0000",
         "dbfs:/mnt/saunextadls/raw/json/14.8.2023.json"
        ],
        [
         49.85,
         1013.1,
         "ee778485-6d96-42da-b983-46328b03f2fb",
         25.41,
         "1988-08-06T01:23:44",
         "2023-09-27T05:49:31.989+0000",
         "dbfs:/mnt/saunextadls/raw/json/14.8.2023.json"
        ],
        [
         56.16,
         1018.14,
         "290919eb-5615-4bfb-88fc-43e364f97d4c",
         28.99,
         "1977-07-05T18:47:41",
         "2023-09-27T05:49:31.989+0000",
         "dbfs:/mnt/saunextadls/raw/json/14.8.2023.json"
        ],
        [
         40.65,
         1014.42,
         "4129c4fe-4a90-408b-beec-42529a91890b",
         27.5,
         "2023-08-05T14:09:42",
         "2023-09-27T05:49:31.989+0000",
         "dbfs:/mnt/saunextadls/raw/json/14.8.2023.json"
        ],
        [
         45.23,
         1017.79,
         "db57457b-1f21-4d93-b89c-3b8b3a9b95b4",
         26.46,
         "2015-03-06T22:09:45",
         "2023-09-27T05:49:31.989+0000",
         "dbfs:/mnt/saunextadls/raw/json/14.8.2023.json"
        ],
        [
         41.83,
         1000.93,
         "390314a5-23d4-4823-a262-fd7561135de5",
         28.89,
         "1994-07-18T08:36:41",
         "2023-09-27T05:49:31.989+0000",
         "dbfs:/mnt/saunextadls/raw/json/14.8.2023.json"
        ],
        [
         48.7,
         1012.26,
         "df6667ce-4b0f-48b0-83ee-83a5f07c143c",
         24.66,
         "1971-12-29T10:04:25",
         "2023-09-27T05:49:31.989+0000",
         "dbfs:/mnt/saunextadls/raw/json/14.8.2023.json"
        ],
        [
         53.21,
         1012.32,
         "c1248f13-684c-4306-ab0b-50fbba9df133",
         29.34,
         "2004-04-11T11:36:23",
         "2023-09-27T05:49:31.989+0000",
         "dbfs:/mnt/saunextadls/raw/json/14.8.2023.json"
        ],
        [
         54.2,
         1016.99,
         "4e4631b9-4cd0-4270-b090-fa8da70ef628",
         25.79,
         "1995-03-31T11:38:01",
         "2023-09-27T05:49:31.989+0000",
         "dbfs:/mnt/saunextadls/raw/json/14.8.2023.json"
        ],
        [
         50.31,
         1008.99,
         "c3607b48-2855-412a-a476-5bf02fa9d420",
         22.06,
         "1995-12-30T23:48:06",
         "2023-09-27T05:49:31.989+0000",
         "dbfs:/mnt/saunextadls/raw/json/14.8.2023.json"
        ],
        [
         51.44,
         1003.52,
         "9928f3a8-9d91-482b-9cd2-4957d317cc91",
         20.82,
         "1985-09-19T05:11:41",
         "2023-09-27T05:49:31.989+0000",
         "dbfs:/mnt/saunextadls/raw/json/14.8.2023.json"
        ],
        [
         52.2,
         1008.8,
         "37004b37-5584-4392-9f94-1e1685191811",
         28.33,
         "1996-09-01T10:01:33",
         "2023-09-27T05:49:31.989+0000",
         "dbfs:/mnt/saunextadls/raw/json/14.8.2023.json"
        ],
        [
         54.75,
         1004.61,
         "433ad7fc-cbcf-47d3-9c5e-a49d9716968e",
         29.32,
         "1972-03-06T02:50:22",
         "2023-09-27T05:49:31.989+0000",
         "dbfs:/mnt/saunextadls/raw/json/14.8.2023.json"
        ],
        [
         40.7,
         1007.92,
         "438b6118-9225-4bf2-a3e9-32e65c8df0ab",
         28.54,
         "1974-01-07T07:20:23",
         "2023-09-27T05:49:31.989+0000",
         "dbfs:/mnt/saunextadls/raw/json/14.8.2023.json"
        ],
        [
         52.04,
         1009.97,
         "845bbc3d-d645-409b-847d-7f4e1b9b57bd",
         25.95,
         "1997-03-29T10:18:46",
         "2023-09-27T05:49:31.989+0000",
         "dbfs:/mnt/saunextadls/raw/json/14.8.2023.json"
        ],
        [
         48.17,
         1017.81,
         "14428f51-ef4e-4bda-80bc-7aff5de6526e",
         26.7,
         "2022-06-23T19:56:14",
         "2023-09-27T05:49:31.989+0000",
         "dbfs:/mnt/saunextadls/raw/json/14.8.2023.json"
        ],
        [
         43.83,
         1007.32,
         "8e3e8085-798c-490f-8430-2f93994ec4e7",
         27.46,
         "1990-10-10T05:58:18",
         "2023-09-27T05:49:31.989+0000",
         "dbfs:/mnt/saunextadls/raw/json/14.8.2023.json"
        ],
        [
         41.35,
         1016.77,
         "216369f3-6d5a-4d4d-9a9d-47297f0327e8",
         28.47,
         "1998-11-24T15:10:12",
         "2023-09-27T05:49:31.989+0000",
         "dbfs:/mnt/saunextadls/raw/json/14.8.2023.json"
        ],
        [
         43.2,
         1001.5,
         "248fcb72-860d-4ae2-aadd-941e0f8768b8",
         26.96,
         "1979-06-25T14:21:39",
         "2023-09-27T05:49:31.989+0000",
         "dbfs:/mnt/saunextadls/raw/json/14.8.2023.json"
        ],
        [
         52.01,
         1003.77,
         "2f89a865-dbc0-4b26-9873-2dac003e3c82",
         24.75,
         "2013-01-07T09:51:30",
         "2023-09-27T05:49:31.989+0000",
         "dbfs:/mnt/saunextadls/raw/json/14.8.2023.json"
        ],
        [
         48.37,
         1011.55,
         "37df741b-e640-4ec4-9a52-6ada4773f378",
         24.04,
         "2001-07-10T19:59:28",
         "2023-09-27T05:49:31.989+0000",
         "dbfs:/mnt/saunextadls/raw/json/14.8.2023.json"
        ],
        [
         55.31,
         1012.69,
         "24b3c87c-7d46-4f89-939e-527a3961c5e3",
         22.64,
         "1996-11-26T22:27:19",
         "2023-09-27T05:49:31.989+0000",
         "dbfs:/mnt/saunextadls/raw/json/14.8.2023.json"
        ],
        [
         44.17,
         1014.58,
         "a9bc31f4-3453-42c7-a117-0f6805533714",
         22.55,
         "1988-12-13T10:03:51",
         "2023-09-27T05:49:31.989+0000",
         "dbfs:/mnt/saunextadls/raw/json/14.8.2023.json"
        ],
        [
         42.37,
         1011.07,
         "6ea7da91-18c3-4cff-9be5-227330e8a832",
         28.95,
         "1974-01-23T18:06:17",
         "2023-09-27T05:49:31.989+0000",
         "dbfs:/mnt/saunextadls/raw/json/14.8.2023.json"
        ],
        [
         53.7,
         1003.76,
         "b9bd9e0d-39e8-4d75-8351-409decd8c96e",
         27.08,
         "2017-12-11T19:42:06",
         "2023-09-27T05:49:31.989+0000",
         "dbfs:/mnt/saunextadls/raw/json/14.8.2023.json"
        ],
        [
         40.58,
         1003.16,
         "ee15ec0f-868b-459c-a1da-9d0630d45bab",
         25.77,
         "2020-07-04T08:18:53",
         "2023-09-27T05:49:31.989+0000",
         "dbfs:/mnt/saunextadls/raw/json/14.8.2023.json"
        ],
        [
         58.34,
         1016.36,
         "05e9e8a6-3e0e-4db4-804f-8eeccbfec8ad",
         21.82,
         "2014-07-26T17:18:25",
         "2023-09-27T05:49:31.989+0000",
         "dbfs:/mnt/saunextadls/raw/json/14.8.2023.json"
        ],
        [
         58.12,
         1013.59,
         "76c2fa3a-bd74-4430-808a-82fbf0e1eb02",
         20.63,
         "1979-07-23T16:43:13",
         "2023-09-27T05:49:31.989+0000",
         "dbfs:/mnt/saunextadls/raw/json/14.8.2023.json"
        ],
        [
         47.21,
         1016.57,
         "8c6a7724-2364-4489-b863-a8821e9a7c1f",
         28.52,
         "1979-04-13T08:21:27",
         "2023-09-27T05:49:31.989+0000",
         "dbfs:/mnt/saunextadls/raw/json/14.8.2023.json"
        ],
        [
         40.23,
         1012.94,
         "7cad3d9c-951f-4fb4-b217-3279f6aeeb41",
         26.39,
         "1979-11-29T19:04:02",
         "2023-09-27T05:49:31.989+0000",
         "dbfs:/mnt/saunextadls/raw/json/14.8.2023.json"
        ],
        [
         51.59,
         1012.47,
         "565ef26a-b95c-40c0-981c-efff56ea59ad",
         24.37,
         "2023-05-09T06:40:31",
         "2023-09-27T05:49:31.989+0000",
         "dbfs:/mnt/saunextadls/raw/json/14.8.2023.json"
        ],
        [
         48.27,
         1002.72,
         "7817ca57-ad8e-43b5-b7fa-e55dec89fc02",
         27.35,
         "1973-08-04T10:40:20",
         "2023-09-27T05:49:31.989+0000",
         "dbfs:/mnt/saunextadls/raw/json/14.8.2023.json"
        ],
        [
         49.37,
         1005.69,
         "489f290d-b8cc-4ca0-868a-7b8374d64bd4",
         24.54,
         "2016-02-03T00:16:17",
         "2023-09-27T05:49:31.989+0000",
         "dbfs:/mnt/saunextadls/raw/json/14.8.2023.json"
        ],
        [
         49.85,
         1005.8,
         "3b6697a4-ed30-4dc0-b672-ce007b4b5e94",
         25.69,
         "2013-07-16T09:42:44",
         "2023-09-27T05:49:31.989+0000",
         "dbfs:/mnt/saunextadls/raw/json/14.8.2023.json"
        ],
        [
         58.18,
         1011.29,
         "fdab7c90-9b83-4660-856f-4c3b85cb4796",
         25.74,
         "1977-07-28T13:24:26",
         "2023-09-27T05:49:31.989+0000",
         "dbfs:/mnt/saunextadls/raw/json/14.8.2023.json"
        ],
        [
         54.57,
         1010.98,
         "e3f2cd2f-a3dc-4b9b-bb93-187b036bc0ec",
         24.45,
         "1988-12-29T05:27:15",
         "2023-09-27T05:49:31.989+0000",
         "dbfs:/mnt/saunextadls/raw/json/14.8.2023.json"
        ],
        [
         51.91,
         1000.87,
         "ed114c42-0f79-4abe-a2ea-9a7c880eeb40",
         26.45,
         "1981-08-31T14:13:06",
         "2023-09-27T05:49:31.989+0000",
         "dbfs:/mnt/saunextadls/raw/json/14.8.2023.json"
        ],
        [
         57.6,
         1006.4,
         "9c1b2c67-5494-4385-a97c-89d8ca5cf5b3",
         27.77,
         "1981-12-14T23:02:14",
         "2023-09-27T05:49:31.989+0000",
         "dbfs:/mnt/saunextadls/raw/json/14.8.2023.json"
        ],
        [
         41.39,
         1005.37,
         "aa1cc9bf-4b61-4956-a114-cff7a56e1de5",
         22.83,
         "2020-10-06T23:30:25",
         "2023-09-27T05:49:31.989+0000",
         "dbfs:/mnt/saunextadls/raw/json/14.8.2023.json"
        ],
        [
         45.79,
         1007.24,
         "ab647632-9113-43f1-abe9-b6d901ccee59",
         27.67,
         "1983-08-21T08:55:26",
         "2023-09-27T05:49:31.989+0000",
         "dbfs:/mnt/saunextadls/raw/json/14.8.2023.json"
        ],
        [
         48.79,
         1013.02,
         "b273e374-4bc3-472e-b36c-989745bdf06b",
         24.16,
         "2009-06-14T18:35:45",
         "2023-09-27T05:49:31.989+0000",
         "dbfs:/mnt/saunextadls/raw/json/14.8.2023.json"
        ],
        [
         54.47,
         1014.09,
         "547c2f93-bf9b-42cb-ac94-1dc66b03b2a7",
         21.11,
         "1981-06-23T05:09:20",
         "2023-09-27T05:49:31.989+0000",
         "dbfs:/mnt/saunextadls/raw/json/14.8.2023.json"
        ],
        [
         45.11,
         1004.22,
         "17302fb3-fbc1-450c-beac-ad0284878db7",
         21.69,
         "1973-06-16T12:57:18",
         "2023-09-27T05:49:31.989+0000",
         "dbfs:/mnt/saunextadls/raw/json/14.8.2023.json"
        ],
        [
         58.19,
         1008.78,
         "f1227721-05ae-4540-be60-e86b2dd31243",
         24.77,
         "2004-12-20T19:33:55",
         "2023-09-27T05:49:31.989+0000",
         "dbfs:/mnt/saunextadls/raw/json/14.8.2023.json"
        ],
        [
         49.03,
         1001.52,
         "7bdfaff4-e604-4227-a5f9-e85b9216ff0f",
         28.62,
         "1978-11-02T21:20:30",
         "2023-09-27T05:49:31.989+0000",
         "dbfs:/mnt/saunextadls/raw/json/14.8.2023.json"
        ],
        [
         45.76,
         1008.64,
         "8780e061-1531-4a3b-9a06-f019066d2538",
         27.91,
         "2013-04-17T10:29:44",
         "2023-09-27T05:49:31.989+0000",
         "dbfs:/mnt/saunextadls/raw/json/14.8.2023.json"
        ],
        [
         58.62,
         1007.09,
         "924ddd16-9ac8-4bbd-9983-729c01a4b8c2",
         21.59,
         "1981-04-11T07:36:43",
         "2023-09-27T05:49:31.989+0000",
         "dbfs:/mnt/saunextadls/raw/json/14.8.2023.json"
        ],
        [
         44.8,
         1011.61,
         "84b3a4f4-551a-4b79-8f85-9bb53390f595",
         28.41,
         "1979-02-14T16:12:01",
         "2023-09-27T05:49:31.989+0000",
         "dbfs:/mnt/saunextadls/raw/json/14.8.2023.json"
        ],
        [
         47.26,
         1015.08,
         "fe74283d-dff4-4bbc-ba29-05853624eef1",
         29.89,
         "1993-07-15T23:03:32",
         "2023-09-27T05:49:31.989+0000",
         "dbfs:/mnt/saunextadls/raw/json/14.8.2023.json"
        ],
        [
         56.92,
         1011.88,
         "f475bc86-270a-4f89-a67e-710ab8479594",
         23.99,
         "2000-10-21T09:12:57",
         "2023-09-27T05:49:31.989+0000",
         "dbfs:/mnt/saunextadls/raw/json/14.8.2023.json"
        ],
        [
         49.64,
         1018.91,
         "11660212-95a7-400a-9579-70d29360d488",
         21.49,
         "2010-07-26T01:34:50",
         "2023-09-27T05:49:31.989+0000",
         "dbfs:/mnt/saunextadls/raw/json/14.8.2023.json"
        ],
        [
         43.19,
         1009.96,
         "300cf571-b984-43b7-9965-b63034f09a36",
         28.88,
         "2009-08-01T11:30:05",
         "2023-09-27T05:49:31.989+0000",
         "dbfs:/mnt/saunextadls/raw/json/14.8.2023.json"
        ],
        [
         54.63,
         1007.27,
         "416e694e-ebec-4a33-8142-316728c8f30e",
         22.07,
         "1991-08-27T04:34:51",
         "2023-09-27T05:49:31.989+0000",
         "dbfs:/mnt/saunextadls/raw/json/14.8.2023.json"
        ],
        [
         57.27,
         1017.82,
         "c8a3b898-4a98-4f79-9dad-0e29c81c8ad0",
         26.37,
         "2021-09-08T00:53:29",
         "2023-09-27T05:49:31.989+0000",
         "dbfs:/mnt/saunextadls/raw/json/14.8.2023.json"
        ],
        [
         47.81,
         1011.05,
         "d525b0e5-0e26-4e9d-8c32-1669aaf3a6c8",
         28.41,
         "2011-10-23T00:18:11",
         "2023-09-27T05:49:31.989+0000",
         "dbfs:/mnt/saunextadls/raw/json/14.8.2023.json"
        ],
        [
         56.05,
         1016.39,
         "5cfee4eb-2930-43ea-be81-13119611aa1b",
         27.6,
         "2002-09-24T12:05:53",
         "2023-09-27T05:49:31.989+0000",
         "dbfs:/mnt/saunextadls/raw/json/14.8.2023.json"
        ],
        [
         55.91,
         1011.0,
         "396228d9-22d3-4a83-9aca-603a6ace9b62",
         22.93,
         "1983-10-31T07:35:55",
         "2023-09-27T05:49:31.989+0000",
         "dbfs:/mnt/saunextadls/raw/json/14.8.2023.json"
        ],
        [
         40.7,
         1012.38,
         "038c8e0e-40d2-4e69-aa4c-eeed9e45b79d",
         26.39,
         "2006-06-21T12:15:47",
         "2023-09-27T05:49:31.989+0000",
         "dbfs:/mnt/saunextadls/raw/json/14.8.2023.json"
        ],
        [
         47.24,
         1013.16,
         "66b5a3d9-2290-4c24-ba0d-4bceb5f355f3",
         24.58,
         "1993-11-23T01:56:06",
         "2023-09-27T05:49:31.989+0000",
         "dbfs:/mnt/saunextadls/raw/json/14.8.2023.json"
        ],
        [
         55.55,
         1006.68,
         "8a94093d-f33a-4572-acc0-d4713a780f57",
         22.8,
         "2014-01-22T13:29:44",
         "2023-09-27T05:49:31.989+0000",
         "dbfs:/mnt/saunextadls/raw/json/14.8.2023.json"
        ],
        [
         51.86,
         1019.77,
         "d63e8110-21a4-4e10-a12d-e6110647c1dd",
         27.64,
         "1992-02-17T22:33:43",
         "2023-09-27T05:49:31.989+0000",
         "dbfs:/mnt/saunextadls/raw/json/14.8.2023.json"
        ],
        [
         41.11,
         1006.29,
         "83f01847-10d7-43b1-b3f2-efa6fdbe0df4",
         23.49,
         "1979-01-24T13:22:20",
         "2023-09-27T05:49:31.989+0000",
         "dbfs:/mnt/saunextadls/raw/json/14.8.2023.json"
        ],
        [
         54.07,
         1005.88,
         "bb7407c1-e3b9-4151-adff-01c9992effc2",
         26.49,
         "2006-05-05T09:40:46",
         "2023-09-27T05:49:31.989+0000",
         "dbfs:/mnt/saunextadls/raw/json/14.8.2023.json"
        ],
        [
         43.69,
         1000.97,
         "b69296d4-a4a0-4d6f-b051-84e5ab2af317",
         28.21,
         "1993-08-13T12:19:33",
         "2023-09-27T05:49:31.989+0000",
         "dbfs:/mnt/saunextadls/raw/json/14.8.2023.json"
        ],
        [
         43.33,
         1006.67,
         "76dae1af-8606-41c3-b0ce-56422357038e",
         25.28,
         "1978-12-19T02:44:24",
         "2023-09-27T05:49:31.989+0000",
         "dbfs:/mnt/saunextadls/raw/json/14.8.2023.json"
        ],
        [
         48.39,
         1013.38,
         "c0daa2fa-5941-4d0c-ac50-6083e6dd4aef",
         28.64,
         "2004-10-31T01:29:13",
         "2023-09-27T05:49:31.989+0000",
         "dbfs:/mnt/saunextadls/raw/json/14.8.2023.json"
        ],
        [
         56.6,
         1006.53,
         "341318f9-c561-40d7-a422-d1bed9cdcdda",
         27.46,
         "1998-06-21T06:36:15",
         "2023-09-27T05:49:31.989+0000",
         "dbfs:/mnt/saunextadls/raw/json/14.8.2023.json"
        ],
        [
         53.46,
         1017.26,
         "44449175-3b32-479b-b2d9-0e40ceec51da",
         22.36,
         "1988-10-23T14:16:21",
         "2023-09-27T05:49:31.989+0000",
         "dbfs:/mnt/saunextadls/raw/json/14.8.2023.json"
        ],
        [
         54.94,
         1009.62,
         "6b5207da-e8eb-4f2a-97ed-e094f91b6a3f",
         29.78,
         "2002-07-09T17:51:38",
         "2023-09-27T05:49:31.989+0000",
         "dbfs:/mnt/saunextadls/raw/json/14.8.2023.json"
        ],
        [
         44.98,
         1017.48,
         "409cf598-468d-4f79-85d5-6f30f275c211",
         26.02,
         "1979-11-06T15:55:21",
         "2023-09-27T05:49:31.989+0000",
         "dbfs:/mnt/saunextadls/raw/json/14.8.2023.json"
        ],
        [
         47.83,
         1010.68,
         "9eb1eb5b-2e8d-4679-a796-389c3cd3281e",
         29.49,
         "1973-08-29T15:49:37",
         "2023-09-27T05:49:31.989+0000",
         "dbfs:/mnt/saunextadls/raw/json/14.8.2023.json"
        ],
        [
         59.65,
         1013.5,
         "fe4d971b-17eb-4db9-b3f2-cc0db98dbb22",
         22.42,
         "1979-04-19T14:47:32",
         "2023-09-27T05:49:31.989+0000",
         "dbfs:/mnt/saunextadls/raw/json/14.8.2023.json"
        ],
        [
         54.97,
         1013.83,
         "1d9c964d-976f-4fdc-8e14-ba42f01576e8",
         26.94,
         "1970-11-22T08:03:50",
         "2023-09-27T05:49:31.989+0000",
         "dbfs:/mnt/saunextadls/raw/json/14.8.2023.json"
        ],
        [
         55.72,
         1014.8,
         "80e5130a-53c8-4469-9485-3d03827fe886",
         23.94,
         "1985-03-08T23:00:43",
         "2023-09-27T05:49:31.989+0000",
         "dbfs:/mnt/saunextadls/raw/json/14.8.2023.json"
        ],
        [
         40.79,
         1016.0,
         "2e0f90ed-29f9-407a-b7f5-c76960ca3ccb",
         27.06,
         "1996-07-31T14:11:35",
         "2023-09-27T05:49:31.989+0000",
         "dbfs:/mnt/saunextadls/raw/json/14.8.2023.json"
        ],
        [
         43.48,
         1006.57,
         "bf1e63fd-6f4e-46eb-bf5c-1fe8b9330ac3",
         22.49,
         "1994-05-05T23:40:26",
         "2023-09-27T05:49:31.989+0000",
         "dbfs:/mnt/saunextadls/raw/json/14.8.2023.json"
        ],
        [
         47.49,
         1001.65,
         "55ebc2cc-9fe2-47f9-96f0-75cc49a65781",
         25.25,
         "2006-10-11T05:22:05",
         "2023-09-27T05:49:31.989+0000",
         "dbfs:/mnt/saunextadls/raw/json/14.8.2023.json"
        ],
        [
         48.19,
         1008.92,
         "57fb945d-0e3a-4d8b-8c63-decaa4f4a7ac",
         23.46,
         "1976-02-13T10:07:45",
         "2023-09-27T05:49:31.989+0000",
         "dbfs:/mnt/saunextadls/raw/json/14.8.2023.json"
        ],
        [
         54.84,
         1018.48,
         "e3ade2e1-e7cc-4baa-866e-4a03cd9dd691",
         23.76,
         "2004-09-30T02:07:19",
         "2023-09-27T05:49:31.989+0000",
         "dbfs:/mnt/saunextadls/raw/json/14.8.2023.json"
        ],
        [
         46.58,
         1006.98,
         "abd41be5-026a-421e-96d7-3b6652b7fa5d",
         21.78,
         "2007-08-10T22:09:07",
         "2023-09-27T05:49:31.989+0000",
         "dbfs:/mnt/saunextadls/raw/json/14.8.2023.json"
        ],
        [
         58.4,
         1016.63,
         "5361c7f0-d50f-4bb8-8db0-8859d2cde923",
         27.52,
         "2019-02-09T11:59:01",
         "2023-09-27T05:49:31.989+0000",
         "dbfs:/mnt/saunextadls/raw/json/14.8.2023.json"
        ],
        [
         43.26,
         1007.41,
         "c53b8867-b06b-4d92-a9d8-a48c189b13f5",
         21.42,
         "2014-06-24T00:53:06",
         "2023-09-27T05:49:31.989+0000",
         "dbfs:/mnt/saunextadls/raw/json/14.8.2023.json"
        ],
        [
         57.49,
         1012.63,
         "1bb348fd-8232-4fff-a50c-6fb949847919",
         29.77,
         "1970-07-10T22:57:27",
         "2023-09-27T05:49:31.989+0000",
         "dbfs:/mnt/saunextadls/raw/json/14.8.2023.json"
        ],
        [
         44.84,
         1016.17,
         "45b6693d-fa46-4a26-a0f1-a05938009a2f",
         24.61,
         "2020-04-24T19:16:47",
         "2023-09-27T05:49:31.989+0000",
         "dbfs:/mnt/saunextadls/raw/json/14.8.2023.json"
        ],
        [
         54.42,
         1001.16,
         "267d5e9f-711a-4e42-a4fe-d6e7bc799a0d",
         26.13,
         "2013-05-27T08:45:36",
         "2023-09-27T05:49:31.989+0000",
         "dbfs:/mnt/saunextadls/raw/json/14.8.2023.json"
        ],
        [
         51.67,
         1011.19,
         "ffbfd054-7876-4d08-8d44-d0bf8141d962",
         22.55,
         "1982-07-11T10:22:11",
         "2023-09-27T05:49:31.989+0000",
         "dbfs:/mnt/saunextadls/raw/json/14.8.2023.json"
        ],
        [
         45.32,
         1016.7,
         "612185fd-5396-4462-9151-4e9f54a00115",
         27.45,
         "1987-01-16T03:04:46",
         "2023-09-27T05:49:31.989+0000",
         "dbfs:/mnt/saunextadls/raw/json/15.8.23.json"
        ],
        [
         45.52,
         1015.21,
         "36dcb7c0-8b37-453f-b9b7-c1b7e225f3d7",
         20.05,
         "2019-05-26T19:42:54",
         "2023-09-27T05:49:31.989+0000",
         "dbfs:/mnt/saunextadls/raw/json/15.8.23.json"
        ],
        [
         43.23,
         1019.59,
         "dffd0592-69d5-4535-8e9c-b2819372b3e6",
         22.84,
         "2003-10-08T19:05:06",
         "2023-09-27T05:49:31.989+0000",
         "dbfs:/mnt/saunextadls/raw/json/15.8.23.json"
        ],
        [
         51.05,
         1000.14,
         "2b4c6568-dc6a-486a-92f9-4b550683e603",
         23.82,
         "1979-12-09T16:32:01",
         "2023-09-27T05:49:31.989+0000",
         "dbfs:/mnt/saunextadls/raw/json/15.8.23.json"
        ],
        [
         48.77,
         1007.28,
         "51498467-76eb-406c-9ce3-f436e14676b5",
         21.45,
         "1996-10-30T10:27:33",
         "2023-09-27T05:49:31.989+0000",
         "dbfs:/mnt/saunextadls/raw/json/15.8.23.json"
        ],
        [
         43.52,
         1009.18,
         "f18a893b-c1eb-4d80-8def-dfc6da892078",
         24.38,
         "2019-10-24T05:04:03",
         "2023-09-27T05:49:31.989+0000",
         "dbfs:/mnt/saunextadls/raw/json/15.8.23.json"
        ],
        [
         52.66,
         1004.99,
         "ebc83d78-9590-4c58-8af9-f542897ff785",
         21.41,
         "1975-12-17T20:35:23",
         "2023-09-27T05:49:31.989+0000",
         "dbfs:/mnt/saunextadls/raw/json/15.8.23.json"
        ],
        [
         57.06,
         1015.97,
         "39aad220-3650-4397-a770-85f2467a2dfc",
         28.69,
         "2010-03-09T05:52:46",
         "2023-09-27T05:49:31.989+0000",
         "dbfs:/mnt/saunextadls/raw/json/15.8.23.json"
        ],
        [
         53.74,
         1015.41,
         "da81adcc-afbe-44f8-98dc-e2343c344b17",
         26.83,
         "1991-03-07T07:09:16",
         "2023-09-27T05:49:31.989+0000",
         "dbfs:/mnt/saunextadls/raw/json/15.8.23.json"
        ],
        [
         40.88,
         1005.24,
         "f3ae2b40-4360-4612-9ede-60a629eb29c9",
         29.09,
         "1987-10-23T13:07:47",
         "2023-09-27T05:49:31.989+0000",
         "dbfs:/mnt/saunextadls/raw/json/15.8.23.json"
        ],
        [
         49.89,
         1002.09,
         "cc117643-2c4e-4047-bd62-2fe4154df122",
         22.73,
         "2000-06-23T12:36:46",
         "2023-09-27T05:49:31.989+0000",
         "dbfs:/mnt/saunextadls/raw/json/15.8.23.json"
        ],
        [
         49.8,
         1016.72,
         "0fd92dba-a72d-45cc-86f7-b277233647bc",
         26.36,
         "1978-11-10T02:31:37",
         "2023-09-27T05:49:31.989+0000",
         "dbfs:/mnt/saunextadls/raw/json/15.8.23.json"
        ],
        [
         46.21,
         1019.74,
         "151deaef-8bb0-4d9d-ac97-9d07bdbb9e80",
         25.3,
         "2023-03-08T08:12:15",
         "2023-09-27T05:49:31.989+0000",
         "dbfs:/mnt/saunextadls/raw/json/15.8.23.json"
        ],
        [
         41.84,
         1016.54,
         "cf45588d-5598-49c1-be3f-88495ddc7d4c",
         25.97,
         "1975-06-05T01:04:07",
         "2023-09-27T05:49:31.989+0000",
         "dbfs:/mnt/saunextadls/raw/json/15.8.23.json"
        ],
        [
         46.31,
         1012.66,
         "1be96470-5782-4c27-8bf8-b51c489bea9d",
         25.26,
         "2013-09-05T10:25:36",
         "2023-09-27T05:49:31.989+0000",
         "dbfs:/mnt/saunextadls/raw/json/15.8.23.json"
        ],
        [
         49.0,
         1016.44,
         "3f58c872-29e6-4240-a0ec-6ec4f331d30d",
         25.83,
         "2002-09-29T08:42:12",
         "2023-09-27T05:49:31.989+0000",
         "dbfs:/mnt/saunextadls/raw/json/15.8.23.json"
        ],
        [
         54.85,
         1011.79,
         "6c6dbe58-f9eb-4028-900c-9d0f6b78ae78",
         27.7,
         "2016-07-19T00:32:31",
         "2023-09-27T05:49:31.989+0000",
         "dbfs:/mnt/saunextadls/raw/json/15.8.23.json"
        ],
        [
         41.75,
         1015.69,
         "288ea2f6-3df1-48c7-80ec-f5a4e29717ca",
         26.22,
         "1970-10-12T22:18:36",
         "2023-09-27T05:49:31.989+0000",
         "dbfs:/mnt/saunextadls/raw/json/15.8.23.json"
        ],
        [
         42.42,
         1018.09,
         "27598fad-ad97-4879-b732-4faa2a8997fe",
         22.68,
         "2017-08-01T22:02:12",
         "2023-09-27T05:49:31.989+0000",
         "dbfs:/mnt/saunextadls/raw/json/15.8.23.json"
        ],
        [
         44.61,
         1013.01,
         "cf2f671e-c604-4375-80d5-c64e5bf3ffd1",
         20.98,
         "1998-05-14T09:05:26",
         "2023-09-27T05:49:31.989+0000",
         "dbfs:/mnt/saunextadls/raw/json/15.8.23.json"
        ],
        [
         56.57,
         1003.94,
         "2d878004-3296-4d25-a8fb-5621445dd068",
         24.45,
         "2016-01-11T09:13:37",
         "2023-09-27T05:49:31.989+0000",
         "dbfs:/mnt/saunextadls/raw/json/15.8.23.json"
        ],
        [
         49.75,
         1016.06,
         "8aaaf178-1771-4a27-9ae5-8557d13fc04d",
         22.02,
         "1986-07-19T09:49:54",
         "2023-09-27T05:49:31.989+0000",
         "dbfs:/mnt/saunextadls/raw/json/15.8.23.json"
        ],
        [
         41.61,
         1000.84,
         "508a4785-f30b-4ac0-a24e-8d837b8341a0",
         23.81,
         "1995-04-07T05:54:36",
         "2023-09-27T05:49:31.989+0000",
         "dbfs:/mnt/saunextadls/raw/json/15.8.23.json"
        ],
        [
         49.58,
         1016.46,
         "4ba14cb5-b586-4fe4-b889-7abd24c74274",
         22.68,
         "1980-01-31T18:52:42",
         "2023-09-27T05:49:31.989+0000",
         "dbfs:/mnt/saunextadls/raw/json/15.8.23.json"
        ],
        [
         53.57,
         1000.25,
         "cc54ab09-8d90-4d3b-9903-841bae88c36c",
         20.21,
         "2009-12-26T16:44:02",
         "2023-09-27T05:49:31.989+0000",
         "dbfs:/mnt/saunextadls/raw/json/15.8.23.json"
        ],
        [
         55.92,
         1012.54,
         "4fdd0994-fec6-4f23-939f-06f5c5d76479",
         22.84,
         "2014-09-04T17:25:04",
         "2023-09-27T05:49:31.989+0000",
         "dbfs:/mnt/saunextadls/raw/json/15.8.23.json"
        ],
        [
         40.81,
         1006.34,
         "872e2749-071a-461c-b227-19a1a5b604c1",
         29.52,
         "2011-10-28T21:08:17",
         "2023-09-27T05:49:31.989+0000",
         "dbfs:/mnt/saunextadls/raw/json/15.8.23.json"
        ],
        [
         56.94,
         1002.11,
         "1196a925-dfaf-4b72-9fbd-9de62b37b6d9",
         28.39,
         "2004-11-17T02:58:54",
         "2023-09-27T05:49:31.989+0000",
         "dbfs:/mnt/saunextadls/raw/json/15.8.23.json"
        ],
        [
         57.99,
         1017.18,
         "ee3505ce-1aa4-415c-bbd1-0c2e23c613a8",
         20.49,
         "1980-11-02T03:11:37",
         "2023-09-27T05:49:31.989+0000",
         "dbfs:/mnt/saunextadls/raw/json/15.8.23.json"
        ],
        [
         45.55,
         1005.51,
         "765fc871-eed5-461a-8cbb-1c868a0bf261",
         29.03,
         "2002-05-16T05:53:10",
         "2023-09-27T05:49:31.989+0000",
         "dbfs:/mnt/saunextadls/raw/json/15.8.23.json"
        ],
        [
         48.86,
         1007.2,
         "af89c966-c747-4c4e-a3b3-bcd29e9ab950",
         25.7,
         "2013-09-03T20:37:39",
         "2023-09-27T05:49:31.989+0000",
         "dbfs:/mnt/saunextadls/raw/json/15.8.23.json"
        ],
        [
         59.41,
         1005.0,
         "e50a984a-4ec8-4f81-b12c-6085a0bc080f",
         26.93,
         "2001-01-08T20:47:05",
         "2023-09-27T05:49:31.989+0000",
         "dbfs:/mnt/saunextadls/raw/json/15.8.23.json"
        ],
        [
         55.33,
         1011.76,
         "67e25be8-438d-4aff-8ce1-94c1047e06c0",
         27.37,
         "2019-08-14T15:42:52",
         "2023-09-27T05:49:31.989+0000",
         "dbfs:/mnt/saunextadls/raw/json/15.8.23.json"
        ],
        [
         47.53,
         1006.79,
         "035b4c03-ae45-4d71-9cca-d3c1a01a8316",
         27.7,
         "2013-09-22T03:27:10",
         "2023-09-27T05:49:31.989+0000",
         "dbfs:/mnt/saunextadls/raw/json/15.8.23.json"
        ],
        [
         57.13,
         1011.85,
         "9ad47cd0-7739-49ac-83fe-6587c59ee736",
         21.61,
         "1974-03-13T09:13:41",
         "2023-09-27T05:49:31.989+0000",
         "dbfs:/mnt/saunextadls/raw/json/15.8.23.json"
        ],
        [
         56.46,
         1003.11,
         "f8a80e6e-03a5-42f8-b26f-8137d823dabf",
         23.83,
         "2004-04-29T20:36:03",
         "2023-09-27T05:49:31.989+0000",
         "dbfs:/mnt/saunextadls/raw/json/15.8.23.json"
        ],
        [
         53.89,
         1018.04,
         "d93985a2-4246-4e4f-ae46-31fb346f184c",
         24.95,
         "1993-04-28T15:09:57",
         "2023-09-27T05:49:31.989+0000",
         "dbfs:/mnt/saunextadls/raw/json/15.8.23.json"
        ],
        [
         48.94,
         1014.87,
         "80d5d3b3-4198-4958-9ea8-41b72d4c5056",
         25.68,
         "1978-07-30T13:13:11",
         "2023-09-27T05:49:31.989+0000",
         "dbfs:/mnt/saunextadls/raw/json/15.8.23.json"
        ],
        [
         58.66,
         1013.89,
         "fa51684f-f345-448c-b483-1f6032f7049c",
         27.8,
         "1990-06-16T01:50:19",
         "2023-09-27T05:49:31.989+0000",
         "dbfs:/mnt/saunextadls/raw/json/15.8.23.json"
        ],
        [
         59.28,
         1007.43,
         "695c174e-d1d2-491b-aca5-c85409c52e26",
         26.73,
         "2020-02-08T10:35:08",
         "2023-09-27T05:49:31.989+0000",
         "dbfs:/mnt/saunextadls/raw/json/15.8.23.json"
        ],
        [
         58.72,
         1000.5,
         "f17edb3b-6b65-4c5b-b4ec-974a7c1d4a95",
         21.84,
         "1973-12-02T17:57:06",
         "2023-09-27T05:49:31.989+0000",
         "dbfs:/mnt/saunextadls/raw/json/15.8.23.json"
        ],
        [
         48.26,
         1001.54,
         "a359332b-9588-420e-88a9-4616f44aa208",
         29.21,
         "1991-01-22T09:17:54",
         "2023-09-27T05:49:31.989+0000",
         "dbfs:/mnt/saunextadls/raw/json/15.8.23.json"
        ],
        [
         47.2,
         1004.1,
         "a8a46f72-5c52-4709-ac81-562348958c10",
         22.44,
         "2001-01-02T23:23:47",
         "2023-09-27T05:49:31.989+0000",
         "dbfs:/mnt/saunextadls/raw/json/15.8.23.json"
        ],
        [
         47.78,
         1014.08,
         "c7e5f59f-7ad9-44c2-8639-522d3e44c036",
         27.95,
         "2004-03-28T00:25:04",
         "2023-09-27T05:49:31.989+0000",
         "dbfs:/mnt/saunextadls/raw/json/15.8.23.json"
        ],
        [
         43.5,
         1001.13,
         "59df4484-6055-47c3-854b-d22b4de58a90",
         20.73,
         "1992-03-30T13:17:54",
         "2023-09-27T05:49:31.989+0000",
         "dbfs:/mnt/saunextadls/raw/json/15.8.23.json"
        ],
        [
         40.98,
         1011.52,
         "6d09165b-2288-45fb-92b7-ed0b96c2b92d",
         21.49,
         "1998-03-15T05:53:52",
         "2023-09-27T05:49:31.989+0000",
         "dbfs:/mnt/saunextadls/raw/json/15.8.23.json"
        ],
        [
         40.01,
         1016.68,
         "ae4566b1-0ca6-40c2-8c7b-fb837975f84f",
         25.51,
         "1987-09-18T23:26:52",
         "2023-09-27T05:49:31.989+0000",
         "dbfs:/mnt/saunextadls/raw/json/15.8.23.json"
        ],
        [
         44.18,
         1010.02,
         "d5049464-b50d-4136-bfc2-5fa47c0f9953",
         20.64,
         "2007-07-30T02:14:14",
         "2023-09-27T05:49:31.989+0000",
         "dbfs:/mnt/saunextadls/raw/json/15.8.23.json"
        ],
        [
         48.42,
         1017.89,
         "7b8e8d09-d8d8-4641-9b8e-a6dfdb1448e4",
         27.87,
         "2010-06-28T03:15:16",
         "2023-09-27T05:49:31.989+0000",
         "dbfs:/mnt/saunextadls/raw/json/15.8.23.json"
        ],
        [
         53.86,
         1006.04,
         "841e4f42-e616-486d-b964-cf2a08577482",
         27.34,
         "1979-03-09T11:23:01",
         "2023-09-27T05:49:31.989+0000",
         "dbfs:/mnt/saunextadls/raw/json/15.8.23.json"
        ],
        [
         43.06,
         1000.7,
         "155bba12-080a-4700-b2ef-63e103bd0127",
         27.36,
         "1989-05-17T13:27:12",
         "2023-09-27T05:49:31.989+0000",
         "dbfs:/mnt/saunextadls/raw/json/15.8.23.json"
        ],
        [
         42.63,
         1019.77,
         "20e87425-992a-4ba0-9fb7-ae5b221b6c1e",
         27.28,
         "1988-05-08T08:11:05",
         "2023-09-27T05:49:31.989+0000",
         "dbfs:/mnt/saunextadls/raw/json/15.8.23.json"
        ],
        [
         50.8,
         1004.72,
         "30c516ec-bfd7-498a-a4d6-e7cbcaf5ac1b",
         23.56,
         "2011-02-14T20:19:33",
         "2023-09-27T05:49:31.989+0000",
         "dbfs:/mnt/saunextadls/raw/json/15.8.23.json"
        ],
        [
         58.13,
         1013.24,
         "3186ee0c-bbf3-48e7-bf0a-bb96b2fd2b6f",
         26.44,
         "1977-03-31T01:20:50",
         "2023-09-27T05:49:31.989+0000",
         "dbfs:/mnt/saunextadls/raw/json/15.8.23.json"
        ],
        [
         57.18,
         1000.78,
         "4a965731-02b9-448f-b5a0-e4c866825fc3",
         25.55,
         "1978-01-05T22:09:39",
         "2023-09-27T05:49:31.989+0000",
         "dbfs:/mnt/saunextadls/raw/json/15.8.23.json"
        ],
        [
         51.99,
         1011.53,
         "70cc99fb-b2a1-4784-accb-5a314b6f1821",
         27.53,
         "1988-03-05T01:00:23",
         "2023-09-27T05:49:31.989+0000",
         "dbfs:/mnt/saunextadls/raw/json/15.8.23.json"
        ],
        [
         41.16,
         1000.39,
         "b24be1ec-93fd-4b55-a997-7093427fdd53",
         22.77,
         "1988-09-26T02:28:12",
         "2023-09-27T05:49:31.989+0000",
         "dbfs:/mnt/saunextadls/raw/json/15.8.23.json"
        ],
        [
         49.18,
         1016.57,
         "924db1dd-9d2a-47f7-bf9c-679259c1ef06",
         26.23,
         "2009-07-16T11:13:40",
         "2023-09-27T05:49:31.989+0000",
         "dbfs:/mnt/saunextadls/raw/json/15.8.23.json"
        ],
        [
         54.05,
         1004.07,
         "6f3a10ab-99ad-4462-ab94-0635ceb01fd0",
         29.37,
         "2006-06-13T08:27:17",
         "2023-09-27T05:49:31.989+0000",
         "dbfs:/mnt/saunextadls/raw/json/15.8.23.json"
        ],
        [
         48.15,
         1016.0,
         "45d9f67e-c737-4658-99e3-afe0c7c2cd05",
         23.07,
         "2007-03-05T15:14:45",
         "2023-09-27T05:49:31.989+0000",
         "dbfs:/mnt/saunextadls/raw/json/15.8.23.json"
        ],
        [
         57.85,
         1018.07,
         "21ebed5e-0890-46ab-8139-7a275654b1a7",
         24.3,
         "1991-05-14T12:17:08",
         "2023-09-27T05:49:31.989+0000",
         "dbfs:/mnt/saunextadls/raw/json/15.8.23.json"
        ],
        [
         56.48,
         1002.67,
         "3a141a35-1814-4030-ae4e-d35cc4983507",
         29.72,
         "2018-10-08T15:36:36",
         "2023-09-27T05:49:31.989+0000",
         "dbfs:/mnt/saunextadls/raw/json/15.8.23.json"
        ],
        [
         49.75,
         1003.28,
         "f39f44b3-2d7f-43f1-beb3-c38ba6ffc06d",
         27.72,
         "1970-11-16T21:30:00",
         "2023-09-27T05:49:31.989+0000",
         "dbfs:/mnt/saunextadls/raw/json/15.8.23.json"
        ],
        [
         51.81,
         1008.68,
         "fd0ea9b9-587a-42f5-ad5b-87dfcba996f2",
         27.54,
         "1977-03-25T00:40:35",
         "2023-09-27T05:49:31.989+0000",
         "dbfs:/mnt/saunextadls/raw/json/15.8.23.json"
        ],
        [
         54.28,
         1009.1,
         "57fc741f-186c-4031-8d80-4d9d22a14c4a",
         28.1,
         "1989-11-05T15:09:05",
         "2023-09-27T05:49:31.989+0000",
         "dbfs:/mnt/saunextadls/raw/json/15.8.23.json"
        ],
        [
         55.88,
         1002.37,
         "28de8c73-d7e6-4d31-9ffa-f923724f50ea",
         23.95,
         "2007-01-14T03:03:18",
         "2023-09-27T05:49:31.989+0000",
         "dbfs:/mnt/saunextadls/raw/json/15.8.23.json"
        ],
        [
         40.19,
         1009.17,
         "6481dba3-5472-4623-abfb-03a5910d0ecd",
         26.31,
         "2016-10-31T13:33:35",
         "2023-09-27T05:49:31.989+0000",
         "dbfs:/mnt/saunextadls/raw/json/15.8.23.json"
        ],
        [
         55.49,
         1019.59,
         "6fa34ee1-5be6-4bc6-a003-cca83262e703",
         21.71,
         "2007-02-03T18:07:20",
         "2023-09-27T05:49:31.989+0000",
         "dbfs:/mnt/saunextadls/raw/json/15.8.23.json"
        ],
        [
         49.32,
         1013.26,
         "981a493d-c107-4ac4-bc70-a7505cd0d03c",
         24.47,
         "2010-06-06T10:02:36",
         "2023-09-27T05:49:31.989+0000",
         "dbfs:/mnt/saunextadls/raw/json/15.8.23.json"
        ],
        [
         44.78,
         1015.16,
         "c7cb76c0-5a1e-4763-89ea-b7a556adfe79",
         22.08,
         "2003-04-22T04:21:09",
         "2023-09-27T05:49:31.989+0000",
         "dbfs:/mnt/saunextadls/raw/json/15.8.23.json"
        ],
        [
         51.46,
         1015.2,
         "9ba60dc3-4242-43f4-b54a-64f7d817b932",
         27.43,
         "2020-08-10T18:40:11",
         "2023-09-27T05:49:31.989+0000",
         "dbfs:/mnt/saunextadls/raw/json/15.8.23.json"
        ],
        [
         43.64,
         1011.59,
         "a70b4c88-4b2d-4889-8ee2-934c52ba46a9",
         27.44,
         "1983-08-19T21:38:32",
         "2023-09-27T05:49:31.989+0000",
         "dbfs:/mnt/saunextadls/raw/json/15.8.23.json"
        ],
        [
         53.27,
         1003.74,
         "c11931a8-f3cd-4c41-9e70-abd963ee6464",
         24.65,
         "1999-01-11T12:16:58",
         "2023-09-27T05:49:31.989+0000",
         "dbfs:/mnt/saunextadls/raw/json/15.8.23.json"
        ],
        [
         48.97,
         1007.42,
         "d3fdfab8-5fa4-47f5-a98d-3ad4089e9125",
         25.46,
         "1997-12-30T18:43:21",
         "2023-09-27T05:49:31.989+0000",
         "dbfs:/mnt/saunextadls/raw/json/15.8.23.json"
        ],
        [
         46.44,
         1013.29,
         "f7429ad7-d88c-4a7c-80d5-82969a022bac",
         23.5,
         "2020-12-17T15:29:15",
         "2023-09-27T05:49:31.989+0000",
         "dbfs:/mnt/saunextadls/raw/json/15.8.23.json"
        ],
        [
         43.02,
         1002.17,
         "3f66bb85-4da7-4f63-b89b-d382066147d1",
         26.01,
         "1978-10-18T09:30:36",
         "2023-09-27T05:49:31.989+0000",
         "dbfs:/mnt/saunextadls/raw/json/15.8.23.json"
        ],
        [
         52.05,
         1015.81,
         "5373b0a0-1742-4ebe-8c21-4d60198b6ffa",
         29.51,
         "2001-09-14T23:22:21",
         "2023-09-27T05:49:31.989+0000",
         "dbfs:/mnt/saunextadls/raw/json/15.8.23.json"
        ],
        [
         52.69,
         1003.77,
         "19f5011e-e1c9-418f-824f-55debbf5cd2b",
         21.53,
         "1987-11-11T10:59:25",
         "2023-09-27T05:49:31.989+0000",
         "dbfs:/mnt/saunextadls/raw/json/15.8.23.json"
        ],
        [
         51.2,
         1000.19,
         "a13882b6-eee8-4ab6-a9db-1d58f5a6a5a5",
         22.01,
         "1999-12-30T02:12:10",
         "2023-09-27T05:49:31.989+0000",
         "dbfs:/mnt/saunextadls/raw/json/15.8.23.json"
        ],
        [
         49.78,
         1006.43,
         "2f9860c6-f01a-42a3-83a5-3bf19ba4c56d",
         22.77,
         "1982-02-17T01:12:29",
         "2023-09-27T05:49:31.989+0000",
         "dbfs:/mnt/saunextadls/raw/json/15.8.23.json"
        ],
        [
         40.97,
         1004.44,
         "e43fab25-9d87-4551-801f-9a8cf35a3003",
         28.27,
         "2011-12-08T15:17:23",
         "2023-09-27T05:49:31.989+0000",
         "dbfs:/mnt/saunextadls/raw/json/15.8.23.json"
        ],
        [
         53.53,
         1005.84,
         "f76c6fc4-cb95-462b-8366-7c0ad5d7647d",
         27.42,
         "2017-10-20T09:11:13",
         "2023-09-27T05:49:31.989+0000",
         "dbfs:/mnt/saunextadls/raw/json/15.8.23.json"
        ],
        [
         54.07,
         1017.22,
         "ac11ce12-7aa7-4842-9c51-efe4e1d1b92f",
         28.89,
         "2012-03-07T02:27:48",
         "2023-09-27T05:49:31.989+0000",
         "dbfs:/mnt/saunextadls/raw/json/15.8.23.json"
        ],
        [
         43.29,
         1012.14,
         "23cb0396-3bb0-4e9e-b342-065c2c36eb0c",
         21.47,
         "1999-07-26T02:30:33",
         "2023-09-27T05:49:31.989+0000",
         "dbfs:/mnt/saunextadls/raw/json/15.8.23.json"
        ],
        [
         50.15,
         1003.17,
         "27abc9fc-34e1-499c-81bc-4d89aa7fe771",
         29.2,
         "1989-02-25T14:50:03",
         "2023-09-27T05:49:31.989+0000",
         "dbfs:/mnt/saunextadls/raw/json/15.8.23.json"
        ],
        [
         42.39,
         1011.38,
         "a843b9c6-cfb7-4625-b465-9641edcb431c",
         29.55,
         "2008-01-08T09:18:10",
         "2023-09-27T05:49:31.989+0000",
         "dbfs:/mnt/saunextadls/raw/json/15.8.23.json"
        ],
        [
         46.32,
         1009.1,
         "61b0094b-5c90-499f-831f-e738414344f7",
         26.34,
         "1973-01-02T08:18:17",
         "2023-09-27T05:49:31.989+0000",
         "dbfs:/mnt/saunextadls/raw/json/15.8.23.json"
        ],
        [
         51.14,
         1004.84,
         "f021522a-0d57-4b75-96a1-4df3535898c2",
         26.51,
         "1990-07-27T16:01:30",
         "2023-09-27T05:49:31.989+0000",
         "dbfs:/mnt/saunextadls/raw/json/15.8.23.json"
        ],
        [
         58.0,
         1007.47,
         "9ec49dac-c82f-4218-bad8-c5c8631bbc55",
         27.97,
         "1999-01-17T15:07:09",
         "2023-09-27T05:49:31.989+0000",
         "dbfs:/mnt/saunextadls/raw/json/15.8.23.json"
        ],
        [
         54.71,
         1004.58,
         "e06133b3-f6b3-4600-8e3e-1417ff595426",
         26.83,
         "1997-04-09T07:07:38",
         "2023-09-27T05:49:31.989+0000",
         "dbfs:/mnt/saunextadls/raw/json/15.8.23.json"
        ],
        [
         54.81,
         1010.99,
         "cff172c2-4747-4b38-881f-b0787e0ab0e3",
         23.52,
         "1984-08-15T21:38:07",
         "2023-09-27T05:49:31.989+0000",
         "dbfs:/mnt/saunextadls/raw/json/15.8.23.json"
        ],
        [
         54.2,
         1015.0,
         "c636c7d9-ce13-4154-b5de-5b56f3718997",
         26.76,
         "1983-08-12T02:49:13",
         "2023-09-27T05:49:31.989+0000",
         "dbfs:/mnt/saunextadls/raw/json/15.8.23.json"
        ],
        [
         50.09,
         1012.79,
         "eed098e7-1cb1-421e-bb68-2ea109c46198",
         23.46,
         "2002-01-15T12:06:13",
         "2023-09-27T05:49:31.989+0000",
         "dbfs:/mnt/saunextadls/raw/json/15.8.23.json"
        ],
        [
         49.43,
         1009.31,
         "ba3b9325-25f8-4366-a085-5f014715cb08",
         24.77,
         "2021-05-28T16:16:19",
         "2023-09-27T05:49:31.989+0000",
         "dbfs:/mnt/saunextadls/raw/json/15.8.23.json"
        ],
        [
         41.53,
         1001.67,
         "f3b6b54c-cba8-4c98-8e41-0fc88ec0abba",
         25.22,
         "1984-01-12T19:20:48",
         "2023-09-27T05:49:31.989+0000",
         "dbfs:/mnt/saunextadls/raw/json/15.8.23.json"
        ],
        [
         45.57,
         1000.78,
         "f10eb9b2-c8ef-471c-83d9-08a667cf3632",
         20.65,
         "2011-04-17T04:59:05",
         "2023-09-27T05:49:31.989+0000",
         "dbfs:/mnt/saunextadls/raw/json/15.8.23.json"
        ],
        [
         42.99,
         1001.24,
         "2dac0fbf-93fe-4863-bf7e-a5dd1406df09",
         27.34,
         "1987-06-03T16:50:20",
         "2023-09-27T05:49:31.989+0000",
         "dbfs:/mnt/saunextadls/raw/json/15.8.23.json"
        ],
        [
         53.79,
         1012.19,
         "6e7e6d6a-1e91-4b79-bd99-44ddd682e0b8",
         26.69,
         "1997-03-29T11:10:14",
         "2023-09-27T05:49:31.989+0000",
         "dbfs:/mnt/saunextadls/raw/json/15.8.23.json"
        ],
        [
         57.62,
         1000.68,
         "ffa12684-0429-4941-b1c1-98ee120496fe",
         28.11,
         "1994-12-10T11:38:18",
         "2023-09-27T05:49:31.989+0000",
         "dbfs:/mnt/saunextadls/raw/json/15.8.23.json"
        ],
        [
         50.84,
         1002.2,
         "afa03088-d12a-499d-8a3b-bacdbe0d869a",
         24.95,
         "1974-04-24T02:48:17",
         "2023-09-27T05:49:31.989+0000",
         "dbfs:/mnt/saunextadls/raw/json/15.8.23.json"
        ],
        [
         59.9,
         1018.95,
         "26ab72b9-fb37-417c-b271-d85f7ceda550",
         28.69,
         "1981-04-29T00:45:58",
         "2023-09-27T05:49:31.989+0000",
         "dbfs:/mnt/saunextadls/raw/json/15.8.23.json"
        ],
        [
         56.2,
         1007.29,
         "f9bbf424-5ab2-4fb9-90d4-05f574ee12c4",
         21.69,
         "2015-04-24T12:13:05",
         "2023-09-27T05:49:31.989+0000",
         "dbfs:/mnt/saunextadls/raw/json/15.8.23.json"
        ],
        [
         40.87,
         1017.19,
         "576ac32b-ac1a-4f94-8033-824487b1788f",
         21.08,
         "1982-04-17T08:49:30",
         "2023-09-27T05:49:31.989+0000",
         "dbfs:/mnt/saunextadls/raw/json/15.8.23.json"
        ],
        [
         46.27,
         1008.81,
         "c2de3820-5e57-445f-a1b0-133c8c105ee3",
         26.18,
         "1985-02-19T00:39:08",
         "2023-09-27T05:49:31.989+0000",
         "dbfs:/mnt/saunextadls/raw/json/15.8.23.json"
        ],
        [
         53.16,
         1008.0,
         "e59e46ae-2661-4947-878b-367fb498dce1",
         23.16,
         "2004-10-19T18:18:29",
         "2023-09-27T05:49:31.989+0000",
         "dbfs:/mnt/saunextadls/raw/json/15.8.23.json"
        ],
        [
         40.62,
         1016.96,
         "707e720d-dc9d-4c0b-b89b-2560b7d42038",
         28.81,
         "1975-11-27T06:21:37",
         "2023-09-27T05:49:31.989+0000",
         "dbfs:/mnt/saunextadls/raw/json/15.8.23.json"
        ],
        [
         58.22,
         1004.99,
         "3f6e1731-cfc8-4a99-9ecf-c2b8fbccc5e5",
         22.87,
         "2008-09-18T12:32:16",
         "2023-09-27T05:49:31.989+0000",
         "dbfs:/mnt/saunextadls/raw/json/15.8.23.json"
        ],
        [
         57.66,
         1019.56,
         "74e44ff5-fe8d-4383-81c7-2b67c97c31e9",
         23.87,
         "1999-03-10T09:08:35",
         "2023-09-27T05:49:31.989+0000",
         "dbfs:/mnt/saunextadls/raw/json/15.8.23.json"
        ],
        [
         55.89,
         1003.6,
         "f76917f7-fca8-45c8-a221-06bc8e371844",
         27.65,
         "2016-07-29T19:48:51",
         "2023-09-27T05:49:31.989+0000",
         "dbfs:/mnt/saunextadls/raw/json/15.8.23.json"
        ],
        [
         52.93,
         1002.08,
         "e188e5ef-8e65-450f-b4a8-8a75bf147b51",
         20.39,
         "2008-04-01T17:33:32",
         "2023-09-27T05:49:31.989+0000",
         "dbfs:/mnt/saunextadls/raw/json/15.8.23.json"
        ]
       ],
       "datasetInfos": [],
       "dbfsResultPath": null,
       "isJsonSchema": true,
       "metadata": {},
       "overflow": false,
       "plotOptions": {
        "customPlotOptions": {},
        "displayType": "table",
        "pivotAggregation": null,
        "pivotColumns": null,
        "xColumns": null,
        "yColumns": null
       },
       "removedWidgets": [],
       "schema": [
        {
         "metadata": "{}",
         "name": "humidity",
         "type": "\"double\""
        },
        {
         "metadata": "{}",
         "name": "pressure",
         "type": "\"double\""
        },
        {
         "metadata": "{}",
         "name": "sensor_id",
         "type": "\"string\""
        },
        {
         "metadata": "{}",
         "name": "temperature",
         "type": "\"double\""
        },
        {
         "metadata": "{}",
         "name": "timestamp",
         "type": "\"string\""
        },
        {
         "metadata": "{}",
         "name": "IngestionDate",
         "type": "\"timestamp\""
        },
        {
         "metadata": "{}",
         "name": "path",
         "type": "\"string\""
        }
       ],
       "type": "table"
      }
     },
     "output_type": "display_data"
    }
   ],
   "source": [
    "df1.display()"
   ]
  },
  {
   "cell_type": "code",
   "execution_count": 0,
   "metadata": {
    "application/vnd.databricks.v1+cell": {
     "cellMetadata": {
      "byteLimit": 2048000,
      "implicitDf": true,
      "rowLimit": 10000
     },
     "inputWidgets": {},
     "nuid": "869115b9-8034-49d2-bbc5-809a16e81bc3",
     "showTitle": false,
     "title": ""
    }
   },
   "outputs": [
    {
     "output_type": "display_data",
     "data": {
      "text/html": [
       "<style scoped>\n",
       "  .table-result-container {\n",
       "    max-height: 300px;\n",
       "    overflow: auto;\n",
       "  }\n",
       "  table, th, td {\n",
       "    border: 1px solid black;\n",
       "    border-collapse: collapse;\n",
       "  }\n",
       "  th, td {\n",
       "    padding: 5px;\n",
       "  }\n",
       "  th {\n",
       "    text-align: left;\n",
       "  }\n",
       "</style><div class='table-result-container'><table class='table-result'><thead style='background-color: white'><tr></tr></thead><tbody></tbody></table></div>"
      ]
     },
     "metadata": {
      "application/vnd.databricks.v1+output": {
       "addedWidgets": {},
       "aggData": [],
       "aggError": "",
       "aggOverflow": false,
       "aggSchema": [],
       "aggSeriesLimitReached": false,
       "aggType": "",
       "arguments": {},
       "columnCustomDisplayInfos": {},
       "data": [],
       "datasetInfos": [],
       "dbfsResultPath": null,
       "isJsonSchema": true,
       "metadata": {
        "dataframeName": null
       },
       "overflow": false,
       "plotOptions": {
        "customPlotOptions": {},
        "displayType": "table",
        "pivotAggregation": null,
        "pivotColumns": null,
        "xColumns": null,
        "yColumns": null
       },
       "removedWidgets": [],
       "schema": [],
       "type": "table"
      }
     },
     "output_type": "display_data"
    }
   ],
   "source": [
    "%sql\n",
    "create schema if not exists json"
   ]
  },
  {
   "cell_type": "code",
   "execution_count": 0,
   "metadata": {
    "application/vnd.databricks.v1+cell": {
     "cellMetadata": {
      "byteLimit": 2048000,
      "rowLimit": 10000
     },
     "inputWidgets": {},
     "nuid": "41f8b046-67cc-4c11-ac24-49b7ae05eb9a",
     "showTitle": false,
     "title": ""
    }
   },
   "outputs": [],
   "source": [
    "df1.write.mode(\"overwrite\").option(\"path\", \"dbfs:/mnt/saunextadls/raw/output/Saumya/json\").saveAsTable(\"json.bronze\")"
   ]
  },
  {
   "cell_type": "code",
   "execution_count": 0,
   "metadata": {
    "application/vnd.databricks.v1+cell": {
     "cellMetadata": {
      "byteLimit": 2048000,
      "implicitDf": true,
      "rowLimit": 10000
     },
     "inputWidgets": {},
     "nuid": "87225aa6-6d81-4e50-bbcd-7ac054003c9b",
     "showTitle": false,
     "title": ""
    }
   },
   "outputs": [
    {
     "output_type": "display_data",
     "data": {
      "text/html": [
       "<style scoped>\n",
       "  .table-result-container {\n",
       "    max-height: 300px;\n",
       "    overflow: auto;\n",
       "  }\n",
       "  table, th, td {\n",
       "    border: 1px solid black;\n",
       "    border-collapse: collapse;\n",
       "  }\n",
       "  th, td {\n",
       "    padding: 5px;\n",
       "  }\n",
       "  th {\n",
       "    text-align: left;\n",
       "  }\n",
       "</style><div class='table-result-container'><table class='table-result'><thead style='background-color: white'><tr><th>count(1)</th></tr></thead><tbody><tr><td>223</td></tr></tbody></table></div>"
      ]
     },
     "metadata": {
      "application/vnd.databricks.v1+output": {
       "addedWidgets": {},
       "aggData": [],
       "aggError": "",
       "aggOverflow": false,
       "aggSchema": [],
       "aggSeriesLimitReached": false,
       "aggType": "",
       "arguments": {},
       "columnCustomDisplayInfos": {},
       "data": [
        [
         223
        ]
       ],
       "datasetInfos": [],
       "dbfsResultPath": null,
       "isJsonSchema": true,
       "metadata": {
        "dataframeName": "_sqldf",
        "executionCount": 10
       },
       "overflow": false,
       "plotOptions": {
        "customPlotOptions": {},
        "displayType": "table",
        "pivotAggregation": null,
        "pivotColumns": null,
        "xColumns": null,
        "yColumns": null
       },
       "removedWidgets": [],
       "schema": [
        {
         "metadata": "{\"__autoGeneratedAlias\":\"true\"}",
         "name": "count(1)",
         "type": "\"long\""
        }
       ],
       "type": "table"
      }
     },
     "output_type": "display_data"
    }
   ],
   "source": [
    "%sql \n",
    "select count(*) from json.bronze"
   ]
  },
  {
   "cell_type": "code",
   "execution_count": 0,
   "metadata": {
    "application/vnd.databricks.v1+cell": {
     "cellMetadata": {
      "byteLimit": 2048000,
      "implicitDf": true,
      "rowLimit": 10000
     },
     "inputWidgets": {},
     "nuid": "f307438d-4102-41c8-a5cd-abd355d87637",
     "showTitle": false,
     "title": ""
    }
   },
   "outputs": [
    {
     "output_type": "display_data",
     "data": {
      "text/html": [
       "<style scoped>\n",
       "  .table-result-container {\n",
       "    max-height: 300px;\n",
       "    overflow: auto;\n",
       "  }\n",
       "  table, th, td {\n",
       "    border: 1px solid black;\n",
       "    border-collapse: collapse;\n",
       "  }\n",
       "  th, td {\n",
       "    padding: 5px;\n",
       "  }\n",
       "  th {\n",
       "    text-align: left;\n",
       "  }\n",
       "</style><div class='table-result-container'><table class='table-result'><thead style='background-color: white'><tr><th>count(1)</th></tr></thead><tbody><tr><td>443</td></tr></tbody></table></div>"
      ]
     },
     "metadata": {
      "application/vnd.databricks.v1+output": {
       "addedWidgets": {},
       "aggData": [],
       "aggError": "",
       "aggOverflow": false,
       "aggSchema": [],
       "aggSeriesLimitReached": false,
       "aggType": "",
       "arguments": {},
       "columnCustomDisplayInfos": {},
       "data": [
        [
         443
        ]
       ],
       "datasetInfos": [],
       "dbfsResultPath": null,
       "isJsonSchema": true,
       "metadata": {
        "dataframeName": "_sqldf",
        "executionCount": 13
       },
       "overflow": false,
       "plotOptions": {
        "customPlotOptions": {},
        "displayType": "table",
        "pivotAggregation": null,
        "pivotColumns": null,
        "xColumns": null,
        "yColumns": null
       },
       "removedWidgets": [],
       "schema": [
        {
         "metadata": "{\"__autoGeneratedAlias\":\"true\"}",
         "name": "count(1)",
         "type": "\"long\""
        }
       ],
       "type": "table"
      }
     },
     "output_type": "display_data"
    }
   ],
   "source": [
    "%sql\n",
    "select count(*) from json.bronze"
   ]
  },
  {
   "cell_type": "code",
   "execution_count": 0,
   "metadata": {
    "application/vnd.databricks.v1+cell": {
     "cellMetadata": {},
     "inputWidgets": {},
     "nuid": "6e51b8ac-5dbe-4253-adf5-a4fd68a73bfc",
     "showTitle": false,
     "title": ""
    }
   },
   "outputs": [],
   "source": []
  }
 ],
 "metadata": {
  "application/vnd.databricks.v1+notebook": {
   "dashboards": [],
   "language": "python",
   "notebookMetadata": {
    "mostRecentlyExecutedCommandWithImplicitDF": {
     "commandId": 4378632227520757,
     "dataframes": [
      "_sqldf"
     ]
    },
    "pythonIndentUnit": 4
   },
   "notebookName": "ETL Json",
   "widgets": {}
  }
 },
 "nbformat": 4,
 "nbformat_minor": 0
}
